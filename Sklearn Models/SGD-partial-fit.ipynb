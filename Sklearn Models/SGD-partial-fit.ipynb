{
 "metadata": {
  "kernelspec": {
   "language": "python",
   "display_name": "Python 3",
   "name": "python3"
  },
  "language_info": {
   "pygments_lexer": "ipython3",
   "nbconvert_exporter": "python",
   "version": "3.6.4",
   "file_extension": ".py",
   "codemirror_mode": {
    "name": "ipython",
    "version": 3
   },
   "name": "python",
   "mimetype": "text/x-python"
  }
 },
 "nbformat_minor": 4,
 "nbformat": 4,
 "cells": [
  {
   "cell_type": "code",
   "source": [
    "\n",
    "# notebook to implement models\n",
    "import numpy as np\n",
    "import pandas as pd\n",
    "import matplotlib.pyplot as plt\n",
    "import sklearn.model_selection as model_selection\n",
    "import seaborn as sns\n",
    "from sklearn.preprocessing import PolynomialFeatures\n",
    "from sklearn.naive_bayes import GaussianNB\n",
    "from sklearn.linear_model import LinearRegression\n",
    "from sklearn import svm\n",
    "from sklearn.decomposition import PCA\n",
    "from sklearn import metrics\n",
    "from sklearn.linear_model import LogisticRegression\n",
    "from sklearn.metrics import accuracy_score\n",
    "from sklearn.metrics import mean_squared_error, r2_score\n",
    "import sklearn.preprocessing as preprocessing\n",
    "from sklearn.preprocessing import StandardScaler\n",
    "from sklearn.model_selection import train_test_split\n",
    "from sklearn.linear_model import SGDClassifier\n",
    "from tqdm.notebook import tqdm\n",
    "from sklearn.linear_model import SGDClassifier\n",
    "from sklearn.ensemble import GradientBoostingClassifier\n",
    "from tqdm.notebook import tqdm\n",
    "from xgboost import XGBClassifier\n"
   ],
   "metadata": {
    "_uuid": "8f2839f25d086af736a60e9eeb907d3b93b6e0e5",
    "_cell_guid": "b1076dfc-b9ad-4769-8c92-a6c4dae69d19",
    "execution": {
     "iopub.status.busy": "2021-12-06T11:58:22.487654Z",
     "iopub.execute_input": "2021-12-06T11:58:22.488879Z",
     "iopub.status.idle": "2021-12-06T11:58:23.243059Z",
     "shell.execute_reply.started": "2021-12-06T11:58:22.488693Z",
     "shell.execute_reply": "2021-12-06T11:58:23.242046Z"
    },
    "trusted": true
   },
   "execution_count": null,
   "outputs": []
  },
  {
   "cell_type": "markdown",
   "source": [
    "### Implementation of SGD classfier using partial_fit."
   ],
   "metadata": {
    "collapsed": false,
    "pycharm": {
     "name": "#%% md\n"
    }
   }
  },
  {
   "cell_type": "markdown",
   "source": [
    "##### Specifying the datatypes (as obtained from previous notebooks) for loading the data quickly. "
   ],
   "metadata": {
    "collapsed": false,
    "pycharm": {
     "name": "#%% md\n"
    }
   }
  },
  {
   "cell_type": "code",
   "source": [
    "dtypes = {\n",
    "    'MachineIdentifier': 'category',\n",
    "'Census_ProcessorCoreCount': 'float16',\n",
    "'Census_PrimaryDiskTotalCapacity': 'float32',\n",
    "'Census_SystemVolumeTotalCapacity': 'float32',\n",
    "'Census_TotalPhysicalRAM': 'float32',\n",
    "'Census_InternalPrimaryDiagonalDisplaySizeInInches': 'float16',\n",
    "'Census_InternalPrimaryDisplayResolutionHorizontal': 'float16',\n",
    "'Census_InternalPrimaryDisplayResolutionVertical': 'float16',\n",
    "'Census_InternalBatteryNumberOfCharges': 'float32',\n",
    "'Census_OSBuildRevision': 'int32',\n",
    "'Census_IsFlightsDisabled': 'float16',\n",
    "'Census_IsSecureBootEnabled': 'int8',\n",
    "'Census_IsTouchEnabled': 'int8',\n",
    "'Wdft_IsGamer': 'float16',\n",
    "'HasDetections': 'int8',\n",
    "'EngineVersion_1.1.14800.3': 'uint8',\n",
    "'EngineVersion_1.1.14901.4': 'uint8',\n",
    "'EngineVersion_1.1.15000.2': 'uint8',\n",
    "'EngineVersion_1.1.15100.1': 'uint8',\n",
    "'EngineVersion_1.1.15200.1': 'uint8',\n",
    "'EngineVersion_MinorVersions': 'uint8',\n",
    "'AppVersion_4.12.16299.15': 'uint8',\n",
    "'AppVersion_4.13.17134.1': 'uint8',\n",
    "'AppVersion_4.13.17134.228': 'uint8',\n",
    "'AppVersion_4.14.17639.18041': 'uint8',\n",
    "'AppVersion_4.16.17656.18052': 'uint8',\n",
    "'AppVersion_4.18.1806.18062': 'uint8',\n",
    "'AppVersion_4.18.1807.18075': 'uint8',\n",
    "'AppVersion_4.8.10240.17443': 'uint8',\n",
    "'AppVersion_4.9.10586.1106': 'uint8',\n",
    "'AppVersion_MinorVersions': 'uint8',\n",
    "'AVProductsInstalled_1.0': 'uint8',\n",
    "'AVProductsInstalled_2.0': 'uint8',\n",
    "'AVProductsInstalled_3.0': 'uint8',\n",
    "'AVProductsInstalled_4.0': 'uint8',\n",
    "'AVProductsInstalled_5.0': 'uint8',\n",
    "'AVProductsInstalled_6.0': 'uint8',\n",
    "'Processor_arm64': 'uint8',\n",
    "'Processor_x64': 'uint8',\n",
    "'Processor_x86': 'uint8',\n",
    "'OsBuild_10240': 'uint8',\n",
    "'OsBuild_10586': 'uint8',\n",
    "'OsBuild_14393': 'uint8',\n",
    "'OsBuild_15063': 'uint8',\n",
    "'OsBuild_16299': 'uint8',\n",
    "'OsBuild_17134': 'uint8',\n",
    "'OsBuild_MinorVersions': 'uint8',\n",
    "'OsSuite_256': 'uint8',\n",
    "'OsSuite_768': 'uint8',\n",
    "'OsSuite_784': 'uint8',\n",
    "'OsPlatformSubRelease_prers5': 'uint8',\n",
    "'OsPlatformSubRelease_rs1': 'uint8',\n",
    "'OsPlatformSubRelease_rs2': 'uint8',\n",
    "'OsPlatformSubRelease_rs3': 'uint8',\n",
    "'OsPlatformSubRelease_rs4': 'uint8',\n",
    "'OsPlatformSubRelease_th1': 'uint8',\n",
    "'OsPlatformSubRelease_th2': 'uint8',\n",
    "'OsPlatformSubRelease_windows7': 'uint8',\n",
    "'OsPlatformSubRelease_windows8.1': 'uint8',\n",
    "'OsBuildLab_10240.17443.amd64fre.th1.170602-2340': 'uint8',\n",
    "'OsBuildLab_14393.2189.amd64fre.rs1_release.180329-1711': 'uint8',\n",
    "'OsBuildLab_15063.0.amd64fre.rs2_release.170317-1834': 'uint8',\n",
    "'OsBuildLab_16299.15.amd64fre.rs3_release.170928-1534': 'uint8',\n",
    "'OsBuildLab_16299.15.x86fre.rs3_release.170928-1534': 'uint8',\n",
    "'OsBuildLab_16299.431.amd64fre.rs3_release_svc_escrow.180502-1908': 'uint8',\n",
    "'OsBuildLab_17134.1.amd64fre.rs4_release.180410-1804': 'uint8',\n",
    "'OsBuildLab_17134.1.x86fre.rs4_release.180410-1804': 'uint8',\n",
    "'OsBuildLab_MinorVersions': 'uint8',\n",
    "'SkuEdition_Cloud': 'uint8',\n",
    "'SkuEdition_Education': 'uint8',\n",
    "'SkuEdition_Enterprise': 'uint8',\n",
    "    'SkuEdition_Home': 'uint8',\n",
    "'SkuEdition_Invalid': 'uint8',\n",
    "'SkuEdition_Pro': 'uint8',\n",
    "'SkuEdition_Server': 'uint8',\n",
    "'IeVerIdentifier_105.0': 'uint8',\n",
    "'IeVerIdentifier_108.0': 'uint8',\n",
    "'IeVerIdentifier_111.0': 'uint8',\n",
    "'IeVerIdentifier_117.0': 'uint8',\n",
    "'IeVerIdentifier_135.0': 'uint8',\n",
    "'IeVerIdentifier_137.0': 'uint8',\n",
    "'IeVerIdentifier_53.0': 'uint8',\n",
    "'IeVerIdentifier_74.0': 'uint8',\n",
    "'IeVerIdentifier_98.0': 'uint8',\n",
    "'IeVerIdentifier_MinorVersions': 'uint8',\n",
    "'Census_MDC2FormFactor_AllInOne': 'uint8',\n",
    "'Census_MDC2FormFactor_Convertible': 'uint8',\n",
    "'Census_MDC2FormFactor_Desktop': 'uint8',\n",
    "'Census_MDC2FormFactor_Detachable': 'uint8',\n",
    "'Census_MDC2FormFactor_Census_MDC2FormFactor': 'uint8',\n",
    "'Census_MDC2FormFactor_Notebook': 'uint8',\n",
    "'Census_MDC2FormFactor_PCOther': 'uint8',\n",
    "'Census_ProcessorManufacturerIdentifier_1.0': 'uint8',\n",
    "'Census_ProcessorManufacturerIdentifier_5.0': 'uint8',\n",
    "'Census_ProcessorManufacturerIdentifier_Minor': 'uint8',\n",
    "'Census_PrimaryDiskTypeName_HDD': 'uint8',\n",
    "'Census_PrimaryDiskTypeName_SSD': 'uint8',\n",
    "'Census_PrimaryDiskTypeName_UNKNOWN': 'uint8',\n",
    "'Census_PrimaryDiskTypeName_Unspecified': 'uint8',\n",
    "'Census_HasOpticalDiskDrive_0': 'uint8',\n",
    "'Census_HasOpticalDiskDrive_1': 'uint8',\n",
    "'Census_ChassisTypeName_AllinOne': 'uint8',\n",
    "'Census_ChassisTypeName_Desktop': 'uint8',\n",
    "'Census_ChassisTypeName_Laptop': 'uint8',\n",
    "'Census_ChassisTypeName_MinorVersions': 'uint8',\n",
    "'Census_ChassisTypeName_Notebook': 'uint8',\n",
    "'Census_ChassisTypeName_Portable': 'uint8',\n",
    "'Census_PowerPlatformRoleName_Desktop': 'uint8',\n",
    "'Census_PowerPlatformRoleName_MinorVersions': 'uint8',\n",
    "'Census_PowerPlatformRoleName_Mobile': 'uint8',\n",
    "'Census_PowerPlatformRoleName_Slate': 'uint8',\n",
    "'Census_OSArchitecture_amd64': 'uint8',\n",
    "'Census_OSArchitecture_arm64': 'uint8',\n",
    "'Census_OSArchitecture_x86': 'uint8',\n",
    "'Census_OSBranch_MinorVersions': 'uint8',\n",
    "'Census_OSBranch_rs1_release': 'uint8',\n",
    "'Census_OSBranch_rs2_release': 'uint8',\n",
    "'Census_OSBranch_rs3_release': 'uint8',\n",
    "'Census_OSBranch_rs3_release_svc_escrow': 'uint8',\n",
    "'Census_OSBranch_rs4_release': 'uint8',\n",
    "'Census_OSBranch_th1_st1': 'uint8',\n",
    "'Census_OSBranch_th2_release': 'uint8',\n",
    "'Census_OSBranch_th2_release_sec': 'uint8',\n",
    "'Census_OSBuildNumber_10586': 'uint8',\n",
    "'Census_OSBuildNumber_14393': 'uint8',\n",
    "'Census_OSBuildNumber_15063': 'uint8',\n",
    "'Census_OSBuildNumber_16299': 'uint8',\n",
    "'Census_OSBuildNumber_17134': 'uint8',\n",
    "'Census_OSBuildNumber_MinorVersions': 'uint8',\n",
    "'Census_OSEdition_Core': 'uint8',\n",
    "'Census_OSEdition_CoreCountrySpecific': 'uint8',\n",
    "'Census_OSEdition_CoreSingleLanguage': 'uint8',\n",
    "'Census_OSEdition_MinorVersions': 'uint8',\n",
    "'Census_OSEdition_Professional': 'uint8',\n",
    "'Census_OSSkuName_CORE': 'uint8',\n",
    "'Census_OSSkuName_CORE_COUNTRYSPECIFIC': 'uint8',\n",
    "'Census_OSSkuName_CORE_SINGLELANGUAGE': 'uint8',\n",
    "'Census_OSSkuName_MinorVersions': 'uint8',\n",
    "'Census_OSSkuName_PROFESSIONAL': 'uint8',\n",
    "'Census_OSInstallTypeName_Clean': 'uint8',\n",
    "'Census_OSInstallTypeName_CleanPCRefresh': 'uint8',\n",
    "'Census_OSInstallTypeName_IBSClean': 'uint8',\n",
    "'Census_OSInstallTypeName_Other': 'uint8',\n",
    "'Census_OSInstallTypeName_Refresh': 'uint8',\n",
    "'Census_OSInstallTypeName_Reset': 'uint8',\n",
    "'Census_OSInstallTypeName_UUPUpgrade': 'uint8',\n",
    "'Census_OSInstallTypeName_Update': 'uint8',\n",
    "'Census_OSInstallTypeName_Upgrade': 'uint8',\n",
    "'Census_OSInstallLanguageIdentifier_10.0': 'uint8',\n",
    "'Census_OSInstallLanguageIdentifier_14.0': 'uint8',\n",
    "'Census_OSInstallLanguageIdentifier_18.0': 'uint8',\n",
    "'Census_OSInstallLanguageIdentifier_20.0': 'uint8',\n",
    "'Census_OSInstallLanguageIdentifier_24.0': 'uint8',\n",
    "'Census_OSInstallLanguageIdentifier_25.0': 'uint8',\n",
    "'Census_OSInstallLanguageIdentifier_26.0': 'uint8',\n",
    "'Census_OSInstallLanguageIdentifier_27.0': 'uint8',\n",
    "'Census_OSInstallLanguageIdentifier_29.0': 'uint8',\n",
    "'Census_OSInstallLanguageIdentifier_35.0': 'uint8',\n",
    "'Census_OSInstallLanguageIdentifier_37.0': 'uint8',\n",
    "'Census_OSInstallLanguageIdentifier_39.0': 'uint8',\n",
    "'Census_OSInstallLanguageIdentifier_5.0': 'uint8',\n",
    "'Census_OSInstallLanguageIdentifier_7.0': 'uint8',\n",
    "'Census_OSInstallLanguageIdentifier_8.0': 'uint8',\n",
    "'Census_OSInstallLanguageIdentifier_9.0': 'uint8',\n",
    "'Census_OSInstallLanguageIdentifier_MinorVersions': 'uint8',\n",
    "'Census_OSUILocaleIdentifier_109': 'uint8',\n",
    "'Census_OSUILocaleIdentifier_115': 'uint8',\n",
    "'Census_OSUILocaleIdentifier_119': 'uint8',\n",
    "'Census_OSUILocaleIdentifier_120': 'uint8',\n",
    "'Census_OSUILocaleIdentifier_125': 'uint8',\n",
    "'Census_OSUILocaleIdentifier_148': 'uint8',\n",
    "'Census_OSUILocaleIdentifier_158': 'uint8',\n",
    "'Census_OSUILocaleIdentifier_160': 'uint8',\n",
    "'Census_OSUILocaleIdentifier_26': 'uint8',\n",
    "'Census_OSUILocaleIdentifier_30': 'uint8',\n",
    "'Census_OSUILocaleIdentifier_31': 'uint8',\n",
    "'Census_OSUILocaleIdentifier_34': 'uint8',\n",
    "'Census_OSUILocaleIdentifier_35': 'uint8',\n",
    "'Census_OSUILocaleIdentifier_49': 'uint8',\n",
    "'Census_OSUILocaleIdentifier_72': 'uint8',\n",
    "'Census_OSUILocaleIdentifier_83': 'uint8',\n",
    "'Census_OSUILocaleIdentifier_MinorVersions': 'uint8',\n",
    "'Census_OSWUAutoUpdateOptionsName_AutoInstallAndRebootAtMaintenanceTime': 'uint8',\n",
    "'Census_OSWUAutoUpdateOptionsName_DownloadNotify': 'uint8',\n",
    "'Census_OSWUAutoUpdateOptionsName_FullAuto': 'uint8',\n",
    "'Census_OSWUAutoUpdateOptionsName_Notify': 'uint8',\n",
    "'Census_OSWUAutoUpdateOptionsName_Off': 'uint8',\n",
    "'Census_OSWUAutoUpdateOptionsName_UNKNOWN': 'uint8',\n",
    "'Census_FlightRing_MinorVersions': 'uint8',\n",
    "'Census_FlightRing_NOT_SET': 'uint8',\n",
    "'Census_FlightRing_Retail': 'uint8',\n",
    "'Census_FlightRing_Unknown': 'uint8',\n",
    "'Census_FirmwareManufacturerIdentifier_142.0': 'uint8',\n",
    "'Census_FirmwareManufacturerIdentifier_355.0': 'uint8',\n",
    "'Census_FirmwareManufacturerIdentifier_500.0': 'uint8',\n",
    "'Census_FirmwareManufacturerIdentifier_513.0': 'uint8',\n",
    "'Census_FirmwareManufacturerIdentifier_554.0': 'uint8',\n",
    "'Census_FirmwareManufacturerIdentifier_556.0': 'uint8',\n",
    "'Census_FirmwareManufacturerIdentifier_628.0': 'uint8',\n",
    "'Census_FirmwareManufacturerIdentifier_807.0': 'uint8',\n",
    "'Census_FirmwareManufacturerIdentifier_93.0': 'uint8',\n",
    "'Census_FirmwareManufacturerIdentifier_MinorVersions': 'uint8',\n",
    "'Wdft_RegionIdentifier_1.0': 'uint8',\n",
    "'Wdft_RegionIdentifier_2.0': 'uint8',\n",
    "'Wdft_RegionIdentifier_3.0': 'uint8',\n",
    "'Wdft_RegionIdentifier_4.0': 'uint8',\n",
    "'Wdft_RegionIdentifier_5.0': 'uint8',\n",
    "'Wdft_RegionIdentifier_6.0': 'uint8',\n",
    "'Wdft_RegionIdentifier_7.0': 'uint8',\n",
    "'Wdft_RegionIdentifier_8.0': 'uint8',\n",
    "'Wdft_RegionIdentifier_9.0': 'uint8',\n",
    "'Wdft_RegionIdentifier_10.0': 'uint8',\n",
    "'Wdft_RegionIdentifier_11.0': 'uint8',\n",
    "'Wdft_RegionIdentifier_12.0': 'uint8',\n",
    "'Wdft_RegionIdentifier_13.0': 'uint8',\n",
    "'Wdft_RegionIdentifier_14.0': 'uint8',\n",
    "'Wdft_RegionIdentifier_15.0': 'uint8',\n",
    "'Census_GenuineStateName_INVALID_LICENSE': 'uint8',\n",
    "'Census_GenuineStateName_IS_GENUINE': 'uint8',\n",
    "'Census_GenuineStateName_OFFLINE': 'uint8',\n",
    "'Census_GenuineStateName_UNKNOWN': 'uint8',\n",
    "'Census_ActivationChannel_OEM:DM': 'uint8',\n",
    "'Census_ActivationChannel_OEM:NONSLP': 'uint8',\n",
    "'Census_ActivationChannel_Retail': 'uint8',\n",
    "'Census_ActivationChannel_Retail:TB:Eval': 'uint8',\n",
    "'Census_ActivationChannel_Volume:GVLK': 'uint8',\n",
    "'Census_ActivationChannel_Volume:MAK': 'uint8'\n",
    "}"
   ],
   "metadata": {
    "_kg_hide-input": true,
    "_kg_hide-output": true,
    "execution": {
     "iopub.status.busy": "2021-12-06T11:58:23.249064Z",
     "iopub.execute_input": "2021-12-06T11:58:23.249395Z",
     "iopub.status.idle": "2021-12-06T11:58:23.288046Z",
     "shell.execute_reply.started": "2021-12-06T11:58:23.249358Z",
     "shell.execute_reply": "2021-12-06T11:58:23.286765Z"
    },
    "trusted": true
   },
   "execution_count": null,
   "outputs": []
  },
  {
   "cell_type": "code",
   "source": [
    "test_df = pd.read_csv('../input/test-data-modified/test_df.csv', dtype = dtypes)"
   ],
   "metadata": {
    "execution": {
     "iopub.status.busy": "2021-12-06T11:58:23.33177Z",
     "iopub.execute_input": "2021-12-06T11:58:23.332649Z",
     "iopub.status.idle": "2021-12-06T11:59:01.638815Z",
     "shell.execute_reply.started": "2021-12-06T11:58:23.33261Z",
     "shell.execute_reply": "2021-12-06T11:59:01.637849Z"
    },
    "trusted": true
   },
   "execution_count": null,
   "outputs": []
  },
  {
   "cell_type": "code",
   "source": [
    "test_df.head()"
   ],
   "metadata": {
    "execution": {
     "iopub.status.busy": "2021-12-06T11:59:01.640676Z",
     "iopub.execute_input": "2021-12-06T11:59:01.64096Z",
     "iopub.status.idle": "2021-12-06T11:59:01.674894Z",
     "shell.execute_reply.started": "2021-12-06T11:59:01.640925Z",
     "shell.execute_reply": "2021-12-06T11:59:01.673856Z"
    },
    "trusted": true
   },
   "execution_count": null,
   "outputs": []
  },
  {
   "cell_type": "markdown",
   "source": [
    "##### The chunk size (20000 here) determines that the data here will be read and processed in chunks, to prevent a memory overload. "
   ],
   "metadata": {
    "collapsed": false,
    "pycharm": {
     "name": "#%% md\n"
    }
   }
  },
  {
   "cell_type": "code",
   "source": [
    "#clf = SGDClassifier(alpha=.0001, loss='log', penalty='l2', n_jobs=-1, shuffle=True)\n",
    "clf = XGBClassifier()\n",
    "chunksize = 20000\n",
    "for train_df in tqdm(pd.read_csv(\"../input/train-data-modified/train_df.csv\", dtype = dtypes, chunksize=chunksize, iterator=True)):\n",
    "    X = train_df.drop(['HasDetections', 'MachineIdentifier'], axis=1)\n",
    "    Y = train_df['HasDetections']\n",
    "    clf.partial_fit(X, Y, classes=[0,1])"
   ],
   "metadata": {
    "execution": {
     "iopub.status.busy": "2021-12-06T11:59:01.714044Z",
     "iopub.execute_input": "2021-12-06T11:59:01.715072Z",
     "iopub.status.idle": "2021-12-06T11:59:02.292888Z",
     "shell.execute_reply.started": "2021-12-06T11:59:01.715029Z",
     "shell.execute_reply": "2021-12-06T11:59:02.29127Z"
    },
    "trusted": true
   },
   "execution_count": null,
   "outputs": []
  },
  {
   "cell_type": "code",
   "source": "kaggle_test_X = test_df.drop(columns=\"MachineIdentifier\")\nkaggle_test_yhat = clf.predict_proba(kaggle_test_X)[:, -1] # predicting the probabilities\ntest_df[\"HasDetections\"] = kaggle_test_yhat\nto_submit = test_df[[\"MachineIdentifier\", \"HasDetections\"]]\nto_submit.to_csv(\"class.csv\", index=False)\n",
   "metadata": {
    "execution": {
     "iopub.status.busy": "2021-12-06T11:59:02.294156Z",
     "iopub.status.idle": "2021-12-06T11:59:02.294636Z",
     "shell.execute_reply.started": "2021-12-06T11:59:02.294413Z",
     "shell.execute_reply": "2021-12-06T11:59:02.294439Z"
    },
    "trusted": true
   },
   "execution_count": null,
   "outputs": []
  },
  {
   "cell_type": "code",
   "source": "",
   "metadata": {},
   "execution_count": null,
   "outputs": []
  },
  {
   "cell_type": "code",
   "source": "",
   "metadata": {},
   "execution_count": null,
   "outputs": []
  },
  {
   "cell_type": "code",
   "source": "",
   "metadata": {},
   "execution_count": null,
   "outputs": []
  },
  {
   "cell_type": "code",
   "source": "",
   "metadata": {},
   "execution_count": null,
   "outputs": []
  },
  {
   "cell_type": "code",
   "source": "",
   "metadata": {},
   "execution_count": null,
   "outputs": []
  },
  {
   "cell_type": "code",
   "source": "'''main_X = df.drop(['HasDetections'], axis=1)\nmain_y = df['HasDetections']\nX_train, X_test, y_train, y_test = train_test_split(main_X, main_y, test_size = 0.5, random_state = 42)'''",
   "metadata": {
    "execution": {
     "iopub.status.busy": "2021-12-06T11:59:02.296523Z",
     "iopub.status.idle": "2021-12-06T11:59:02.297029Z",
     "shell.execute_reply.started": "2021-12-06T11:59:02.296846Z",
     "shell.execute_reply": "2021-12-06T11:59:02.296866Z"
    },
    "trusted": true
   },
   "execution_count": null,
   "outputs": []
  },
  {
   "cell_type": "code",
   "source": "'''chunksize = 20000\nclf = SGDClassifier(alpha=.0001, loss='log', penalty='l2', n_jobs=-1, shuffle=True)\nfor train_df in tqdm(pd.read_csv(\"/kaggle/working/train_df.csv\", dtype = dtypes, chunksize=chunksize, iterator=True)):\n    X = train_df.drop(['HasDetections', 'MachineIdentifier'], axis=1)\n    Y = train_df['HasDetections']\n    clf.partial_fit(X, Y, classes=[0,1])'''",
   "metadata": {
    "execution": {
     "iopub.status.busy": "2021-12-06T11:59:02.297955Z",
     "iopub.status.idle": "2021-12-06T11:59:02.298476Z",
     "shell.execute_reply.started": "2021-12-06T11:59:02.29824Z",
     "shell.execute_reply": "2021-12-06T11:59:02.298268Z"
    },
    "trusted": true
   },
   "execution_count": null,
   "outputs": []
  },
  {
   "cell_type": "code",
   "source": "#pca = PCA(n_components = 0.97) # hyperparameter\n#principalComponents = pca.fit_transform(X_train)",
   "metadata": {
    "execution": {
     "iopub.status.busy": "2021-12-06T11:59:02.299411Z",
     "iopub.status.idle": "2021-12-06T11:59:02.299903Z",
     "shell.execute_reply.started": "2021-12-06T11:59:02.299677Z",
     "shell.execute_reply": "2021-12-06T11:59:02.299695Z"
    },
    "trusted": true
   },
   "execution_count": null,
   "outputs": []
  },
  {
   "cell_type": "code",
   "source": "#lr = LogisticRegression()\n#lr.fit(principalComponents, y_train)",
   "metadata": {
    "execution": {
     "iopub.status.busy": "2021-12-06T11:59:02.300821Z",
     "iopub.status.idle": "2021-12-06T11:59:02.301305Z",
     "shell.execute_reply.started": "2021-12-06T11:59:02.301075Z",
     "shell.execute_reply": "2021-12-06T11:59:02.301093Z"
    },
    "trusted": true
   },
   "execution_count": null,
   "outputs": []
  },
  {
   "cell_type": "code",
   "source": "#test_principalComponents = pca.transform(X_test)",
   "metadata": {
    "execution": {
     "iopub.status.busy": "2021-12-06T11:59:02.302113Z",
     "iopub.status.idle": "2021-12-06T11:59:02.30274Z",
     "shell.execute_reply.started": "2021-12-06T11:59:02.302561Z",
     "shell.execute_reply": "2021-12-06T11:59:02.302581Z"
    },
    "trusted": true
   },
   "execution_count": null,
   "outputs": []
  },
  {
   "cell_type": "code",
   "source": "#yhat_test = lr.predict(test_principalComponents)\n#print(\"Accuracy of PCA: \", 100 * accuracy_score(y_test, yhat_test))\n#print('ROC-AUC score: ', (100 * metrics.roc_auc_score(y_test, yhat_test)))",
   "metadata": {
    "execution": {
     "iopub.status.busy": "2021-12-06T11:59:02.303576Z",
     "iopub.status.idle": "2021-12-06T11:59:02.303987Z",
     "shell.execute_reply.started": "2021-12-06T11:59:02.303828Z",
     "shell.execute_reply": "2021-12-06T11:59:02.303845Z"
    },
    "trusted": true
   },
   "execution_count": null,
   "outputs": []
  },
  {
   "cell_type": "code",
   "source": "",
   "metadata": {},
   "execution_count": null,
   "outputs": []
  },
  {
   "cell_type": "code",
   "source": "'''logreg = LogisticRegression()\nlogreg.fit(X_train, y_train)\ny_pred = logreg.predict(X_test)\n\nprint('Accuracy Score: ', (accuracy_score(y_test, y_pred)))\nprint('ROC-AUC score: ', metrics.roc_auc_score(y_test, y_pred))'''",
   "metadata": {
    "execution": {
     "iopub.status.busy": "2021-12-06T11:59:02.304908Z",
     "iopub.status.idle": "2021-12-06T11:59:02.305395Z",
     "shell.execute_reply.started": "2021-12-06T11:59:02.30516Z",
     "shell.execute_reply": "2021-12-06T11:59:02.305177Z"
    },
    "trusted": true
   },
   "execution_count": null,
   "outputs": []
  },
  {
   "cell_type": "code",
   "source": "",
   "metadata": {},
   "execution_count": null,
   "outputs": []
  },
  {
   "cell_type": "code",
   "source": "",
   "metadata": {},
   "execution_count": null,
   "outputs": []
  },
  {
   "cell_type": "code",
   "source": "",
   "metadata": {},
   "execution_count": null,
   "outputs": []
  },
  {
   "cell_type": "code",
   "source": "",
   "metadata": {},
   "execution_count": null,
   "outputs": []
  },
  {
   "cell_type": "code",
   "source": "",
   "metadata": {},
   "execution_count": null,
   "outputs": []
  },
  {
   "cell_type": "code",
   "source": "",
   "metadata": {},
   "execution_count": null,
   "outputs": []
  },
  {
   "cell_type": "code",
   "source": "",
   "metadata": {},
   "execution_count": null,
   "outputs": []
  }
 ]
}