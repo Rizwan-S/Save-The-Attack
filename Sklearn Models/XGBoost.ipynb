{
 "metadata": {
  "kernelspec": {
   "language": "python",
   "display_name": "Python 3",
   "name": "python3"
  },
  "language_info": {
   "pygments_lexer": "ipython3",
   "nbconvert_exporter": "python",
   "version": "3.6.4",
   "file_extension": ".py",
   "codemirror_mode": {
    "name": "ipython",
    "version": 3
   },
   "name": "python",
   "mimetype": "text/x-python"
  }
 },
 "nbformat_minor": 4,
 "nbformat": 4,
 "cells": [
  {
   "cell_type": "code",
   "source": [
    "# notebook to implement models\n",
    "import numpy as np\n",
    "import pandas as pd\n",
    "import matplotlib.pyplot as plt\n",
    "import sklearn.model_selection as model_selection\n",
    "import seaborn as sns\n",
    "from sklearn.preprocessing import PolynomialFeatures\n",
    "from sklearn.naive_bayes import GaussianNB\n",
    "from sklearn.linear_model import LinearRegression\n",
    "from sklearn import svm\n",
    "from sklearn.decomposition import PCA\n",
    "from sklearn import metrics\n",
    "from sklearn.linear_model import LogisticRegression\n",
    "from sklearn.metrics import accuracy_score\n",
    "from sklearn.metrics import mean_squared_error, r2_score\n",
    "import sklearn.preprocessing as preprocessing\n",
    "from sklearn.preprocessing import StandardScaler\n",
    "from sklearn.model_selection import train_test_split\n",
    "from sklearn.linear_model import SGDClassifier\n",
    "from tqdm.notebook import tqdm\n",
    "from sklearn.linear_model import SGDClassifier\n",
    "from sklearn.ensemble import GradientBoostingClassifier\n",
    "import xgboost as xgb\n"
   ],
   "metadata": {
    "_uuid": "8f2839f25d086af736a60e9eeb907d3b93b6e0e5",
    "_cell_guid": "b1076dfc-b9ad-4769-8c92-a6c4dae69d19",
    "execution": {
     "iopub.status.busy": "2021-12-14T09:15:23.251269Z",
     "iopub.execute_input": "2021-12-14T09:15:23.251605Z",
     "iopub.status.idle": "2021-12-14T09:15:25.060086Z",
     "shell.execute_reply.started": "2021-12-14T09:15:23.251514Z",
     "shell.execute_reply": "2021-12-14T09:15:25.059139Z"
    },
    "trusted": true
   },
   "execution_count": null,
   "outputs": []
  },
  {
   "cell_type": "code",
   "source": [
    "!pip install parfit\n",
    "import parfit.parfit as pf"
   ],
   "metadata": {
    "execution": {
     "iopub.status.busy": "2021-12-14T09:15:25.061538Z",
     "iopub.execute_input": "2021-12-14T09:15:25.06178Z",
     "iopub.status.idle": "2021-12-14T09:15:38.694772Z",
     "shell.execute_reply.started": "2021-12-14T09:15:25.06175Z",
     "shell.execute_reply": "2021-12-14T09:15:38.69367Z"
    },
    "trusted": true
   },
   "execution_count": null,
   "outputs": []
  },
  {
   "cell_type": "markdown",
   "source": [
    "##### Finding the best hyperparameters for XGBoost using a combination of manual fine-tuning followed by grid searching techniques."
   ],
   "metadata": {
    "collapsed": false,
    "pycharm": {
     "name": "#%% md\n"
    }
   }
  },
  {
   "cell_type": "code",
   "source": [
    "from sklearn.model_selection import ParameterGrid"
   ],
   "metadata": {
    "execution": {
     "iopub.status.busy": "2021-12-14T09:15:38.697458Z",
     "iopub.execute_input": "2021-12-14T09:15:38.697744Z",
     "iopub.status.idle": "2021-12-14T09:15:38.702807Z",
     "shell.execute_reply.started": "2021-12-14T09:15:38.69771Z",
     "shell.execute_reply": "2021-12-14T09:15:38.701933Z"
    },
    "trusted": true
   },
   "execution_count": null,
   "outputs": []
  },
  {
   "cell_type": "markdown",
   "source": [
    "##### Specifying the datatypes (as obtained from previous notebooks) for loading the data quickly."
   ],
   "metadata": {
    "collapsed": false,
    "pycharm": {
     "name": "#%% md\n"
    }
   }
  },
  {
   "cell_type": "code",
   "source": [
    "dtypes = {\n",
    "'MachineIdentifier': 'category',\n",
    "'EngineVersion': 'int64',\n",
    "'AppVersion': 'int64',\n",
    "'AVProductsInstalled': 'float16',\n",
    "'AVProductsEnabled': 'float16',\n",
    "'CountryIdentifier': 'int64',\n",
    "'GeoNameIdentifier': 'int64',\n",
    "'LocaleEnglishNameIdentifier': 'int64',\n",
    "'OsBuild': 'int64',\n",
    "'OsPlatformSubRelease': 'int64',\n",
    "'OsBuildLab': 'int64',\n",
    "'SkuEdition': 'int64',\n",
    "'IsProtected': 'float16',\n",
    "'IeVerIdentifier': 'int64',\n",
    "'Firewall': 'float16',\n",
    "'Census_MDC2FormFactor': 'int64',\n",
    "'Census_ProcessorCoreCount': 'float16',\n",
    "'Census_ProcessorManufacturerIdentifier': 'int64',\n",
    "'Census_PrimaryDiskTotalCapacity': 'float32',\n",
    "'Census_SystemVolumeTotalCapacity': 'float32',\n",
    "'Census_HasOpticalDiskDrive': 'int8',\n",
    "'Census_TotalPhysicalRAM': 'float32',\n",
    "'Census_ChassisTypeName': 'int64',\n",
    "'Census_InternalPrimaryDiagonalDisplaySizeInInches': 'float16',\n",
    "'Census_InternalPrimaryDisplayResolutionHorizontal': 'float16',\n",
    "'Census_InternalPrimaryDisplayResolutionVertical': 'float16',\n",
    "'Census_PowerPlatformRoleName': 'int64',\n",
    "'Census_InternalBatteryNumberOfCharges': 'float32',\n",
    "'Census_OSVersion': 'int64',\n",
    "'Census_OSBranch': 'int64',\n",
    "'Census_OSBuildNumber': 'int64',\n",
    "'Census_OSBuildRevision': 'int32',\n",
    "'Census_OSEdition': 'int64',\n",
    "'Census_OSSkuName': 'int64',\n",
    "'Census_OSInstallTypeName': 'int64',\n",
    "'Census_OSInstallLanguageIdentifier': 'int64',\n",
    "'Census_OSUILocaleIdentifier': 'int64',\n",
    "'Census_IsFlightsDisabled': 'float16',\n",
    "'Census_FlightRing': 'int64',\n",
    "'Census_FirmwareManufacturerIdentifier': 'int64',\n",
    "'Census_IsSecureBootEnabled': 'int8',\n",
    "'Census_IsTouchEnabled': 'int8',\n",
    "'Census_IsAlwaysOnAlwaysConnectedCapable': 'float16',\n",
    "'Wdft_IsGamer': 'float16',\n",
    "'Wdft_RegionIdentifier': 'int64',\n",
    "'HasDetections': 'int8',\n",
    "'Processor_arm64': 'uint8',\n",
    "'Processor_x64': 'uint8',\n",
    "'Processor_x86': 'uint8',\n",
    "'OsSuite_256': 'uint8',\n",
    "'OsSuite_768': 'uint8',\n",
    "'OsSuite_784': 'uint8',\n",
    "'Census_PrimaryDiskTypeName_HDD': 'uint8',\n",
    "'Census_PrimaryDiskTypeName_SSD': 'uint8',\n",
    "'Census_PrimaryDiskTypeName_UNKNOWN': 'uint8',\n",
    "'Census_PrimaryDiskTypeName_Unspecified': 'uint8',\n",
    "'Census_OSArchitecture_amd64': 'uint8',\n",
    "'Census_OSArchitecture_arm64': 'uint8',\n",
    "'Census_OSArchitecture_x86': 'uint8',\n",
    "'Census_OSWUAutoUpdateOptionsName_AutoInstallAndRebootAtMaintenanceTime': 'uint8',\n",
    "'Census_OSWUAutoUpdateOptionsName_DownloadNotify': 'uint8',\n",
    "'Census_OSWUAutoUpdateOptionsName_FullAuto': 'uint8',\n",
    "'Census_OSWUAutoUpdateOptionsName_Notify': 'uint8',\n",
    "'Census_OSWUAutoUpdateOptionsName_Off': 'uint8',\n",
    "'Census_OSWUAutoUpdateOptionsName_UNKNOWN': 'uint8',\n",
    "'Census_GenuineStateName_INVALID_LICENSE': 'uint8',\n",
    "'Census_GenuineStateName_IS_GENUINE': 'uint8',\n",
    "'Census_GenuineStateName_OFFLINE': 'uint8',\n",
    "'Census_GenuineStateName_UNKNOWN': 'uint8',\n",
    "'Census_ActivationChannel_OEM:DM': 'uint8',\n",
    "'Census_ActivationChannel_OEM:NONSLP': 'uint8',\n",
    "'Census_ActivationChannel_Retail': 'uint8',\n",
    "'Census_ActivationChannel_Retail:TB:Eval': 'uint8',\n",
    "'Census_ActivationChannel_Volume:GVLK': 'uint8',\n",
    "'Census_ActivationChannel_Volume:MAK': 'uint8'\n",
    "}\n"
   ],
   "metadata": {
    "execution": {
     "iopub.status.busy": "2021-12-14T09:15:38.704393Z",
     "iopub.execute_input": "2021-12-14T09:15:38.704634Z",
     "iopub.status.idle": "2021-12-14T09:15:38.720927Z",
     "shell.execute_reply.started": "2021-12-14T09:15:38.704606Z",
     "shell.execute_reply": "2021-12-14T09:15:38.719426Z"
    },
    "trusted": true
   },
   "execution_count": null,
   "outputs": []
  },
  {
   "cell_type": "code",
   "source": [
    "test_df = pd.read_csv('../input/rizwanv2/test_df.csv', dtype = dtypes)"
   ],
   "metadata": {
    "execution": {
     "iopub.status.busy": "2021-12-14T09:15:38.77844Z",
     "iopub.execute_input": "2021-12-14T09:15:38.779313Z",
     "iopub.status.idle": "2021-12-14T09:15:58.705807Z",
     "shell.execute_reply.started": "2021-12-14T09:15:38.779258Z",
     "shell.execute_reply": "2021-12-14T09:15:58.704711Z"
    },
    "trusted": true
   },
   "execution_count": null,
   "outputs": []
  },
  {
   "cell_type": "code",
   "source": [
    "test_df.head()"
   ],
   "metadata": {
    "execution": {
     "iopub.status.busy": "2021-12-14T09:15:58.707306Z",
     "iopub.execute_input": "2021-12-14T09:15:58.707644Z",
     "iopub.status.idle": "2021-12-14T09:15:58.743112Z",
     "shell.execute_reply.started": "2021-12-14T09:15:58.7076Z",
     "shell.execute_reply": "2021-12-14T09:15:58.742175Z"
    },
    "trusted": true
   },
   "execution_count": null,
   "outputs": []
  },
  {
   "cell_type": "code",
   "source": [
    "df_subset = pd.read_csv('../input/rizwanv2/train_df.csv', dtype = dtypes, nrows = 2000000)"
   ],
   "metadata": {
    "execution": {
     "iopub.status.busy": "2021-12-14T09:15:58.744402Z",
     "iopub.execute_input": "2021-12-14T09:15:58.744872Z",
     "iopub.status.idle": "2021-12-14T09:16:19.632167Z",
     "shell.execute_reply.started": "2021-12-14T09:15:58.744832Z",
     "shell.execute_reply": "2021-12-14T09:16:19.631129Z"
    },
    "trusted": true
   },
   "execution_count": null,
   "outputs": []
  },
  {
   "cell_type": "code",
   "source": [
    "main_X = df_subset.drop(['HasDetections', 'MachineIdentifier'], axis=1)\n",
    "main_y = df_subset['HasDetections']\n",
    "X_train, X_test, y_train, y_test = train_test_split(main_X, main_y, test_size = 0.2, random_state = 42)\n"
   ],
   "metadata": {
    "execution": {
     "iopub.status.busy": "2021-12-14T09:16:19.63376Z",
     "iopub.execute_input": "2021-12-14T09:16:19.634019Z",
     "iopub.status.idle": "2021-12-14T09:16:21.446453Z",
     "shell.execute_reply.started": "2021-12-14T09:16:19.633986Z",
     "shell.execute_reply": "2021-12-14T09:16:21.445327Z"
    },
    "trusted": true
   },
   "execution_count": null,
   "outputs": []
  },
  {
   "cell_type": "markdown",
   "source": [
    "##### Defining the grid with possible hyperparameters and then using grid search techniques."
   ],
   "metadata": {
    "collapsed": false,
    "pycharm": {
     "name": "#%% md\n"
    }
   }
  },
  {
   "cell_type": "code",
   "source": [
    "grid = {\n",
    "    'alpha': [1e-1, 1e0, 1e1, 1e2], # learning rate\n",
    "    'n_estimators': [300, 350, 400, 450, 500], # number of epochs\n",
    "    'loss': ['log'], # logistic regression,\n",
    "    'penalty': ['l2'],\n",
    "    'n_jobs': [-1]\n",
    "}\n",
    "paramGrid = ParameterGrid(grid)\n",
    "\n",
    "bestModel, bestScore, allModels, allScores =  pf.bestFit(xgb.XGBClassifier, paramGrid, X_train, y_train, X_test, y_test, \n",
    "                                                         metric = metrics.roc_auc_score,greater_is_better=True, scoreLabel = \"AUC\")"
   ],
   "metadata": {
    "execution": {
     "iopub.status.busy": "2021-12-14T09:16:21.454304Z",
     "iopub.execute_input": "2021-12-14T09:16:21.455642Z",
     "iopub.status.idle": "2021-12-14T16:30:31.061879Z",
     "shell.execute_reply.started": "2021-12-14T09:16:21.455599Z",
     "shell.execute_reply": "2021-12-14T16:30:31.059592Z"
    },
    "trusted": true
   },
   "execution_count": null,
   "outputs": []
  },
  {
   "cell_type": "code",
   "source": [
    "bestModel"
   ],
   "metadata": {
    "execution": {
     "iopub.status.busy": "2021-12-14T16:30:31.071657Z",
     "iopub.execute_input": "2021-12-14T16:30:31.072129Z",
     "iopub.status.idle": "2021-12-14T16:30:31.097537Z",
     "shell.execute_reply.started": "2021-12-14T16:30:31.072082Z",
     "shell.execute_reply": "2021-12-14T16:30:31.096374Z"
    },
    "trusted": true,
    "pycharm": {
     "name": "#%%\n"
    }
   },
   "execution_count": 1,
   "outputs": [
    {
     "ename": "NameError",
     "evalue": "name 'bestModel' is not defined",
     "output_type": "error",
     "traceback": [
      "\u001B[1;31m---------------------------------------------------------------------------\u001B[0m",
      "\u001B[1;31mNameError\u001B[0m                                 Traceback (most recent call last)",
      "\u001B[1;32m~\\AppData\\Local\\Temp/ipykernel_2072/3186787685.py\u001B[0m in \u001B[0;36m<module>\u001B[1;34m\u001B[0m\n\u001B[1;32m----> 1\u001B[1;33m \u001B[0mbestModel\u001B[0m\u001B[1;33m\u001B[0m\u001B[1;33m\u001B[0m\u001B[0m\n\u001B[0m",
      "\u001B[1;31mNameError\u001B[0m: name 'bestModel' is not defined"
     ]
    }
   ]
  },
  {
   "cell_type": "code",
   "execution_count": null,
   "outputs": [],
   "source": [],
   "metadata": {
    "collapsed": false,
    "pycharm": {
     "name": "#%%\n"
    }
   }
  },
  {
   "cell_type": "code",
   "execution_count": null,
   "outputs": [],
   "source": [],
   "metadata": {
    "collapsed": false,
    "pycharm": {
     "name": "#%%\n"
    }
   }
  }
 ]
}