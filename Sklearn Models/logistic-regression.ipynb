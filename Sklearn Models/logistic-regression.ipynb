{
 "metadata": {
  "kernelspec": {
   "language": "python",
   "display_name": "Python 3",
   "name": "python3"
  },
  "language_info": {
   "name": "python",
   "version": "3.7.10",
   "mimetype": "text/x-python",
   "codemirror_mode": {
    "name": "ipython",
    "version": 3
   },
   "pygments_lexer": "ipython3",
   "nbconvert_exporter": "python",
   "file_extension": ".py"
  }
 },
 "nbformat_minor": 4,
 "nbformat": 4,
 "cells": [
  {
   "cell_type": "code",
   "source": [
    "# notebook to implement models\n",
    "import numpy as np\n",
    "import pandas as pd\n",
    "import matplotlib.pyplot as plt\n",
    "import sklearn.model_selection as model_selection\n",
    "import seaborn as sns\n",
    "from sklearn.preprocessing import PolynomialFeatures\n",
    "from sklearn.naive_bayes import GaussianNB\n",
    "from sklearn.linear_model import LinearRegression\n",
    "from sklearn import svm\n",
    "from sklearn.decomposition import PCA\n",
    "from sklearn import metrics\n",
    "from sklearn.linear_model import LogisticRegression\n",
    "from sklearn.metrics import accuracy_score\n",
    "from sklearn.metrics import mean_squared_error, r2_score\n",
    "import sklearn.preprocessing as preprocessing\n",
    "from sklearn.preprocessing import StandardScaler\n",
    "from sklearn.model_selection import train_test_split\n",
    "from sklearn.linear_model import SGDClassifier\n",
    "from tqdm.notebook import tqdm\n"
   ],
   "metadata": {
    "_uuid": "8f2839f25d086af736a60e9eeb907d3b93b6e0e5",
    "_cell_guid": "b1076dfc-b9ad-4769-8c92-a6c4dae69d19",
    "execution": {
     "iopub.status.busy": "2021-11-09T02:52:26.025617Z",
     "iopub.execute_input": "2021-11-09T02:52:26.025912Z",
     "iopub.status.idle": "2021-11-09T02:52:26.033885Z",
     "shell.execute_reply.started": "2021-11-09T02:52:26.025880Z",
     "shell.execute_reply": "2021-11-09T02:52:26.032894Z"
    },
    "trusted": true
   },
   "execution_count": 7,
   "outputs": []
  },
  {
   "cell_type": "code",
   "source": [
    "dtypes = {\n",
    "    'MachineIdentifier': 'category',\n",
    "'Census_ProcessorCoreCount': 'float16',\n",
    "'Census_PrimaryDiskTotalCapacity': 'float32',\n",
    "'Census_SystemVolumeTotalCapacity': 'float32',\n",
    "'Census_TotalPhysicalRAM': 'float32',\n",
    "'Census_InternalPrimaryDiagonalDisplaySizeInInches': 'float16',\n",
    "'Census_InternalPrimaryDisplayResolutionHorizontal': 'float16',\n",
    "'Census_InternalPrimaryDisplayResolutionVertical': 'float16',\n",
    "'Census_InternalBatteryNumberOfCharges': 'float32',\n",
    "'Census_OSBuildRevision': 'int32',\n",
    "'Census_IsFlightsDisabled': 'float16',\n",
    "'Census_IsSecureBootEnabled': 'int8',\n",
    "'Census_IsTouchEnabled': 'int8',\n",
    "'Wdft_IsGamer': 'float16',\n",
    "'HasDetections': 'int8',\n",
    "'EngineVersion_1.1.14800.3': 'uint8',\n",
    "'EngineVersion_1.1.14901.4': 'uint8',\n",
    "'EngineVersion_1.1.15000.2': 'uint8',\n",
    "'EngineVersion_1.1.15100.1': 'uint8',\n",
    "'EngineVersion_1.1.15200.1': 'uint8',\n",
    "'EngineVersion_MinorVersions': 'uint8',\n",
    "'AppVersion_4.12.16299.15': 'uint8',\n",
    "'AppVersion_4.13.17134.1': 'uint8',\n",
    "'AppVersion_4.13.17134.228': 'uint8',\n",
    "'AppVersion_4.14.17639.18041': 'uint8',\n",
    "'AppVersion_4.16.17656.18052': 'uint8',\n",
    "'AppVersion_4.18.1806.18062': 'uint8',\n",
    "'AppVersion_4.18.1807.18075': 'uint8',\n",
    "'AppVersion_4.8.10240.17443': 'uint8',\n",
    "'AppVersion_4.9.10586.1106': 'uint8',\n",
    "'AppVersion_MinorVersions': 'uint8',\n",
    "'AVProductsInstalled_1.0': 'uint8',\n",
    "'AVProductsInstalled_2.0': 'uint8',\n",
    "'AVProductsInstalled_3.0': 'uint8',\n",
    "'AVProductsInstalled_4.0': 'uint8',\n",
    "'AVProductsInstalled_5.0': 'uint8',\n",
    "'AVProductsInstalled_6.0': 'uint8',\n",
    "'Processor_arm64': 'uint8',\n",
    "'Processor_x64': 'uint8',\n",
    "'Processor_x86': 'uint8',\n",
    "'OsBuild_10240': 'uint8',\n",
    "'OsBuild_10586': 'uint8',\n",
    "'OsBuild_14393': 'uint8',\n",
    "'OsBuild_15063': 'uint8',\n",
    "'OsBuild_16299': 'uint8',\n",
    "'OsBuild_17134': 'uint8',\n",
    "'OsBuild_MinorVersions': 'uint8',\n",
    "'OsSuite_256': 'uint8',\n",
    "'OsSuite_768': 'uint8',\n",
    "'OsSuite_784': 'uint8',\n",
    "'OsPlatformSubRelease_prers5': 'uint8',\n",
    "'OsPlatformSubRelease_rs1': 'uint8',\n",
    "'OsPlatformSubRelease_rs2': 'uint8',\n",
    "'OsPlatformSubRelease_rs3': 'uint8',\n",
    "'OsPlatformSubRelease_rs4': 'uint8',\n",
    "'OsPlatformSubRelease_th1': 'uint8',\n",
    "'OsPlatformSubRelease_th2': 'uint8',\n",
    "'OsPlatformSubRelease_windows7': 'uint8',\n",
    "'OsPlatformSubRelease_windows8.1': 'uint8',\n",
    "'OsBuildLab_10240.17443.amd64fre.th1.170602-2340': 'uint8',\n",
    "'OsBuildLab_14393.2189.amd64fre.rs1_release.180329-1711': 'uint8',\n",
    "'OsBuildLab_15063.0.amd64fre.rs2_release.170317-1834': 'uint8',\n",
    "'OsBuildLab_16299.15.amd64fre.rs3_release.170928-1534': 'uint8',\n",
    "'OsBuildLab_16299.15.x86fre.rs3_release.170928-1534': 'uint8',\n",
    "'OsBuildLab_16299.431.amd64fre.rs3_release_svc_escrow.180502-1908': 'uint8',\n",
    "'OsBuildLab_17134.1.amd64fre.rs4_release.180410-1804': 'uint8',\n",
    "'OsBuildLab_17134.1.x86fre.rs4_release.180410-1804': 'uint8',\n",
    "'OsBuildLab_MinorVersions': 'uint8',\n",
    "'SkuEdition_Cloud': 'uint8',\n",
    "'SkuEdition_Education': 'uint8',\n",
    "'SkuEdition_Enterprise': 'uint8',\n",
    "    'SkuEdition_Home': 'uint8',\n",
    "'SkuEdition_Invalid': 'uint8',\n",
    "'SkuEdition_Pro': 'uint8',\n",
    "'SkuEdition_Server': 'uint8',\n",
    "'IeVerIdentifier_105.0': 'uint8',\n",
    "'IeVerIdentifier_108.0': 'uint8',\n",
    "'IeVerIdentifier_111.0': 'uint8',\n",
    "'IeVerIdentifier_117.0': 'uint8',\n",
    "'IeVerIdentifier_135.0': 'uint8',\n",
    "'IeVerIdentifier_137.0': 'uint8',\n",
    "'IeVerIdentifier_53.0': 'uint8',\n",
    "'IeVerIdentifier_74.0': 'uint8',\n",
    "'IeVerIdentifier_98.0': 'uint8',\n",
    "'IeVerIdentifier_MinorVersions': 'uint8',\n",
    "'Census_MDC2FormFactor_AllInOne': 'uint8',\n",
    "'Census_MDC2FormFactor_Convertible': 'uint8',\n",
    "'Census_MDC2FormFactor_Desktop': 'uint8',\n",
    "'Census_MDC2FormFactor_Detachable': 'uint8',\n",
    "'Census_MDC2FormFactor_Census_MDC2FormFactor': 'uint8',\n",
    "'Census_MDC2FormFactor_Notebook': 'uint8',\n",
    "'Census_MDC2FormFactor_PCOther': 'uint8',\n",
    "'Census_ProcessorManufacturerIdentifier_1.0': 'uint8',\n",
    "'Census_ProcessorManufacturerIdentifier_5.0': 'uint8',\n",
    "'Census_ProcessorManufacturerIdentifier_Minor': 'uint8',\n",
    "'Census_PrimaryDiskTypeName_HDD': 'uint8',\n",
    "'Census_PrimaryDiskTypeName_SSD': 'uint8',\n",
    "'Census_PrimaryDiskTypeName_UNKNOWN': 'uint8',\n",
    "'Census_PrimaryDiskTypeName_Unspecified': 'uint8',\n",
    "'Census_HasOpticalDiskDrive_0': 'uint8',\n",
    "'Census_HasOpticalDiskDrive_1': 'uint8',\n",
    "'Census_ChassisTypeName_AllinOne': 'uint8',\n",
    "'Census_ChassisTypeName_Desktop': 'uint8',\n",
    "'Census_ChassisTypeName_Laptop': 'uint8',\n",
    "'Census_ChassisTypeName_MinorVersions': 'uint8',\n",
    "'Census_ChassisTypeName_Notebook': 'uint8',\n",
    "'Census_ChassisTypeName_Portable': 'uint8',\n",
    "'Census_PowerPlatformRoleName_Desktop': 'uint8',\n",
    "'Census_PowerPlatformRoleName_MinorVersions': 'uint8',\n",
    "'Census_PowerPlatformRoleName_Mobile': 'uint8',\n",
    "'Census_PowerPlatformRoleName_Slate': 'uint8',\n",
    "'Census_OSArchitecture_amd64': 'uint8',\n",
    "'Census_OSArchitecture_arm64': 'uint8',\n",
    "'Census_OSArchitecture_x86': 'uint8',\n",
    "'Census_OSBranch_MinorVersions': 'uint8',\n",
    "'Census_OSBranch_rs1_release': 'uint8',\n",
    "'Census_OSBranch_rs2_release': 'uint8',\n",
    "'Census_OSBranch_rs3_release': 'uint8',\n",
    "'Census_OSBranch_rs3_release_svc_escrow': 'uint8',\n",
    "'Census_OSBranch_rs4_release': 'uint8',\n",
    "'Census_OSBranch_th1_st1': 'uint8',\n",
    "'Census_OSBranch_th2_release': 'uint8',\n",
    "'Census_OSBranch_th2_release_sec': 'uint8',\n",
    "'Census_OSBuildNumber_10586': 'uint8',\n",
    "'Census_OSBuildNumber_14393': 'uint8',\n",
    "'Census_OSBuildNumber_15063': 'uint8',\n",
    "'Census_OSBuildNumber_16299': 'uint8',\n",
    "'Census_OSBuildNumber_17134': 'uint8',\n",
    "'Census_OSBuildNumber_MinorVersions': 'uint8',\n",
    "'Census_OSEdition_Core': 'uint8',\n",
    "'Census_OSEdition_CoreCountrySpecific': 'uint8',\n",
    "'Census_OSEdition_CoreSingleLanguage': 'uint8',\n",
    "'Census_OSEdition_MinorVersions': 'uint8',\n",
    "'Census_OSEdition_Professional': 'uint8',\n",
    "'Census_OSSkuName_CORE': 'uint8',\n",
    "'Census_OSSkuName_CORE_COUNTRYSPECIFIC': 'uint8',\n",
    "'Census_OSSkuName_CORE_SINGLELANGUAGE': 'uint8',\n",
    "'Census_OSSkuName_MinorVersions': 'uint8',\n",
    "'Census_OSSkuName_PROFESSIONAL': 'uint8',\n",
    "'Census_OSInstallTypeName_Clean': 'uint8',\n",
    "'Census_OSInstallTypeName_CleanPCRefresh': 'uint8',\n",
    "'Census_OSInstallTypeName_IBSClean': 'uint8',\n",
    "'Census_OSInstallTypeName_Other': 'uint8',\n",
    "'Census_OSInstallTypeName_Refresh': 'uint8',\n",
    "'Census_OSInstallTypeName_Reset': 'uint8',\n",
    "'Census_OSInstallTypeName_UUPUpgrade': 'uint8',\n",
    "'Census_OSInstallTypeName_Update': 'uint8',\n",
    "'Census_OSInstallTypeName_Upgrade': 'uint8',\n",
    "'Census_OSInstallLanguageIdentifier_10.0': 'uint8',\n",
    "'Census_OSInstallLanguageIdentifier_14.0': 'uint8',\n",
    "'Census_OSInstallLanguageIdentifier_18.0': 'uint8',\n",
    "'Census_OSInstallLanguageIdentifier_20.0': 'uint8',\n",
    "'Census_OSInstallLanguageIdentifier_24.0': 'uint8',\n",
    "'Census_OSInstallLanguageIdentifier_25.0': 'uint8',\n",
    "'Census_OSInstallLanguageIdentifier_26.0': 'uint8',\n",
    "'Census_OSInstallLanguageIdentifier_27.0': 'uint8',\n",
    "'Census_OSInstallLanguageIdentifier_29.0': 'uint8',\n",
    "'Census_OSInstallLanguageIdentifier_35.0': 'uint8',\n",
    "'Census_OSInstallLanguageIdentifier_37.0': 'uint8',\n",
    "'Census_OSInstallLanguageIdentifier_39.0': 'uint8',\n",
    "'Census_OSInstallLanguageIdentifier_5.0': 'uint8',\n",
    "'Census_OSInstallLanguageIdentifier_7.0': 'uint8',\n",
    "'Census_OSInstallLanguageIdentifier_8.0': 'uint8',\n",
    "'Census_OSInstallLanguageIdentifier_9.0': 'uint8',\n",
    "'Census_OSInstallLanguageIdentifier_MinorVersions': 'uint8',\n",
    "'Census_OSUILocaleIdentifier_109': 'uint8',\n",
    "'Census_OSUILocaleIdentifier_115': 'uint8',\n",
    "'Census_OSUILocaleIdentifier_119': 'uint8',\n",
    "'Census_OSUILocaleIdentifier_120': 'uint8',\n",
    "'Census_OSUILocaleIdentifier_125': 'uint8',\n",
    "'Census_OSUILocaleIdentifier_148': 'uint8',\n",
    "'Census_OSUILocaleIdentifier_158': 'uint8',\n",
    "'Census_OSUILocaleIdentifier_160': 'uint8',\n",
    "'Census_OSUILocaleIdentifier_26': 'uint8',\n",
    "'Census_OSUILocaleIdentifier_30': 'uint8',\n",
    "'Census_OSUILocaleIdentifier_31': 'uint8',\n",
    "'Census_OSUILocaleIdentifier_34': 'uint8',\n",
    "'Census_OSUILocaleIdentifier_35': 'uint8',\n",
    "'Census_OSUILocaleIdentifier_49': 'uint8',\n",
    "'Census_OSUILocaleIdentifier_72': 'uint8',\n",
    "'Census_OSUILocaleIdentifier_83': 'uint8',\n",
    "'Census_OSUILocaleIdentifier_MinorVersions': 'uint8',\n",
    "'Census_OSWUAutoUpdateOptionsName_AutoInstallAndRebootAtMaintenanceTime': 'uint8',\n",
    "'Census_OSWUAutoUpdateOptionsName_DownloadNotify': 'uint8',\n",
    "'Census_OSWUAutoUpdateOptionsName_FullAuto': 'uint8',\n",
    "'Census_OSWUAutoUpdateOptionsName_Notify': 'uint8',\n",
    "'Census_OSWUAutoUpdateOptionsName_Off': 'uint8',\n",
    "'Census_OSWUAutoUpdateOptionsName_UNKNOWN': 'uint8',\n",
    "'Census_FlightRing_MinorVersions': 'uint8',\n",
    "'Census_FlightRing_NOT_SET': 'uint8',\n",
    "'Census_FlightRing_Retail': 'uint8',\n",
    "'Census_FlightRing_Unknown': 'uint8',\n",
    "'Census_FirmwareManufacturerIdentifier_142.0': 'uint8',\n",
    "'Census_FirmwareManufacturerIdentifier_355.0': 'uint8',\n",
    "'Census_FirmwareManufacturerIdentifier_500.0': 'uint8',\n",
    "'Census_FirmwareManufacturerIdentifier_513.0': 'uint8',\n",
    "'Census_FirmwareManufacturerIdentifier_554.0': 'uint8',\n",
    "'Census_FirmwareManufacturerIdentifier_556.0': 'uint8',\n",
    "'Census_FirmwareManufacturerIdentifier_628.0': 'uint8',\n",
    "'Census_FirmwareManufacturerIdentifier_807.0': 'uint8',\n",
    "'Census_FirmwareManufacturerIdentifier_93.0': 'uint8',\n",
    "'Census_FirmwareManufacturerIdentifier_MinorVersions': 'uint8',\n",
    "'Wdft_RegionIdentifier_1.0': 'uint8',\n",
    "'Wdft_RegionIdentifier_2.0': 'uint8',\n",
    "'Wdft_RegionIdentifier_3.0': 'uint8',\n",
    "'Wdft_RegionIdentifier_4.0': 'uint8',\n",
    "'Wdft_RegionIdentifier_5.0': 'uint8',\n",
    "'Wdft_RegionIdentifier_6.0': 'uint8',\n",
    "'Wdft_RegionIdentifier_7.0': 'uint8',\n",
    "'Wdft_RegionIdentifier_8.0': 'uint8',\n",
    "'Wdft_RegionIdentifier_9.0': 'uint8',\n",
    "'Wdft_RegionIdentifier_10.0': 'uint8',\n",
    "'Wdft_RegionIdentifier_11.0': 'uint8',\n",
    "'Wdft_RegionIdentifier_12.0': 'uint8',\n",
    "'Wdft_RegionIdentifier_13.0': 'uint8',\n",
    "'Wdft_RegionIdentifier_14.0': 'uint8',\n",
    "'Wdft_RegionIdentifier_15.0': 'uint8',\n",
    "'Census_GenuineStateName_INVALID_LICENSE': 'uint8',\n",
    "'Census_GenuineStateName_IS_GENUINE': 'uint8',\n",
    "'Census_GenuineStateName_OFFLINE': 'uint8',\n",
    "'Census_GenuineStateName_UNKNOWN': 'uint8',\n",
    "'Census_ActivationChannel_OEM:DM': 'uint8',\n",
    "'Census_ActivationChannel_OEM:NONSLP': 'uint8',\n",
    "'Census_ActivationChannel_Retail': 'uint8',\n",
    "'Census_ActivationChannel_Retail:TB:Eval': 'uint8',\n",
    "'Census_ActivationChannel_Volume:GVLK': 'uint8',\n",
    "'Census_ActivationChannel_Volume:MAK': 'uint8'\n",
    "}"
   ],
   "metadata": {
    "_kg_hide-input": true,
    "_kg_hide-output": true,
    "execution": {
     "iopub.status.busy": "2021-11-09T02:52:26.036015Z",
     "iopub.execute_input": "2021-11-09T02:52:26.036251Z",
     "iopub.status.idle": "2021-11-09T02:52:26.071188Z",
     "shell.execute_reply.started": "2021-11-09T02:52:26.036221Z",
     "shell.execute_reply": "2021-11-09T02:52:26.069235Z"
    },
    "trusted": true
   },
   "execution_count": 8,
   "outputs": []
  },
  {
   "cell_type": "code",
   "source": [
    "# df = pd.read_csv('/kaggle/working/train_df.csv', dtype = dtypes)"
   ],
   "metadata": {
    "execution": {
     "iopub.status.busy": "2021-11-09T02:52:26.073176Z",
     "iopub.execute_input": "2021-11-09T02:52:26.073669Z",
     "iopub.status.idle": "2021-11-09T02:52:26.089564Z",
     "shell.execute_reply.started": "2021-11-09T02:52:26.073621Z",
     "shell.execute_reply": "2021-11-09T02:52:26.088317Z"
    },
    "trusted": true
   },
   "execution_count": 9,
   "outputs": []
  },
  {
   "cell_type": "code",
   "source": [
    "# df.head()"
   ],
   "metadata": {
    "execution": {
     "iopub.status.busy": "2021-11-09T02:52:26.091201Z",
     "iopub.execute_input": "2021-11-09T02:52:26.091535Z",
     "iopub.status.idle": "2021-11-09T02:52:26.103234Z",
     "shell.execute_reply.started": "2021-11-09T02:52:26.091488Z",
     "shell.execute_reply": "2021-11-09T02:52:26.102276Z"
    },
    "trusted": true
   },
   "execution_count": 10,
   "outputs": []
  },
  {
   "cell_type": "code",
   "source": [
    "# r, c = df.shape\n",
    "# print (r)"
   ],
   "metadata": {
    "execution": {
     "iopub.status.busy": "2021-11-09T02:52:26.105992Z",
     "iopub.execute_input": "2021-11-09T02:52:26.106587Z",
     "iopub.status.idle": "2021-11-09T02:52:26.118093Z",
     "shell.execute_reply.started": "2021-11-09T02:52:26.106535Z",
     "shell.execute_reply": "2021-11-09T02:52:26.116939Z"
    },
    "trusted": true
   },
   "execution_count": 11,
   "outputs": []
  },
  {
   "cell_type": "code",
   "source": [
    "test_df = pd.read_csv('../input/test-data-modified/test_df.csv', dtype = dtypes)"
   ],
   "metadata": {
    "execution": {
     "iopub.status.busy": "2021-11-09T02:52:26.119686Z",
     "iopub.execute_input": "2021-11-09T02:52:26.120060Z",
     "iopub.status.idle": "2021-11-09T02:53:09.956883Z",
     "shell.execute_reply.started": "2021-11-09T02:52:26.120022Z",
     "shell.execute_reply": "2021-11-09T02:53:09.956052Z"
    },
    "trusted": true
   },
   "execution_count": 12,
   "outputs": []
  },
  {
   "cell_type": "code",
   "source": [
    "test_df.head()"
   ],
   "metadata": {
    "execution": {
     "iopub.status.busy": "2021-11-09T02:53:09.958389Z",
     "iopub.execute_input": "2021-11-09T02:53:09.958733Z",
     "iopub.status.idle": "2021-11-09T02:53:09.997344Z",
     "shell.execute_reply.started": "2021-11-09T02:53:09.958686Z",
     "shell.execute_reply": "2021-11-09T02:53:09.996517Z"
    },
    "trusted": true
   },
   "execution_count": 13,
   "outputs": [
    {
     "execution_count": 13,
     "output_type": "execute_result",
     "data": {
      "text/plain": "                  MachineIdentifier  Census_ProcessorCoreCount  \\\n0  000007535c3f730efa9ea0b7ef1bd645                        4.0   \n1  000007905a28d863f6d0d597892cd692                        4.0   \n2  00001a18d69bb60bda9779408dcf02ac                        4.0   \n3  00001b924fcc6922321cfadbafd8a91a                        2.0   \n4  000028150912f45b1dc667164de489ef                        2.0   \n\n   Census_PrimaryDiskTotalCapacity  Census_SystemVolumeTotalCapacity  \\\n0                        13.075148                         11.536506   \n1                        11.648103                         11.643147   \n2                        13.768283                         12.222207   \n3                        11.712637                         11.702124   \n4                        12.628873                         12.628536   \n\n   Census_TotalPhysicalRAM  Census_InternalPrimaryDiagonalDisplaySizeInInches  \\\n0                 8.318010                                           2.630859   \n1                 8.318010                                           3.068359   \n2                 9.011035                                           2.740234   \n3                 8.318010                                           2.630859   \n4                 8.318010                                           2.837891   \n\n   Census_InternalPrimaryDisplayResolutionHorizontal  \\\n0                                           7.222656   \n1                                           7.562500   \n2                                           7.222656   \n3                                           7.222656   \n4                                           7.273438   \n\n   Census_InternalPrimaryDisplayResolutionVertical  \\\n0                                         6.648438   \n1                                         6.988281   \n2                                         6.648438   \n3                                         6.648438   \n4                                         6.808594   \n\n   Census_InternalBatteryNumberOfCharges  Census_OSBuildRevision  ...  \\\n0                               0.693147                       1  ...   \n1                              22.180710                     165  ...   \n2                               0.000000                     431  ...   \n3                               2.079442                     228  ...   \n4                               0.000000                     164  ...   \n\n   Census_GenuineStateName_INVALID_LICENSE  \\\n0                                        0   \n1                                        0   \n2                                        0   \n3                                        0   \n4                                        0   \n\n   Census_GenuineStateName_IS_GENUINE  Census_GenuineStateName_OFFLINE  \\\n0                                   0                                1   \n1                                   1                                0   \n2                                   1                                0   \n3                                   1                                0   \n4                                   1                                0   \n\n   Census_GenuineStateName_UNKNOWN  Census_ActivationChannel_OEM:DM  \\\n0                                0                                0   \n1                                0                                0   \n2                                0                                1   \n3                                0                                1   \n4                                0                                0   \n\n   Census_ActivationChannel_OEM:NONSLP  Census_ActivationChannel_Retail  \\\n0                                    0                                1   \n1                                    1                                0   \n2                                    0                                0   \n3                                    0                                0   \n4                                    0                                1   \n\n   Census_ActivationChannel_Retail:TB:Eval  \\\n0                                        0   \n1                                        0   \n2                                        0   \n3                                        0   \n4                                        0   \n\n   Census_ActivationChannel_Volume:GVLK  Census_ActivationChannel_Volume:MAK  \n0                                     0                                    0  \n1                                     0                                    0  \n2                                     0                                    0  \n3                                     0                                    0  \n4                                     0                                    0  \n\n[5 rows x 227 columns]",
      "text/html": "<div>\n<style scoped>\n    .dataframe tbody tr th:only-of-type {\n        vertical-align: middle;\n    }\n\n    .dataframe tbody tr th {\n        vertical-align: top;\n    }\n\n    .dataframe thead th {\n        text-align: right;\n    }\n</style>\n<table border=\"1\" class=\"dataframe\">\n  <thead>\n    <tr style=\"text-align: right;\">\n      <th></th>\n      <th>MachineIdentifier</th>\n      <th>Census_ProcessorCoreCount</th>\n      <th>Census_PrimaryDiskTotalCapacity</th>\n      <th>Census_SystemVolumeTotalCapacity</th>\n      <th>Census_TotalPhysicalRAM</th>\n      <th>Census_InternalPrimaryDiagonalDisplaySizeInInches</th>\n      <th>Census_InternalPrimaryDisplayResolutionHorizontal</th>\n      <th>Census_InternalPrimaryDisplayResolutionVertical</th>\n      <th>Census_InternalBatteryNumberOfCharges</th>\n      <th>Census_OSBuildRevision</th>\n      <th>...</th>\n      <th>Census_GenuineStateName_INVALID_LICENSE</th>\n      <th>Census_GenuineStateName_IS_GENUINE</th>\n      <th>Census_GenuineStateName_OFFLINE</th>\n      <th>Census_GenuineStateName_UNKNOWN</th>\n      <th>Census_ActivationChannel_OEM:DM</th>\n      <th>Census_ActivationChannel_OEM:NONSLP</th>\n      <th>Census_ActivationChannel_Retail</th>\n      <th>Census_ActivationChannel_Retail:TB:Eval</th>\n      <th>Census_ActivationChannel_Volume:GVLK</th>\n      <th>Census_ActivationChannel_Volume:MAK</th>\n    </tr>\n  </thead>\n  <tbody>\n    <tr>\n      <th>0</th>\n      <td>000007535c3f730efa9ea0b7ef1bd645</td>\n      <td>4.0</td>\n      <td>13.075148</td>\n      <td>11.536506</td>\n      <td>8.318010</td>\n      <td>2.630859</td>\n      <td>7.222656</td>\n      <td>6.648438</td>\n      <td>0.693147</td>\n      <td>1</td>\n      <td>...</td>\n      <td>0</td>\n      <td>0</td>\n      <td>1</td>\n      <td>0</td>\n      <td>0</td>\n      <td>0</td>\n      <td>1</td>\n      <td>0</td>\n      <td>0</td>\n      <td>0</td>\n    </tr>\n    <tr>\n      <th>1</th>\n      <td>000007905a28d863f6d0d597892cd692</td>\n      <td>4.0</td>\n      <td>11.648103</td>\n      <td>11.643147</td>\n      <td>8.318010</td>\n      <td>3.068359</td>\n      <td>7.562500</td>\n      <td>6.988281</td>\n      <td>22.180710</td>\n      <td>165</td>\n      <td>...</td>\n      <td>0</td>\n      <td>1</td>\n      <td>0</td>\n      <td>0</td>\n      <td>0</td>\n      <td>1</td>\n      <td>0</td>\n      <td>0</td>\n      <td>0</td>\n      <td>0</td>\n    </tr>\n    <tr>\n      <th>2</th>\n      <td>00001a18d69bb60bda9779408dcf02ac</td>\n      <td>4.0</td>\n      <td>13.768283</td>\n      <td>12.222207</td>\n      <td>9.011035</td>\n      <td>2.740234</td>\n      <td>7.222656</td>\n      <td>6.648438</td>\n      <td>0.000000</td>\n      <td>431</td>\n      <td>...</td>\n      <td>0</td>\n      <td>1</td>\n      <td>0</td>\n      <td>0</td>\n      <td>1</td>\n      <td>0</td>\n      <td>0</td>\n      <td>0</td>\n      <td>0</td>\n      <td>0</td>\n    </tr>\n    <tr>\n      <th>3</th>\n      <td>00001b924fcc6922321cfadbafd8a91a</td>\n      <td>2.0</td>\n      <td>11.712637</td>\n      <td>11.702124</td>\n      <td>8.318010</td>\n      <td>2.630859</td>\n      <td>7.222656</td>\n      <td>6.648438</td>\n      <td>2.079442</td>\n      <td>228</td>\n      <td>...</td>\n      <td>0</td>\n      <td>1</td>\n      <td>0</td>\n      <td>0</td>\n      <td>1</td>\n      <td>0</td>\n      <td>0</td>\n      <td>0</td>\n      <td>0</td>\n      <td>0</td>\n    </tr>\n    <tr>\n      <th>4</th>\n      <td>000028150912f45b1dc667164de489ef</td>\n      <td>2.0</td>\n      <td>12.628873</td>\n      <td>12.628536</td>\n      <td>8.318010</td>\n      <td>2.837891</td>\n      <td>7.273438</td>\n      <td>6.808594</td>\n      <td>0.000000</td>\n      <td>164</td>\n      <td>...</td>\n      <td>0</td>\n      <td>1</td>\n      <td>0</td>\n      <td>0</td>\n      <td>0</td>\n      <td>0</td>\n      <td>1</td>\n      <td>0</td>\n      <td>0</td>\n      <td>0</td>\n    </tr>\n  </tbody>\n</table>\n<p>5 rows × 227 columns</p>\n</div>"
     },
     "metadata": {}
    }
   ]
  },
  {
   "cell_type": "code",
   "source": [
    "df_subset = pd.read_csv('../input/train-data-modified/train_df.csv', dtype = dtypes, nrows = 1000000)"
   ],
   "metadata": {
    "execution": {
     "iopub.status.busy": "2021-11-09T02:53:09.998832Z",
     "iopub.execute_input": "2021-11-09T02:53:09.999053Z",
     "iopub.status.idle": "2021-11-09T02:53:33.247030Z",
     "shell.execute_reply.started": "2021-11-09T02:53:09.999023Z",
     "shell.execute_reply": "2021-11-09T02:53:33.246089Z"
    },
    "trusted": true
   },
   "execution_count": 14,
   "outputs": []
  },
  {
   "cell_type": "code",
   "source": [
    "main_X = df_subset.drop(['HasDetections', 'MachineIdentifier'], axis=1)\n",
    "main_y = df_subset['HasDetections']\n",
    "X_train, X_test, y_train, y_test = train_test_split(main_X, main_y, test_size = 0.5, random_state = 42)"
   ],
   "metadata": {
    "execution": {
     "iopub.status.busy": "2021-11-09T02:53:33.248438Z",
     "iopub.execute_input": "2021-11-09T02:53:33.248694Z",
     "iopub.status.idle": "2021-11-09T02:53:34.714334Z",
     "shell.execute_reply.started": "2021-11-09T02:53:33.248662Z",
     "shell.execute_reply": "2021-11-09T02:53:34.713481Z"
    },
    "trusted": true
   },
   "execution_count": 15,
   "outputs": []
  },
  {
   "cell_type": "code",
   "source": [
    "scaler = StandardScaler()\n",
    "X_train = pd.DataFrame(scaler.fit_transform(X_train), columns = main_X.columns)\n",
    "X_test = pd.DataFrame(scaler.transform(X_test), columns = main_X.columns)"
   ],
   "metadata": {
    "execution": {
     "iopub.status.busy": "2021-11-09T02:54:24.313035Z",
     "iopub.execute_input": "2021-11-09T02:54:24.313709Z",
     "iopub.status.idle": "2021-11-09T02:54:28.793809Z",
     "shell.execute_reply.started": "2021-11-09T02:54:24.313659Z",
     "shell.execute_reply": "2021-11-09T02:54:28.792729Z"
    },
    "trusted": true
   },
   "execution_count": 17,
   "outputs": []
  },
  {
   "cell_type": "code",
   "source": [
    "logreg = LogisticRegression(solver='liblinear')\n",
    "logreg.fit(X_train, y_train)\n",
    "y_pred = logreg.predict(X_test)\n",
    "\n",
    "print('Accuracy Score: ', (accuracy_score(y_test, y_pred)))\n",
    "print('ROC-AUC score: ', metrics.roc_auc_score(y_test, y_pred))"
   ],
   "metadata": {
    "execution": {
     "iopub.status.busy": "2021-11-09T02:54:33.339859Z",
     "iopub.execute_input": "2021-11-09T02:54:33.340282Z",
     "iopub.status.idle": "2021-11-09T03:02:39.282749Z",
     "shell.execute_reply.started": "2021-11-09T02:54:33.340249Z",
     "shell.execute_reply": "2021-11-09T03:02:39.281139Z"
    },
    "trusted": true
   },
   "execution_count": 18,
   "outputs": [
    {
     "name": "stdout",
     "text": "Accuracy Score:  0.612008\nROC-AUC score:  0.6112419373535265\n",
     "output_type": "stream"
    }
   ]
  },
  {
   "cell_type": "code",
   "source": [
    "kaggle_test_X = test_df.drop(columns=\"MachineIdentifier\")\n",
    "\n",
    "kaggle_test_X_std = pd.DataFrame(scaler.fit_transform(kaggle_test_X),columns=kaggle_test_X.columns)\n",
    "kaggle_test_X_std = kaggle_test_X_std.to_numpy().astype(\"float\")\n",
    "kaggle_test_yhat = logreg.predict_proba(kaggle_test_X_std)[:, -1]\n",
    "\n",
    "# kaggle_test_yhat = logreg.predict_proba(kaggle_test_X)[:, -1] # predicting the probabilities\n",
    "test_df[\"HasDetections\"] = kaggle_test_yhat\n",
    "to_submit = test_df[[\"MachineIdentifier\", \"HasDetections\"]]\n",
    "to_submit.to_csv(\"class-LR.csv\", index=False)\n"
   ],
   "metadata": {
    "execution": {
     "iopub.status.busy": "2021-11-09T03:03:33.774615Z",
     "iopub.execute_input": "2021-11-09T03:03:33.774966Z",
     "iopub.status.idle": "2021-11-09T03:03:59.350116Z",
     "shell.execute_reply.started": "2021-11-09T03:03:33.774922Z",
     "shell.execute_reply": "2021-11-09T03:03:59.349367Z"
    },
    "trusted": true
   },
   "execution_count": 19,
   "outputs": []
  },
  {
   "cell_type": "code",
   "source": [],
   "metadata": {},
   "execution_count": null,
   "outputs": []
  },
  {
   "cell_type": "code",
   "source": [],
   "metadata": {},
   "execution_count": null,
   "outputs": []
  },
  {
   "cell_type": "code",
   "source": [],
   "metadata": {},
   "execution_count": null,
   "outputs": []
  },
  {
   "cell_type": "code",
   "source": [],
   "metadata": {},
   "execution_count": null,
   "outputs": []
  },
  {
   "cell_type": "code",
   "source": [],
   "metadata": {},
   "execution_count": null,
   "outputs": []
  },
  {
   "cell_type": "code",
   "source": "",
   "metadata": {},
   "execution_count": null,
   "outputs": []
  },
  {
   "cell_type": "code",
   "source": "",
   "metadata": {},
   "execution_count": null,
   "outputs": []
  },
  {
   "cell_type": "code",
   "source": "",
   "metadata": {},
   "execution_count": null,
   "outputs": []
  },
  {
   "cell_type": "code",
   "source": "",
   "metadata": {},
   "execution_count": null,
   "outputs": []
  },
  {
   "cell_type": "code",
   "source": "",
   "metadata": {},
   "execution_count": null,
   "outputs": []
  },
  {
   "cell_type": "code",
   "source": "",
   "metadata": {},
   "execution_count": null,
   "outputs": []
  }
 ]
}