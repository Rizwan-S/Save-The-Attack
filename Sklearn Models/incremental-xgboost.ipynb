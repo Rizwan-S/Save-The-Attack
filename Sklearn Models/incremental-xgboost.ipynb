{
 "metadata": {
  "kernelspec": {
   "language": "python",
   "display_name": "Python 3",
   "name": "python3"
  },
  "language_info": {
   "pygments_lexer": "ipython3",
   "nbconvert_exporter": "python",
   "version": "3.6.4",
   "file_extension": ".py",
   "codemirror_mode": {
    "name": "ipython",
    "version": 3
   },
   "name": "python",
   "mimetype": "text/x-python"
  }
 },
 "nbformat_minor": 4,
 "nbformat": 4,
 "cells": [
  {
   "cell_type": "code",
   "source": [
    "# This Python 3 environment comes with many helpful analytics libraries installed\n",
    "# It is defined by the kaggle/python Docker image: https://github.com/kaggle/docker-python\n",
    "# For example, here's several helpful packages to load\n",
    "\n",
    "import numpy as np # linear algebra\n",
    "import pandas as pd # data processing, CSV file I/O (e.g. pd.read_csv)\n",
    "\n",
    "# Input data files are available in the read-only \"../input/\" directory\n",
    "# For example, running this (by clicking run or pressing Shift+Enter) will list all files under the input directory\n",
    "\n",
    "import os\n",
    "for dirname, _, filenames in os.walk('/kaggle/input'):\n",
    "    for filename in filenames:\n",
    "        print(os.path.join(dirname, filename))\n",
    "\n",
    "# You can write up to 20GB to the current directory (/kaggle/working/) that gets preserved as output when you create a version using \"Save & Run All\" \n",
    "# You can also write temporary files to /kaggle/temp/, but they won't be saved outside of the current session"
   ],
   "metadata": {
    "_uuid": "8f2839f25d086af736a60e9eeb907d3b93b6e0e5",
    "_cell_guid": "b1076dfc-b9ad-4769-8c92-a6c4dae69d19",
    "execution": {
     "iopub.status.busy": "2021-12-15T08:57:54.18206Z",
     "iopub.execute_input": "2021-12-15T08:57:54.182911Z",
     "iopub.status.idle": "2021-12-15T08:57:54.23042Z",
     "shell.execute_reply.started": "2021-12-15T08:57:54.182743Z",
     "shell.execute_reply": "2021-12-15T08:57:54.229734Z"
    },
    "trusted": true
   },
   "execution_count": null,
   "outputs": []
  },
  {
   "cell_type": "markdown",
   "source": [
    "### Implementation of the XGBoost on the entire dataset using incremental training through batches."
   ],
   "metadata": {
    "collapsed": false,
    "pycharm": {
     "name": "#%% md\n"
    }
   }
  },
  {
   "cell_type": "code",
   "source": [
    "import xgboost as xgb"
   ],
   "metadata": {
    "execution": {
     "iopub.status.busy": "2021-12-15T08:57:54.232112Z",
     "iopub.execute_input": "2021-12-15T08:57:54.232534Z",
     "iopub.status.idle": "2021-12-15T08:57:55.491699Z",
     "shell.execute_reply.started": "2021-12-15T08:57:54.232501Z",
     "shell.execute_reply": "2021-12-15T08:57:55.490705Z"
    },
    "trusted": true
   },
   "execution_count": null,
   "outputs": []
  },
  {
   "cell_type": "markdown",
   "source": [
    "##### Specifying the datatypes (as obtained from previous notebooks) for loading the data quickly. "
   ],
   "metadata": {
    "collapsed": false,
    "pycharm": {
     "name": "#%% md\n"
    }
   }
  },
  {
   "cell_type": "code",
   "source": [
    "dtypes = {\n",
    "'MachineIdentifier': 'category',\n",
    "'EngineVersion': 'int64',\n",
    "'AppVersion': 'int64',\n",
    "'AVProductsInstalled': 'float16',\n",
    "'AVProductsEnabled': 'float16',\n",
    "'CountryIdentifier': 'int64',\n",
    "'GeoNameIdentifier': 'int64',\n",
    "'LocaleEnglishNameIdentifier': 'int64',\n",
    "'OsBuild': 'int64',\n",
    "'OsPlatformSubRelease': 'int64',\n",
    "'OsBuildLab': 'int64',\n",
    "'SkuEdition': 'int64',\n",
    "'IsProtected': 'float16',\n",
    "'IeVerIdentifier': 'int64',\n",
    "'Firewall': 'float16',\n",
    "'Census_MDC2FormFactor': 'int64',\n",
    "'Census_ProcessorCoreCount': 'float16',\n",
    "'Census_ProcessorManufacturerIdentifier': 'int64',\n",
    "'Census_PrimaryDiskTotalCapacity': 'float32',\n",
    "'Census_SystemVolumeTotalCapacity': 'float32',\n",
    "'Census_HasOpticalDiskDrive': 'int8',\n",
    "'Census_TotalPhysicalRAM': 'float32',\n",
    "'Census_ChassisTypeName': 'int64',\n",
    "'Census_InternalPrimaryDiagonalDisplaySizeInInches': 'float16',\n",
    "'Census_InternalPrimaryDisplayResolutionHorizontal': 'float16',\n",
    "'Census_InternalPrimaryDisplayResolutionVertical': 'float16',\n",
    "'Census_PowerPlatformRoleName': 'int64',\n",
    "'Census_InternalBatteryNumberOfCharges': 'float32',\n",
    "'Census_OSVersion': 'int64',\n",
    "'Census_OSBranch': 'int64',\n",
    "'Census_OSBuildNumber': 'int64',\n",
    "'Census_OSBuildRevision': 'int32',\n",
    "'Census_OSEdition': 'int64',\n",
    "'Census_OSSkuName': 'int64',\n",
    "'Census_OSInstallTypeName': 'int64',\n",
    "'Census_OSInstallLanguageIdentifier': 'int64',\n",
    "'Census_OSUILocaleIdentifier': 'int64',\n",
    "'Census_IsFlightsDisabled': 'float16',\n",
    "'Census_FlightRing': 'int64',\n",
    "'Census_FirmwareManufacturerIdentifier': 'int64',\n",
    "'Census_IsSecureBootEnabled': 'int8',\n",
    "'Census_IsTouchEnabled': 'int8',\n",
    "'Census_IsAlwaysOnAlwaysConnectedCapable': 'float16',\n",
    "'Wdft_IsGamer': 'float16',\n",
    "'Wdft_RegionIdentifier': 'int64',\n",
    "'HasDetections': 'int8',\n",
    "'Processor_arm64': 'uint8',\n",
    "'Processor_x64': 'uint8',\n",
    "'Processor_x86': 'uint8',\n",
    "'OsSuite_256': 'uint8',\n",
    "'OsSuite_768': 'uint8',\n",
    "'OsSuite_784': 'uint8',\n",
    "'Census_PrimaryDiskTypeName_HDD': 'uint8',\n",
    "'Census_PrimaryDiskTypeName_SSD': 'uint8',\n",
    "'Census_PrimaryDiskTypeName_UNKNOWN': 'uint8',\n",
    "'Census_PrimaryDiskTypeName_Unspecified': 'uint8',\n",
    "'Census_OSArchitecture_amd64': 'uint8',\n",
    "'Census_OSArchitecture_arm64': 'uint8',\n",
    "'Census_OSArchitecture_x86': 'uint8',\n",
    "'Census_OSWUAutoUpdateOptionsName_AutoInstallAndRebootAtMaintenanceTime': 'uint8',\n",
    "'Census_OSWUAutoUpdateOptionsName_DownloadNotify': 'uint8',\n",
    "'Census_OSWUAutoUpdateOptionsName_FullAuto': 'uint8',\n",
    "'Census_OSWUAutoUpdateOptionsName_Notify': 'uint8',\n",
    "'Census_OSWUAutoUpdateOptionsName_Off': 'uint8',\n",
    "'Census_OSWUAutoUpdateOptionsName_UNKNOWN': 'uint8',\n",
    "'Census_GenuineStateName_INVALID_LICENSE': 'uint8',\n",
    "'Census_GenuineStateName_IS_GENUINE': 'uint8',\n",
    "'Census_GenuineStateName_OFFLINE': 'uint8',\n",
    "'Census_GenuineStateName_UNKNOWN': 'uint8',\n",
    "'Census_ActivationChannel_OEM:DM': 'uint8',\n",
    "'Census_ActivationChannel_OEM:NONSLP': 'uint8',\n",
    "'Census_ActivationChannel_Retail': 'uint8',\n",
    "'Census_ActivationChannel_Retail:TB:Eval': 'uint8',\n",
    "'Census_ActivationChannel_Volume:GVLK': 'uint8',\n",
    "'Census_ActivationChannel_Volume:MAK': 'uint8'\n",
    "}"
   ],
   "metadata": {
    "execution": {
     "iopub.status.busy": "2021-12-15T08:57:55.493142Z",
     "iopub.execute_input": "2021-12-15T08:57:55.493411Z",
     "iopub.status.idle": "2021-12-15T08:57:55.507813Z",
     "shell.execute_reply.started": "2021-12-15T08:57:55.493377Z",
     "shell.execute_reply": "2021-12-15T08:57:55.506745Z"
    },
    "trusted": true
   },
   "execution_count": null,
   "outputs": []
  },
  {
   "cell_type": "markdown",
   "source": [
    "##### We have split the data into three files and will train three models on them and later combine them. \n",
    "### MODEL 1\n",
    "##### Reading and using the first training file (train1) to train the model. This is the incremental learning part to prevent the memory from crashing."
   ],
   "metadata": {}
  },
  {
   "cell_type": "code",
   "source": [
    "df_subset = pd.read_csv('../input/trainandtestnew/train1.csv', dtype = dtypes)"
   ],
   "metadata": {
    "execution": {
     "iopub.status.busy": "2021-12-15T08:57:55.50958Z",
     "iopub.execute_input": "2021-12-15T08:57:55.510794Z",
     "iopub.status.idle": "2021-12-15T08:58:12.284165Z",
     "shell.execute_reply.started": "2021-12-15T08:57:55.510726Z",
     "shell.execute_reply": "2021-12-15T08:58:12.282915Z"
    },
    "trusted": true
   },
   "execution_count": null,
   "outputs": []
  },
  {
   "cell_type": "code",
   "source": [
    "main_X = df_subset.drop(['HasDetections'], axis=1)\n",
    "main_y = df_subset['HasDetections']"
   ],
   "metadata": {
    "execution": {
     "iopub.status.busy": "2021-12-15T08:58:12.287237Z",
     "iopub.execute_input": "2021-12-15T08:58:12.287499Z",
     "iopub.status.idle": "2021-12-15T08:58:12.800098Z",
     "shell.execute_reply.started": "2021-12-15T08:58:12.287465Z",
     "shell.execute_reply": "2021-12-15T08:58:12.798928Z"
    },
    "trusted": true
   },
   "execution_count": null,
   "outputs": []
  },
  {
   "cell_type": "markdown",
   "source": [
    "##### Using the best hyperparameters obtained from fine-tuning. "
   ],
   "metadata": {
    "collapsed": false,
    "pycharm": {
     "name": "#%% md\n"
    }
   }
  },
  {
   "cell_type": "code",
   "source": [
    "data_matrix = xgb.DMatrix(data=main_X,label=main_y)\n",
    "params = {\n",
    "    'alpha': 10, # learning rate\n",
    "    'n_iter': 600, # number of epochs\n",
    "    'objective': 'binary:logistic', # logistic regression,\n",
    "    'n_estimators': 350,\n",
    "    'penalty': 'l2',\n",
    "    'n_jobs': -1\n",
    "}"
   ],
   "metadata": {
    "execution": {
     "iopub.status.busy": "2021-12-15T08:58:12.802059Z",
     "iopub.execute_input": "2021-12-15T08:58:12.802543Z",
     "iopub.status.idle": "2021-12-15T08:58:16.504676Z",
     "shell.execute_reply.started": "2021-12-15T08:58:12.802497Z",
     "shell.execute_reply": "2021-12-15T08:58:16.503862Z"
    },
    "trusted": true
   },
   "execution_count": null,
   "outputs": []
  },
  {
   "cell_type": "code",
   "source": [
    "model_1 = xgb.train(params, data_matrix, 350)"
   ],
   "metadata": {
    "execution": {
     "iopub.status.busy": "2021-12-15T08:58:16.508143Z",
     "iopub.execute_input": "2021-12-15T08:58:16.508542Z",
     "iopub.status.idle": "2021-12-15T09:26:59.552964Z",
     "shell.execute_reply.started": "2021-12-15T08:58:16.508488Z",
     "shell.execute_reply": "2021-12-15T09:26:59.551496Z"
    },
    "trusted": true
   },
   "execution_count": null,
   "outputs": []
  },
  {
   "cell_type": "code",
   "source": [
    "  model_1.save_model('model_1.model')"
   ],
   "metadata": {
    "execution": {
     "iopub.status.busy": "2021-12-15T09:26:59.555306Z",
     "iopub.execute_input": "2021-12-15T09:26:59.555657Z",
     "iopub.status.idle": "2021-12-15T09:26:59.567688Z",
     "shell.execute_reply.started": "2021-12-15T09:26:59.5556Z",
     "shell.execute_reply": "2021-12-15T09:26:59.566924Z"
    },
    "trusted": true
   },
   "execution_count": null,
   "outputs": []
  },
  {
   "cell_type": "markdown",
   "source": [
    "# Model 2\n",
    "##### Reading and using the second file. "
   ],
   "metadata": {}
  },
  {
   "cell_type": "code",
   "source": [
    "df_subset = pd.read_csv('../input/trainandtestnew/train2.csv', dtype = dtypes)"
   ],
   "metadata": {
    "execution": {
     "iopub.status.busy": "2021-12-15T09:26:59.56933Z",
     "iopub.execute_input": "2021-12-15T09:26:59.569836Z",
     "iopub.status.idle": "2021-12-15T09:27:15.201397Z",
     "shell.execute_reply.started": "2021-12-15T09:26:59.569791Z",
     "shell.execute_reply": "2021-12-15T09:27:15.200354Z"
    },
    "trusted": true
   },
   "execution_count": null,
   "outputs": []
  },
  {
   "cell_type": "code",
   "source": [
    "main_X = df_subset.drop(['HasDetections'], axis=1)\n",
    "main_y = df_subset['HasDetections']"
   ],
   "metadata": {
    "execution": {
     "iopub.status.busy": "2021-12-15T09:27:15.203009Z",
     "iopub.execute_input": "2021-12-15T09:27:15.203332Z",
     "iopub.status.idle": "2021-12-15T09:27:15.413468Z",
     "shell.execute_reply.started": "2021-12-15T09:27:15.203289Z",
     "shell.execute_reply": "2021-12-15T09:27:15.412146Z"
    },
    "trusted": true
   },
   "execution_count": null,
   "outputs": []
  },
  {
   "cell_type": "code",
   "source": [
    "data_matrix = xgb.DMatrix(data=main_X,label=main_y)\n",
    "params = {\n",
    "    'alpha': 10, # learning rate\n",
    "    'n_iter': 600, # number of epochs\n",
    "    'objective': 'binary:logistic', # logistic regression,\n",
    "    'n_estimators': 350,\n",
    "    'penalty': 'l2',\n",
    "    'n_jobs': -1\n",
    "}"
   ],
   "metadata": {
    "execution": {
     "iopub.status.busy": "2021-12-15T09:27:15.415916Z",
     "iopub.execute_input": "2021-12-15T09:27:15.416309Z",
     "iopub.status.idle": "2021-12-15T09:27:19.177148Z",
     "shell.execute_reply.started": "2021-12-15T09:27:15.416262Z",
     "shell.execute_reply": "2021-12-15T09:27:19.176102Z"
    },
    "trusted": true
   },
   "execution_count": null,
   "outputs": []
  },
  {
   "cell_type": "code",
   "source": [
    "model_2= xgb.train(params, data_matrix, 350, xgb_model='model_1.model')"
   ],
   "metadata": {
    "execution": {
     "iopub.status.busy": "2021-12-15T09:27:19.178717Z",
     "iopub.execute_input": "2021-12-15T09:27:19.179006Z",
     "iopub.status.idle": "2021-12-15T09:53:12.633427Z",
     "shell.execute_reply.started": "2021-12-15T09:27:19.178972Z",
     "shell.execute_reply": "2021-12-15T09:53:12.632113Z"
    },
    "trusted": true
   },
   "execution_count": null,
   "outputs": []
  },
  {
   "cell_type": "code",
   "source": [
    "model_2.save_model('model_2.model')"
   ],
   "metadata": {
    "execution": {
     "iopub.status.busy": "2021-12-15T09:53:12.634991Z",
     "iopub.execute_input": "2021-12-15T09:53:12.636455Z",
     "iopub.status.idle": "2021-12-15T09:53:12.648161Z",
     "shell.execute_reply.started": "2021-12-15T09:53:12.636405Z",
     "shell.execute_reply": "2021-12-15T09:53:12.646762Z"
    },
    "trusted": true
   },
   "execution_count": null,
   "outputs": []
  },
  {
   "cell_type": "markdown",
   "source": [
    "# Model 3\n",
    "##### Reading and using the third file. "
   ],
   "metadata": {}
  },
  {
   "cell_type": "code",
   "source": [
    "df_subset = pd.read_csv('../input/trainandtestnew/train3.csv', dtype = dtypes)"
   ],
   "metadata": {
    "execution": {
     "iopub.status.busy": "2021-12-15T09:53:12.651806Z",
     "iopub.execute_input": "2021-12-15T09:53:12.652525Z",
     "iopub.status.idle": "2021-12-15T09:53:28.473797Z",
     "shell.execute_reply.started": "2021-12-15T09:53:12.652477Z",
     "shell.execute_reply": "2021-12-15T09:53:28.472771Z"
    },
    "trusted": true
   },
   "execution_count": null,
   "outputs": []
  },
  {
   "cell_type": "code",
   "source": [
    "main_X = df_subset.drop(['HasDetections'], axis=1)\n",
    "main_y = df_subset['HasDetections']"
   ],
   "metadata": {
    "execution": {
     "iopub.status.busy": "2021-12-15T09:53:28.475351Z",
     "iopub.execute_input": "2021-12-15T09:53:28.475597Z",
     "iopub.status.idle": "2021-12-15T09:53:28.650074Z",
     "shell.execute_reply.started": "2021-12-15T09:53:28.475564Z",
     "shell.execute_reply": "2021-12-15T09:53:28.649089Z"
    },
    "trusted": true
   },
   "execution_count": null,
   "outputs": []
  },
  {
   "cell_type": "code",
   "source": [
    "data_matrix = xgb.DMatrix(data=main_X,label=main_y)\n",
    "params = {\n",
    "    'alpha': 10, # learning rate\n",
    "    'n_iter': 600, # number of epochs\n",
    "    'objective': 'binary:logistic', # logistic regression,\n",
    "    'n_estimators': 350,\n",
    "    'penalty': 'l2',\n",
    "    'n_jobs': -1\n",
    "}"
   ],
   "metadata": {
    "execution": {
     "iopub.status.busy": "2021-12-15T09:53:28.651524Z",
     "iopub.execute_input": "2021-12-15T09:53:28.651784Z",
     "iopub.status.idle": "2021-12-15T09:53:33.034918Z",
     "shell.execute_reply.started": "2021-12-15T09:53:28.651745Z",
     "shell.execute_reply": "2021-12-15T09:53:33.033968Z"
    },
    "trusted": true
   },
   "execution_count": null,
   "outputs": []
  },
  {
   "cell_type": "markdown",
   "source": [
    "##### At each new model, we specify the old model(s) to be used in continuation. "
   ],
   "metadata": {
    "collapsed": false,
    "pycharm": {
     "name": "#%% md\n"
    }
   }
  },
  {
   "cell_type": "code",
   "source": [
    "model_3= xgb.train(params, data_matrix, 350, xgb_model='model_2.model')"
   ],
   "metadata": {
    "execution": {
     "iopub.status.busy": "2021-12-15T09:53:33.036438Z",
     "iopub.execute_input": "2021-12-15T09:53:33.036696Z",
     "iopub.status.idle": "2021-12-15T10:19:14.805751Z",
     "shell.execute_reply.started": "2021-12-15T09:53:33.036664Z",
     "shell.execute_reply": "2021-12-15T10:19:14.804975Z"
    },
    "trusted": true
   },
   "execution_count": null,
   "outputs": []
  },
  {
   "cell_type": "code",
   "source": [
    "test_df = pd.read_csv('../input/trainandtestnew/test_df.csv', dtype = dtypes)"
   ],
   "metadata": {
    "execution": {
     "iopub.status.busy": "2021-12-15T10:19:14.810143Z",
     "iopub.execute_input": "2021-12-15T10:19:14.811183Z",
     "iopub.status.idle": "2021-12-15T10:19:34.782279Z",
     "shell.execute_reply.started": "2021-12-15T10:19:14.811106Z",
     "shell.execute_reply": "2021-12-15T10:19:34.781269Z"
    },
    "trusted": true
   },
   "execution_count": null,
   "outputs": []
  },
  {
   "cell_type": "markdown",
   "source": [
    "##### Finally, using the third model to predict results on the test data. "
   ],
   "metadata": {
    "collapsed": false,
    "pycharm": {
     "name": "#%% md\n"
    }
   }
  },
  {
   "cell_type": "code",
   "source": [
    "kaggle_test_X = test_df.drop(columns=\"MachineIdentifier\")\n",
    "kaggle_test_X = xgb.DMatrix(kaggle_test_X)\n",
    "kaggle_test_yhat = model_3.predict(kaggle_test_X)\n",
    "# kaggle_test_yhat = model_3.predict(kaggle_test_X)[:, -1] \n",
    "test_df[\"HasDetections\"] = kaggle_test_yhat\n",
    "to_submit = test_df[[\"MachineIdentifier\", \"HasDetections\"]]\n",
    "to_submit.to_csv(\"class-xgb.csv\", index=False)"
   ],
   "metadata": {
    "execution": {
     "iopub.status.busy": "2021-12-15T10:19:34.78363Z",
     "iopub.execute_input": "2021-12-15T10:19:34.783903Z",
     "iopub.status.idle": "2021-12-15T10:20:09.376142Z",
     "shell.execute_reply.started": "2021-12-15T10:19:34.783873Z",
     "shell.execute_reply": "2021-12-15T10:20:09.374941Z"
    },
    "trusted": true
   },
   "execution_count": null,
   "outputs": []
  },
  {
   "cell_type": "code",
   "source": "",
   "metadata": {},
   "execution_count": null,
   "outputs": []
  }
 ]
}