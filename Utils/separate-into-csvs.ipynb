{
 "metadata": {
  "kernelspec": {
   "language": "python",
   "display_name": "Python 3",
   "name": "python3"
  },
  "language_info": {
   "pygments_lexer": "ipython3",
   "nbconvert_exporter": "python",
   "version": "3.6.4",
   "file_extension": ".py",
   "codemirror_mode": {
    "name": "ipython",
    "version": 3
   },
   "name": "python",
   "mimetype": "text/x-python"
  }
 },
 "nbformat_minor": 4,
 "nbformat": 4,
 "cells": [
  {
   "cell_type": "code",
   "source": [
    "# This Python 3 environment comes with many helpful analytics libraries installed\n",
    "# It is defined by the kaggle/python Docker image: https://github.com/kaggle/docker-python\n",
    "# For example, here's several helpful packages to load\n",
    "\n",
    "import numpy as np # linear algebra\n",
    "import pandas as pd # data processing, CSV file I/O (e.g. pd.read_csv)\n",
    "\n",
    "# Input data files are available in the read-only \"../input/\" directory\n",
    "# For example, running this (by clicking run or pressing Shift+Enter) will list all files under the input directory\n",
    "\n",
    "import os\n",
    "for dirname, _, filenames in os.walk('/kaggle/input'):\n",
    "    for filename in filenames:\n",
    "        print(os.path.join(dirname, filename))\n",
    "\n",
    "# You can write up to 20GB to the current directory (/kaggle/working/) that gets preserved as output when you create a version using \"Save & Run All\" \n",
    "# You can also write temporary files to /kaggle/temp/, but they won't be saved outside of the current session"
   ],
   "metadata": {
    "_uuid": "8f2839f25d086af736a60e9eeb907d3b93b6e0e5",
    "_cell_guid": "b1076dfc-b9ad-4769-8c92-a6c4dae69d19",
    "execution": {
     "iopub.status.busy": "2021-12-13T09:37:59.575333Z",
     "iopub.execute_input": "2021-12-13T09:37:59.575977Z",
     "iopub.status.idle": "2021-12-13T09:37:59.595744Z",
     "shell.execute_reply.started": "2021-12-13T09:37:59.575883Z",
     "shell.execute_reply": "2021-12-13T09:37:59.594601Z"
    },
    "trusted": true
   },
   "execution_count": null,
   "outputs": []
  },
  {
   "cell_type": "markdown",
   "source": [
    "### This notebook splits the training data into three separate files to ease on memory and these files are used to train the model one after the other. "
   ],
   "metadata": {
    "collapsed": false,
    "pycharm": {
     "name": "#%% md\n"
    }
   }
  },
  {
   "cell_type": "markdown",
   "source": [
    "##### Specifying the datatypes (as obtained from previous notebooks) for loading the data quickly. "
   ],
   "metadata": {
    "collapsed": false,
    "pycharm": {
     "name": "#%% md\n"
    }
   }
  },
  {
   "cell_type": "code",
   "source": [
    "dtypes = {\n",
    "'MachineIdentifier': 'category',\n",
    "'EngineVersion': 'int64',\n",
    "'AppVersion': 'int64',\n",
    "'AVProductsInstalled': 'float16',\n",
    "'AVProductsEnabled': 'float16',\n",
    "'CountryIdentifier': 'int64',\n",
    "'GeoNameIdentifier': 'int64',\n",
    "'LocaleEnglishNameIdentifier': 'int64',\n",
    "'OsBuild': 'int64',\n",
    "'OsPlatformSubRelease': 'int64',\n",
    "'OsBuildLab': 'int64',\n",
    "'SkuEdition': 'int64',\n",
    "'IsProtected': 'float16',\n",
    "'IeVerIdentifier': 'int64',\n",
    "'Firewall': 'float16',\n",
    "'Census_MDC2FormFactor': 'int64',\n",
    "'Census_ProcessorCoreCount': 'float16',\n",
    "'Census_ProcessorManufacturerIdentifier': 'int64',\n",
    "'Census_PrimaryDiskTotalCapacity': 'float32',\n",
    "'Census_SystemVolumeTotalCapacity': 'float32',\n",
    "'Census_HasOpticalDiskDrive': 'int8',\n",
    "'Census_TotalPhysicalRAM': 'float32',\n",
    "'Census_ChassisTypeName': 'int64',\n",
    "'Census_InternalPrimaryDiagonalDisplaySizeInInches': 'float16',\n",
    "'Census_InternalPrimaryDisplayResolutionHorizontal': 'float16',\n",
    "'Census_InternalPrimaryDisplayResolutionVertical': 'float16',\n",
    "'Census_PowerPlatformRoleName': 'int64',\n",
    "'Census_InternalBatteryNumberOfCharges': 'float32',\n",
    "'Census_OSVersion': 'int64',\n",
    "'Census_OSBranch': 'int64',\n",
    "'Census_OSBuildNumber': 'int64',\n",
    "'Census_OSBuildRevision': 'int32',\n",
    "'Census_OSEdition': 'int64',\n",
    "'Census_OSSkuName': 'int64',\n",
    "'Census_OSInstallTypeName': 'int64',\n",
    "'Census_OSInstallLanguageIdentifier': 'int64',\n",
    "'Census_OSUILocaleIdentifier': 'int64',\n",
    "'Census_IsFlightsDisabled': 'float16',\n",
    "'Census_FlightRing': 'int64',\n",
    "'Census_FirmwareManufacturerIdentifier': 'int64',\n",
    "'Census_IsSecureBootEnabled': 'int8',\n",
    "'Census_IsTouchEnabled': 'int8',\n",
    "'Census_IsAlwaysOnAlwaysConnectedCapable': 'float16',\n",
    "'Wdft_IsGamer': 'float16',\n",
    "'Wdft_RegionIdentifier': 'int64',\n",
    "'HasDetections': 'int8',\n",
    "'Processor_arm64': 'uint8',\n",
    "'Processor_x64': 'uint8',\n",
    "'Processor_x86': 'uint8',\n",
    "'OsSuite_256': 'uint8',\n",
    "'OsSuite_768': 'uint8',\n",
    "'OsSuite_784': 'uint8',\n",
    "'Census_PrimaryDiskTypeName_HDD': 'uint8',\n",
    "'Census_PrimaryDiskTypeName_SSD': 'uint8',\n",
    "'Census_PrimaryDiskTypeName_UNKNOWN': 'uint8',\n",
    "'Census_PrimaryDiskTypeName_Unspecified': 'uint8',\n",
    "'Census_OSArchitecture_amd64': 'uint8',\n",
    "'Census_OSArchitecture_arm64': 'uint8',\n",
    "'Census_OSArchitecture_x86': 'uint8',\n",
    "'Census_OSWUAutoUpdateOptionsName_AutoInstallAndRebootAtMaintenanceTime': 'uint8',\n",
    "'Census_OSWUAutoUpdateOptionsName_DownloadNotify': 'uint8',\n",
    "'Census_OSWUAutoUpdateOptionsName_FullAuto': 'uint8',\n",
    "'Census_OSWUAutoUpdateOptionsName_Notify': 'uint8',\n",
    "'Census_OSWUAutoUpdateOptionsName_Off': 'uint8',\n",
    "'Census_OSWUAutoUpdateOptionsName_UNKNOWN': 'uint8',\n",
    "'Census_GenuineStateName_INVALID_LICENSE': 'uint8',\n",
    "'Census_GenuineStateName_IS_GENUINE': 'uint8',\n",
    "'Census_GenuineStateName_OFFLINE': 'uint8',\n",
    "'Census_GenuineStateName_UNKNOWN': 'uint8',\n",
    "'Census_ActivationChannel_OEM:DM': 'uint8',\n",
    "'Census_ActivationChannel_OEM:NONSLP': 'uint8',\n",
    "'Census_ActivationChannel_Retail': 'uint8',\n",
    "'Census_ActivationChannel_Retail:TB:Eval': 'uint8',\n",
    "'Census_ActivationChannel_Volume:GVLK': 'uint8',\n",
    "'Census_ActivationChannel_Volume:MAK': 'uint8'\n",
    "}"
   ],
   "metadata": {
    "execution": {
     "iopub.status.busy": "2021-12-13T09:37:59.597635Z",
     "iopub.execute_input": "2021-12-13T09:37:59.598244Z",
     "iopub.status.idle": "2021-12-13T09:37:59.611845Z",
     "shell.execute_reply.started": "2021-12-13T09:37:59.598199Z",
     "shell.execute_reply": "2021-12-13T09:37:59.610916Z"
    },
    "trusted": true
   },
   "execution_count": null,
   "outputs": []
  },
  {
   "cell_type": "code",
   "source": [
    "df = pd.read_csv('../input/trainandtestnew/train_df.csv', dtype = dtypes)"
   ],
   "metadata": {
    "execution": {
     "iopub.status.busy": "2021-12-13T09:37:59.613348Z",
     "iopub.execute_input": "2021-12-13T09:37:59.614141Z",
     "iopub.status.idle": "2021-12-13T09:39:00.382734Z",
     "shell.execute_reply.started": "2021-12-13T09:37:59.614057Z",
     "shell.execute_reply": "2021-12-13T09:39:00.381533Z"
    },
    "trusted": true
   },
   "execution_count": null,
   "outputs": []
  },
  {
   "cell_type": "code",
   "source": [
    "main_X = df.drop(['HasDetections', 'MachineIdentifier'], axis=1)\n",
    "main_y = df['HasDetections']"
   ],
   "metadata": {
    "execution": {
     "iopub.status.busy": "2021-12-13T09:39:00.385678Z",
     "iopub.execute_input": "2021-12-13T09:39:00.385969Z",
     "iopub.status.idle": "2021-12-13T09:39:01.304147Z",
     "shell.execute_reply.started": "2021-12-13T09:39:00.385937Z",
     "shell.execute_reply": "2021-12-13T09:39:01.302893Z"
    },
    "trusted": true
   },
   "execution_count": null,
   "outputs": []
  },
  {
   "cell_type": "code",
   "source": [
    "from sklearn.model_selection import train_test_split"
   ],
   "metadata": {
    "execution": {
     "iopub.status.busy": "2021-12-13T09:39:01.305626Z",
     "iopub.execute_input": "2021-12-13T09:39:01.305893Z",
     "iopub.status.idle": "2021-12-13T09:39:01.812487Z",
     "shell.execute_reply.started": "2021-12-13T09:39:01.305862Z",
     "shell.execute_reply": "2021-12-13T09:39:01.81117Z"
    },
    "trusted": true
   },
   "execution_count": null,
   "outputs": []
  },
  {
   "cell_type": "code",
   "source": [
    "X_train1, X_test, y_train1, y_test = train_test_split(main_X, main_y, test_size = 0.65, random_state = 42)"
   ],
   "metadata": {
    "execution": {
     "iopub.status.busy": "2021-12-13T09:39:01.814077Z",
     "iopub.execute_input": "2021-12-13T09:39:01.814371Z",
     "iopub.status.idle": "2021-12-13T09:39:08.67832Z",
     "shell.execute_reply.started": "2021-12-13T09:39:01.814335Z",
     "shell.execute_reply": "2021-12-13T09:39:08.677116Z"
    },
    "trusted": true
   },
   "execution_count": null,
   "outputs": []
  },
  {
   "cell_type": "code",
   "source": [
    "X_train2, X_test, y_train2, y_test = train_test_split(X_test, y_test, test_size = 0.5, random_state = 42)"
   ],
   "metadata": {
    "execution": {
     "iopub.status.busy": "2021-12-13T09:39:08.679925Z",
     "iopub.execute_input": "2021-12-13T09:39:08.68042Z",
     "iopub.status.idle": "2021-12-13T09:39:12.796083Z",
     "shell.execute_reply.started": "2021-12-13T09:39:08.680384Z",
     "shell.execute_reply": "2021-12-13T09:39:12.795177Z"
    },
    "trusted": true
   },
   "execution_count": null,
   "outputs": []
  },
  {
   "cell_type": "markdown",
   "source": [
    "##### First split:"
   ],
   "metadata": {
    "collapsed": false,
    "pycharm": {
     "name": "#%% md\n"
    }
   }
  },
  {
   "cell_type": "code",
   "source": [
    "X_train1['HasDetections'] = y_train1\n",
    "X_train1.to_csv(\"train1.csv\", index=False)"
   ],
   "metadata": {
    "execution": {
     "iopub.status.busy": "2021-12-13T09:39:12.797489Z",
     "iopub.execute_input": "2021-12-13T09:39:12.797715Z",
     "iopub.status.idle": "2021-12-13T09:40:12.174226Z",
     "shell.execute_reply.started": "2021-12-13T09:39:12.797688Z",
     "shell.execute_reply": "2021-12-13T09:40:12.173278Z"
    },
    "trusted": true
   },
   "execution_count": null,
   "outputs": []
  },
  {
   "cell_type": "markdown",
   "source": [
    "##### Second split:"
   ],
   "metadata": {
    "collapsed": false,
    "pycharm": {
     "name": "#%% md\n"
    }
   }
  },
  {
   "cell_type": "code",
   "source": [
    "X_train2['HasDetections'] = y_train2\n",
    "X_train2.to_csv(\"train2.csv\", index=False)"
   ],
   "metadata": {
    "execution": {
     "iopub.status.busy": "2021-12-13T09:40:12.176301Z",
     "iopub.execute_input": "2021-12-13T09:40:12.176612Z",
     "iopub.status.idle": "2021-12-13T09:41:08.926823Z",
     "shell.execute_reply.started": "2021-12-13T09:40:12.176577Z",
     "shell.execute_reply": "2021-12-13T09:41:08.92573Z"
    },
    "trusted": true
   },
   "execution_count": null,
   "outputs": []
  },
  {
   "cell_type": "markdown",
   "source": [
    "##### Third split:"
   ],
   "metadata": {
    "collapsed": false,
    "pycharm": {
     "name": "#%% md\n"
    }
   }
  },
  {
   "cell_type": "code",
   "source": [
    "X_test['HasDetections'] = y_test\n",
    "X_test.to_csv(\"train3.csv\", index=False)"
   ],
   "metadata": {
    "execution": {
     "iopub.status.busy": "2021-12-13T09:41:08.928249Z",
     "iopub.execute_input": "2021-12-13T09:41:08.928541Z",
     "iopub.status.idle": "2021-12-13T09:42:06.2816Z",
     "shell.execute_reply.started": "2021-12-13T09:41:08.928509Z",
     "shell.execute_reply": "2021-12-13T09:42:06.279924Z"
    },
    "trusted": true
   },
   "execution_count": null,
   "outputs": []
  },
  {
   "cell_type": "markdown",
   "source": [
    "##### Now, these files will be used for incremental training of various models. "
   ],
   "metadata": {
    "collapsed": false,
    "pycharm": {
     "name": "#%% md\n"
    }
   }
  }
 ]
}