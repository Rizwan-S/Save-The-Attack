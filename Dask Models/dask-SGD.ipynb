{
 "metadata": {
  "kernelspec": {
   "language": "python",
   "display_name": "Python 3",
   "name": "python3"
  },
  "language_info": {
   "name": "python",
   "version": "3.7.10",
   "mimetype": "text/x-python",
   "codemirror_mode": {
    "name": "ipython",
    "version": 3
   },
   "pygments_lexer": "ipython3",
   "nbconvert_exporter": "python",
   "file_extension": ".py"
  }
 },
 "nbformat_minor": 4,
 "nbformat": 4,
 "cells": [
  {
   "cell_type": "code",
   "source": [
    "# This Python 3 environment comes with many helpful analytics libraries installed\n",
    "# It is defined by the kaggle/python Docker image: https://github.com/kaggle/docker-python\n",
    "# For example, here's several helpful packages to load\n",
    "\n",
    "import numpy as np # linear algebra\n",
    "import pandas as pd # data processing, CSV file I/O (e.g. pd.read_csv)\n",
    "from sklearn import metrics\n",
    "from sklearn.metrics import accuracy_score\n",
    "\n",
    "\n",
    "# Input data files are available in the read-only \"../input/\" directory\n",
    "# For example, running this (by clicking run or pressing Shift+Enter) will list all files under the input directory\n",
    "\n",
    "import os\n",
    "for dirname, _, filenames in os.walk('/kaggle/input'):\n",
    "    for filename in filenames:\n",
    "        print(os.path.join(dirname, filename))\n",
    "\n",
    "# You can write up to 20GB to the current directory (/kaggle/working/) that gets preserved as output when you create a version using \"Save & Run All\" \n",
    "# You can also write temporary files to /kaggle/temp/, but they won't be saved outside of the current session"
   ],
   "metadata": {
    "_uuid": "8f2839f25d086af736a60e9eeb907d3b93b6e0e5",
    "_cell_guid": "b1076dfc-b9ad-4769-8c92-a6c4dae69d19",
    "execution": {
     "iopub.status.busy": "2021-11-17T10:00:53.432097Z",
     "iopub.execute_input": "2021-11-17T10:00:53.432513Z",
     "iopub.status.idle": "2021-11-17T10:00:53.791091Z",
     "shell.execute_reply.started": "2021-11-17T10:00:53.432395Z",
     "shell.execute_reply": "2021-11-17T10:00:53.790262Z"
    },
    "trusted": true
   },
   "execution_count": 1,
   "outputs": []
  },
  {
   "cell_type": "markdown",
   "source": [
    "### Implementation of SGD classifier using Dask-ML on the entire dataset."
   ],
   "metadata": {
    "collapsed": false,
    "pycharm": {
     "name": "#%% md\n"
    }
   }
  },
  {
   "cell_type": "code",
   "source": [
    "import dask.dataframe as dd\n",
    "import dask.array as da"
   ],
   "metadata": {
    "execution": {
     "iopub.status.busy": "2021-11-17T10:00:53.793598Z",
     "iopub.execute_input": "2021-11-17T10:00:53.794157Z",
     "iopub.status.idle": "2021-11-17T10:00:54.419658Z",
     "shell.execute_reply.started": "2021-11-17T10:00:53.794108Z",
     "shell.execute_reply": "2021-11-17T10:00:54.418622Z"
    },
    "trusted": true
   },
   "execution_count": 2,
   "outputs": []
  },
  {
   "cell_type": "markdown",
   "source": [
    "# Load Data"
   ],
   "metadata": {}
  },
  {
   "cell_type": "code",
   "source": [
    "df_subset = dd.read_csv('../input/train-data-modified/train_df.csv')"
   ],
   "metadata": {
    "execution": {
     "iopub.status.busy": "2021-11-17T10:00:54.437802Z",
     "iopub.execute_input": "2021-11-17T10:00:54.438450Z",
     "iopub.status.idle": "2021-11-17T10:00:54.498751Z",
     "shell.execute_reply.started": "2021-11-17T10:00:54.438412Z",
     "shell.execute_reply": "2021-11-17T10:00:54.497816Z"
    },
    "trusted": true
   },
   "execution_count": 4,
   "outputs": []
  },
  {
   "cell_type": "code",
   "source": [
    "df_subset.head()"
   ],
   "metadata": {
    "execution": {
     "iopub.status.busy": "2021-11-17T10:00:54.501362Z",
     "iopub.execute_input": "2021-11-17T10:00:54.501718Z",
     "iopub.status.idle": "2021-11-17T10:00:57.135594Z",
     "shell.execute_reply.started": "2021-11-17T10:00:54.501683Z",
     "shell.execute_reply": "2021-11-17T10:00:57.134940Z"
    },
    "trusted": true
   },
   "execution_count": 5,
   "outputs": []
  },
  {
   "cell_type": "code",
   "source": [
    "test_df = dd.read_csv('../input/test-data-modified/test_df.csv')"
   ],
   "metadata": {
    "execution": {
     "iopub.status.busy": "2021-11-17T10:00:57.137214Z",
     "iopub.execute_input": "2021-11-17T10:00:57.137898Z",
     "iopub.status.idle": "2021-11-17T10:00:57.177649Z",
     "shell.execute_reply.started": "2021-11-17T10:00:57.137850Z",
     "shell.execute_reply": "2021-11-17T10:00:57.176754Z"
    },
    "trusted": true
   },
   "execution_count": 6,
   "outputs": []
  },
  {
   "cell_type": "code",
   "source": [
    "test_df.head()"
   ],
   "metadata": {
    "execution": {
     "iopub.status.busy": "2021-11-17T10:00:57.179597Z",
     "iopub.execute_input": "2021-11-17T10:00:57.180289Z",
     "iopub.status.idle": "2021-11-17T10:00:59.608283Z",
     "shell.execute_reply.started": "2021-11-17T10:00:57.180237Z",
     "shell.execute_reply": "2021-11-17T10:00:59.607251Z"
    },
    "trusted": true
   },
   "execution_count": 7,
   "outputs": []
  },
  {
   "cell_type": "code",
   "source": [
    "main_X = df_subset.drop(['HasDetections', 'MachineIdentifier'], axis=1).to_dask_array(lengths=True)\n",
    "main_y = df_subset['HasDetections'].to_dask_array(lengths=True)"
   ],
   "metadata": {
    "execution": {
     "iopub.status.busy": "2021-11-17T10:00:59.609893Z",
     "iopub.execute_input": "2021-11-17T10:00:59.610858Z",
     "iopub.status.idle": "2021-11-17T10:02:17.416305Z",
     "shell.execute_reply.started": "2021-11-17T10:00:59.610807Z",
     "shell.execute_reply": "2021-11-17T10:02:17.415258Z"
    },
    "trusted": true
   },
   "execution_count": 8,
   "outputs": []
  },
  {
   "cell_type": "code",
   "source": [
    "test_X = test_df.drop(['MachineIdentifier'], axis=1).to_dask_array(lengths=True)"
   ],
   "metadata": {
    "execution": {
     "iopub.status.busy": "2021-11-17T10:02:17.417931Z",
     "iopub.execute_input": "2021-11-17T10:02:17.418297Z",
     "iopub.status.idle": "2021-11-17T10:02:35.795749Z",
     "shell.execute_reply.started": "2021-11-17T10:02:17.418251Z",
     "shell.execute_reply": "2021-11-17T10:02:35.794687Z"
    },
    "trusted": true
   },
   "execution_count": 9,
   "outputs": []
  },
  {
   "cell_type": "markdown",
   "source": [
    "# Scaling"
   ],
   "metadata": {}
  },
  {
   "cell_type": "code",
   "source": [
    "#SCALING NOT WORKING\n",
    "# from dask_ml.preprocessing import StandardScaler\n",
    "# scalar = StandardScaler()\n",
    "# scalar.fit_transform(main_X)"
   ],
   "metadata": {
    "execution": {
     "iopub.status.busy": "2021-11-17T10:02:35.797391Z",
     "iopub.execute_input": "2021-11-17T10:02:35.797723Z",
     "iopub.status.idle": "2021-11-17T10:02:35.801928Z",
     "shell.execute_reply.started": "2021-11-17T10:02:35.797689Z",
     "shell.execute_reply": "2021-11-17T10:02:35.800855Z"
    },
    "trusted": true
   },
   "execution_count": 10,
   "outputs": []
  },
  {
   "cell_type": "code",
   "source": [
    "pip install dask-ml[complete]"
   ],
   "metadata": {
    "execution": {
     "iopub.status.busy": "2021-11-17T10:02:35.803452Z",
     "iopub.execute_input": "2021-11-17T10:02:35.803924Z",
     "iopub.status.idle": "2021-11-17T10:02:45.782732Z",
     "shell.execute_reply.started": "2021-11-17T10:02:35.803891Z",
     "shell.execute_reply": "2021-11-17T10:02:45.781524Z"
    },
    "trusted": true
   },
   "execution_count": 11,
   "outputs": []
  },
  {
   "cell_type": "markdown",
   "source": [
    "# SGD classifier"
   ],
   "metadata": {}
  },
  {
   "cell_type": "code",
   "source": [
    "from dask_ml.wrappers import Incremental\n",
    "from sklearn.linear_model import SGDClassifier"
   ],
   "metadata": {
    "execution": {
     "iopub.status.busy": "2021-11-17T10:02:45.998827Z",
     "iopub.execute_input": "2021-11-17T10:02:45.999094Z",
     "iopub.status.idle": "2021-11-17T10:02:46.014218Z",
     "shell.execute_reply.started": "2021-11-17T10:02:45.999063Z",
     "shell.execute_reply": "2021-11-17T10:02:46.012881Z"
    },
    "trusted": true
   },
   "execution_count": 16,
   "outputs": []
  },
  {
   "cell_type": "markdown",
   "source": [
    "##### Using the best hyperparameters obtained from fine-tuning. "
   ],
   "metadata": {
    "collapsed": false,
    "pycharm": {
     "name": "#%% md\n"
    }
   }
  },
  {
   "cell_type": "code",
   "source": [
    "params = {\n",
    "    \"loss\" : [\"hinge\", \"log\"],\n",
    "    \"alpha\" : [0.0001, 0.001, 0.01, 0.1],\n",
    "    \"penalty\" : [\"l2\", \"l1\", \"none\"],\n",
    "}\n",
    "\n",
    "estimator = SGDClassifier(max_iter=500)\n",
    "clf = dcv.GridSearchCV(estimator, param_grid=params)\n",
    "\n",
    "\n",
    "clf = Incremental(estimator)\n",
    "clf.fit(main_X, main_y, classes=[0, 1])"
   ],
   "metadata": {
    "execution": {
     "iopub.status.busy": "2021-11-17T10:02:46.016394Z",
     "iopub.execute_input": "2021-11-17T10:02:46.017083Z",
     "iopub.status.idle": "2021-11-17T10:03:53.099167Z",
     "shell.execute_reply.started": "2021-11-17T10:02:46.017019Z",
     "shell.execute_reply": "2021-11-17T10:03:53.098136Z"
    },
    "trusted": true
   },
   "execution_count": 17,
   "outputs": []
  },
  {
   "cell_type": "code",
   "source": "y_pred = clf.predict(test_X)\n# print('Accuracy Score: ', (accuracy_score(y_test, y_pred)))\n# print('ROC-AUC score: ', metrics.roc_auc_score(y_test, y_pred))",
   "metadata": {
    "execution": {
     "iopub.status.busy": "2021-11-17T10:03:53.100591Z",
     "iopub.execute_input": "2021-11-17T10:03:53.101014Z",
     "iopub.status.idle": "2021-11-17T10:03:53.111514Z",
     "shell.execute_reply.started": "2021-11-17T10:03:53.100980Z",
     "shell.execute_reply": "2021-11-17T10:03:53.110235Z"
    },
    "trusted": true
   },
   "execution_count": 18,
   "outputs": []
  },
  {
   "cell_type": "code",
   "source": "test_df[\"HasDetections\"] = y_pred\nto_submit = test_df[[\"MachineIdentifier\", \"HasDetections\"]]\nto_submit.to_csv(\"submitit.csv\", single_file=True, index=False)",
   "metadata": {
    "execution": {
     "iopub.status.busy": "2021-11-17T10:03:53.112797Z",
     "iopub.execute_input": "2021-11-17T10:03:53.113110Z",
     "iopub.status.idle": "2021-11-17T10:04:40.316073Z",
     "shell.execute_reply.started": "2021-11-17T10:03:53.113078Z",
     "shell.execute_reply": "2021-11-17T10:04:40.315298Z"
    },
    "trusted": true
   },
   "execution_count": 19,
   "outputs": []
  },
  {
   "cell_type": "code",
   "source": "y_pred",
   "metadata": {
    "execution": {
     "iopub.status.busy": "2021-11-17T10:04:40.317710Z",
     "iopub.execute_input": "2021-11-17T10:04:40.318093Z",
     "iopub.status.idle": "2021-11-17T10:04:40.335325Z",
     "shell.execute_reply.started": "2021-11-17T10:04:40.318044Z",
     "shell.execute_reply": "2021-11-17T10:04:40.334369Z"
    },
    "trusted": true
   },
   "execution_count": 20,
   "outputs": []
  },
  {
   "cell_type": "code",
   "source": "",
   "metadata": {},
   "execution_count": null,
   "outputs": []
  }
 ]
}