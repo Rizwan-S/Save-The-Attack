{
 "metadata": {
  "kernelspec": {
   "language": "python",
   "display_name": "Python 3",
   "name": "python3"
  },
  "language_info": {
   "pygments_lexer": "ipython3",
   "nbconvert_exporter": "python",
   "version": "3.6.4",
   "file_extension": ".py",
   "codemirror_mode": {
    "name": "ipython",
    "version": 3
   },
   "name": "python",
   "mimetype": "text/x-python"
  }
 },
 "nbformat_minor": 4,
 "nbformat": 4,
 "cells": [
  {
   "cell_type": "code",
   "source": [
    "# This Python 3 environment comes with many helpful analytics libraries installed\n",
    "# It is defined by the kaggle/python Docker image: https://github.com/kaggle/docker-python\n",
    "# For example, here's several helpful packages to load\n",
    "\n",
    "import numpy as np # linear algebra\n",
    "import pandas as pd # data processing, CSV file I/O (e.g. pd.read_csv)\n",
    "from sklearn import metrics\n",
    "from sklearn.metrics import accuracy_score\n",
    "\n",
    "\n",
    "\n",
    "# Input data files are available in the read-only \"../input/\" directory\n",
    "# For example, running this (by clicking run or pressing Shift+Enter) will list all files under the input directory\n",
    "\n",
    "import os\n",
    "for dirname, _, filenames in os.walk('/kaggle/input'):\n",
    "    for filename in filenames:\n",
    "        print(os.path.join(dirname, filename))\n",
    "\n",
    "# You can write up to 20GB to the current directory (/kaggle/working/) that gets preserved as output when you create a version using \"Save & Run All\" \n",
    "# You can also write temporary files to /kaggle/temp/, but they won't be saved outside of the current session"
   ],
   "metadata": {
    "_uuid": "8f2839f25d086af736a60e9eeb907d3b93b6e0e5",
    "_cell_guid": "b1076dfc-b9ad-4769-8c92-a6c4dae69d19",
    "execution": {
     "iopub.status.busy": "2021-12-03T09:53:43.524607Z",
     "iopub.execute_input": "2021-12-03T09:53:43.525068Z",
     "iopub.status.idle": "2021-12-03T09:53:44.693057Z",
     "shell.execute_reply.started": "2021-12-03T09:53:43.524954Z",
     "shell.execute_reply": "2021-12-03T09:53:44.692073Z"
    },
    "trusted": true
   },
   "execution_count": null,
   "outputs": []
  },
  {
   "cell_type": "markdown",
   "source": [
    "### In this notebook, we try to implement the model LightGBM using Dask."
   ],
   "metadata": {
    "collapsed": false,
    "pycharm": {
     "name": "#%% md\n"
    }
   }
  },
  {
   "cell_type": "markdown",
   "source": [
    "##### Installation of Dask-ML"
   ],
   "metadata": {
    "collapsed": false,
    "pycharm": {
     "name": "#%% md\n"
    }
   }
  },
  {
   "cell_type": "code",
   "source": [
    "pip install dask-ml[complete]"
   ],
   "metadata": {
    "execution": {
     "iopub.status.busy": "2021-12-03T09:53:44.695319Z",
     "iopub.execute_input": "2021-12-03T09:53:44.695647Z",
     "iopub.status.idle": "2021-12-03T09:54:17.857613Z",
     "shell.execute_reply.started": "2021-12-03T09:53:44.695602Z",
     "shell.execute_reply": "2021-12-03T09:54:17.856572Z"
    },
    "trusted": true
   },
   "execution_count": null,
   "outputs": []
  },
  {
   "cell_type": "code",
   "source": [
    "from dask.distributed import Client\n",
    "\n",
    "client = Client(n_workers=4, threads_per_worker=1) # setting number of workers for parallel processing\n",
    "client"
   ],
   "metadata": {
    "execution": {
     "iopub.status.busy": "2021-12-03T09:54:17.859924Z",
     "iopub.execute_input": "2021-12-03T09:54:17.860583Z",
     "iopub.status.idle": "2021-12-03T09:54:21.277001Z",
     "shell.execute_reply.started": "2021-12-03T09:54:17.860537Z",
     "shell.execute_reply": "2021-12-03T09:54:21.276011Z"
    },
    "trusted": true
   },
   "execution_count": null,
   "outputs": []
  },
  {
   "cell_type": "code",
   "source": [
    "import dask\n",
    "import xgboost\n",
    "import dask_xgboost\n"
   ],
   "metadata": {
    "execution": {
     "iopub.status.busy": "2021-12-03T09:54:21.278499Z",
     "iopub.execute_input": "2021-12-03T09:54:21.278917Z",
     "iopub.status.idle": "2021-12-03T09:54:22.006529Z",
     "shell.execute_reply.started": "2021-12-03T09:54:21.278878Z",
     "shell.execute_reply": "2021-12-03T09:54:22.005331Z"
    },
    "trusted": true
   },
   "execution_count": null,
   "outputs": []
  },
  {
   "cell_type": "code",
   "source": [
    "import dask_lightgbm.core as dlgbm"
   ],
   "metadata": {
    "execution": {
     "iopub.status.busy": "2021-12-03T09:55:37.474847Z",
     "iopub.execute_input": "2021-12-03T09:55:37.475335Z",
     "iopub.status.idle": "2021-12-03T09:55:37.532098Z",
     "shell.execute_reply.started": "2021-12-03T09:55:37.475282Z",
     "shell.execute_reply": "2021-12-03T09:55:37.530896Z"
    },
    "trusted": true
   },
   "execution_count": null,
   "outputs": []
  },
  {
   "cell_type": "code",
   "source": [
    "import dask.dataframe as dd\n",
    "import dask.array as da\n"
   ],
   "metadata": {
    "execution": {
     "iopub.status.busy": "2021-12-03T09:55:48.310039Z",
     "iopub.execute_input": "2021-12-03T09:55:48.310402Z",
     "iopub.status.idle": "2021-12-03T09:55:48.316273Z",
     "shell.execute_reply.started": "2021-12-03T09:55:48.310363Z",
     "shell.execute_reply": "2021-12-03T09:55:48.315323Z"
    },
    "trusted": true
   },
   "execution_count": null,
   "outputs": []
  },
  {
   "cell_type": "markdown",
   "source": [
    "# Load Data"
   ],
   "metadata": {}
  },
  {
   "cell_type": "code",
   "source": [
    "df_subset = dd.read_csv('../input/train-data-modified/train_df.csv')"
   ],
   "metadata": {
    "execution": {
     "iopub.status.busy": "2021-12-03T09:55:48.384147Z",
     "iopub.execute_input": "2021-12-03T09:55:48.384617Z",
     "iopub.status.idle": "2021-12-03T09:55:48.5161Z",
     "shell.execute_reply.started": "2021-12-03T09:55:48.384578Z",
     "shell.execute_reply": "2021-12-03T09:55:48.515149Z"
    },
    "trusted": true
   },
   "execution_count": null,
   "outputs": []
  },
  {
   "cell_type": "code",
   "source": [
    "df_subset.head()"
   ],
   "metadata": {
    "execution": {
     "iopub.status.busy": "2021-12-03T09:55:48.518008Z",
     "iopub.execute_input": "2021-12-03T09:55:48.518679Z",
     "iopub.status.idle": "2021-12-03T09:55:50.510959Z",
     "shell.execute_reply.started": "2021-12-03T09:55:48.518639Z",
     "shell.execute_reply": "2021-12-03T09:55:50.506086Z"
    },
    "trusted": true
   },
   "execution_count": null,
   "outputs": []
  },
  {
   "cell_type": "code",
   "source": [
    "test_df = dd.read_csv('../input/test-data-modified/test_df.csv')"
   ],
   "metadata": {
    "execution": {
     "iopub.status.busy": "2021-12-03T09:55:50.512301Z",
     "iopub.status.idle": "2021-12-03T09:55:50.512694Z",
     "shell.execute_reply.started": "2021-12-03T09:55:50.512501Z",
     "shell.execute_reply": "2021-12-03T09:55:50.512522Z"
    },
    "trusted": true
   },
   "execution_count": null,
   "outputs": []
  },
  {
   "cell_type": "code",
   "source": [
    "test_df.head()"
   ],
   "metadata": {
    "execution": {
     "iopub.status.busy": "2021-12-03T09:55:50.514486Z",
     "iopub.status.idle": "2021-12-03T09:55:50.514818Z",
     "shell.execute_reply.started": "2021-12-03T09:55:50.514649Z",
     "shell.execute_reply": "2021-12-03T09:55:50.514667Z"
    },
    "trusted": true
   },
   "execution_count": null,
   "outputs": []
  },
  {
   "cell_type": "markdown",
   "source": [
    "##### Converting the dataframes to a Dask array."
   ],
   "metadata": {
    "collapsed": false,
    "pycharm": {
     "name": "#%% md\n"
    }
   }
  },
  {
   "cell_type": "code",
   "source": [
    "main_X = df_subset.drop(['HasDetections', 'MachineIdentifier'], axis=1).to_dask_array(lengths=True)\n",
    "main_y = df_subset['HasDetections'].to_dask_array(lengths=True)"
   ],
   "metadata": {
    "execution": {
     "iopub.status.busy": "2021-12-03T09:55:50.516508Z",
     "iopub.status.idle": "2021-12-03T09:55:50.516869Z",
     "shell.execute_reply.started": "2021-12-03T09:55:50.516681Z",
     "shell.execute_reply": "2021-12-03T09:55:50.516706Z"
    },
    "trusted": true
   },
   "execution_count": null,
   "outputs": []
  },
  {
   "cell_type": "code",
   "source": [
    "test_X = test_df.drop(['MachineIdentifier'], axis=1).to_dask_array(lengths=True)"
   ],
   "metadata": {
    "execution": {
     "iopub.status.busy": "2021-12-03T09:55:50.519199Z",
     "iopub.status.idle": "2021-12-03T09:55:50.51956Z",
     "shell.execute_reply.started": "2021-12-03T09:55:50.519377Z",
     "shell.execute_reply": "2021-12-03T09:55:50.519401Z"
    },
    "trusted": true
   },
   "execution_count": null,
   "outputs": []
  },
  {
   "cell_type": "markdown",
   "source": [
    "# Scaling"
   ],
   "metadata": {}
  },
  {
   "cell_type": "code",
   "source": [
    "#SCALING NOT WORKING\n",
    "# from dask_ml.preprocessing import StandardScaler\n",
    "# scalar = StandardScaler()\n",
    "# scalar.fit_transform(main_X)"
   ],
   "metadata": {
    "execution": {
     "iopub.status.busy": "2021-12-03T09:55:50.521587Z",
     "iopub.status.idle": "2021-12-03T09:55:50.521932Z",
     "shell.execute_reply.started": "2021-12-03T09:55:50.521765Z",
     "shell.execute_reply": "2021-12-03T09:55:50.521783Z"
    },
    "trusted": true
   },
   "execution_count": null,
   "outputs": []
  },
  {
   "cell_type": "code",
   "source": [],
   "metadata": {
    "trusted": true
   },
   "execution_count": null,
   "outputs": []
  },
  {
   "cell_type": "code",
   "source": [
    "import dask_ml.model_selection as dcv"
   ],
   "metadata": {
    "execution": {
     "iopub.status.busy": "2021-12-03T09:55:50.523153Z",
     "iopub.status.idle": "2021-12-03T09:55:50.523495Z",
     "shell.execute_reply.started": "2021-12-03T09:55:50.523319Z",
     "shell.execute_reply": "2021-12-03T09:55:50.523341Z"
    },
    "trusted": true
   },
   "execution_count": null,
   "outputs": []
  },
  {
   "cell_type": "code",
   "source": [
    "from dask_ml.model_selection import train_test_split"
   ],
   "metadata": {
    "execution": {
     "iopub.status.busy": "2021-12-03T09:55:50.529901Z",
     "iopub.status.idle": "2021-12-03T09:55:50.530503Z",
     "shell.execute_reply.started": "2021-12-03T09:55:50.530195Z",
     "shell.execute_reply": "2021-12-03T09:55:50.530226Z"
    },
    "trusted": true
   },
   "execution_count": null,
   "outputs": []
  },
  {
   "cell_type": "code",
   "source": [
    "X_train, X_test, y_train, y_test = train_test_split(main_X, main_y, test_size = 0.3, random_state = 42)"
   ],
   "metadata": {
    "execution": {
     "iopub.status.busy": "2021-12-03T09:55:50.533142Z",
     "iopub.status.idle": "2021-12-03T09:55:50.533509Z",
     "shell.execute_reply.started": "2021-12-03T09:55:50.533335Z",
     "shell.execute_reply": "2021-12-03T09:55:50.533354Z"
    },
    "trusted": true
   },
   "execution_count": null,
   "outputs": []
  },
  {
   "cell_type": "code",
   "source": [
    "# X_train"
   ],
   "metadata": {
    "execution": {
     "iopub.status.busy": "2021-12-03T09:55:50.535141Z",
     "iopub.status.idle": "2021-12-03T09:55:50.53552Z",
     "shell.execute_reply.started": "2021-12-03T09:55:50.535333Z",
     "shell.execute_reply": "2021-12-03T09:55:50.535361Z"
    },
    "trusted": true
   },
   "execution_count": null,
   "outputs": []
  },
  {
   "cell_type": "code",
   "source": [
    "# X_test"
   ],
   "metadata": {
    "execution": {
     "iopub.status.busy": "2021-12-03T09:55:50.536639Z",
     "iopub.status.idle": "2021-12-03T09:55:50.536994Z",
     "shell.execute_reply.started": "2021-12-03T09:55:50.5368Z",
     "shell.execute_reply": "2021-12-03T09:55:50.536817Z"
    },
    "trusted": true
   },
   "execution_count": null,
   "outputs": []
  },
  {
   "cell_type": "markdown",
   "source": [
    "# SGD classifier"
   ],
   "metadata": {}
  },
  {
   "cell_type": "code",
   "source": [
    "from dask_ml.wrappers import Incremental\n",
    "from sklearn.linear_model import SGDClassifier"
   ],
   "metadata": {
    "execution": {
     "iopub.status.busy": "2021-12-03T09:55:50.539808Z",
     "iopub.status.idle": "2021-12-03T09:55:50.540785Z",
     "shell.execute_reply.started": "2021-12-03T09:55:50.540479Z",
     "shell.execute_reply": "2021-12-03T09:55:50.540512Z"
    },
    "trusted": true
   },
   "execution_count": null,
   "outputs": []
  },
  {
   "cell_type": "code",
   "source": [
    "from dask_ml.xgboost import XGBClassifier"
   ],
   "metadata": {
    "execution": {
     "iopub.status.busy": "2021-12-03T09:55:50.545087Z",
     "iopub.status.idle": "2021-12-03T09:55:50.546044Z",
     "shell.execute_reply.started": "2021-12-03T09:55:50.545786Z",
     "shell.execute_reply": "2021-12-03T09:55:50.545816Z"
    },
    "trusted": true
   },
   "execution_count": null,
   "outputs": []
  },
  {
   "cell_type": "code",
   "source": [
    "# using the best fine-tuned hyperparameters\n",
    "\n",
    "params = {'objective': 'binary:logistic',\n",
    "          'max_depth': 4, 'eta': 0.01, 'subsample': 0.5,\n",
    "          'min_child_weight': 0.5}\n",
    "\n",
    "clf = dlgbm.LGBMClassifier()\n",
    "clf.fit(main_X, main_y)"
   ],
   "metadata": {
    "execution": {
     "iopub.status.busy": "2021-12-03T09:55:50.54791Z",
     "iopub.status.idle": "2021-12-03T09:55:50.549168Z",
     "shell.execute_reply.started": "2021-12-03T09:55:50.548929Z",
     "shell.execute_reply": "2021-12-03T09:55:50.548956Z"
    },
    "trusted": true
   },
   "execution_count": null,
   "outputs": []
  },
  {
   "cell_type": "code",
   "source": "y_pred = clf.predict(X_test)\nprint('Accuracy Score: ', (accuracy_score(y_test, y_pred)))\nprint('ROC-AUC score: ', metrics.roc_auc_score(y_test, y_pred))",
   "metadata": {
    "execution": {
     "iopub.status.busy": "2021-12-03T09:55:50.550383Z",
     "iopub.status.idle": "2021-12-03T09:55:50.550691Z",
     "shell.execute_reply.started": "2021-12-03T09:55:50.550533Z",
     "shell.execute_reply": "2021-12-03T09:55:50.550549Z"
    },
    "trusted": true
   },
   "execution_count": null,
   "outputs": []
  },
  {
   "cell_type": "code",
   "source": "#kaggle_test_X = test_df.drop(columns=\"MachineIdentifier\")\nkaggle_test_yhat = clf.predict_proba(test_X)\n#kaggle_test_yhat = clf.predict_proba(kaggle_test_X)\n#kaggle_test_yhat = clf.predict_proba(kaggle_test_X)[:, -1] # predicting the probabilities\ntest_df[\"HasDetections\"] = kaggle_test_yhat\nto_submit = test_df[[\"MachineIdentifier\", \"HasDetections\"]]\nto_submit.to_csv(\"class-sgd.csv\", single_file=True, index=False)",
   "metadata": {
    "execution": {
     "iopub.status.busy": "2021-12-03T09:55:50.553606Z",
     "iopub.status.idle": "2021-12-03T09:55:50.554028Z",
     "shell.execute_reply.started": "2021-12-03T09:55:50.553825Z",
     "shell.execute_reply": "2021-12-03T09:55:50.553844Z"
    },
    "trusted": true
   },
   "execution_count": null,
   "outputs": []
  },
  {
   "cell_type": "code",
   "source": "sorted(clf.cv_results_.keys())",
   "metadata": {
    "execution": {
     "iopub.status.busy": "2021-12-03T09:55:50.556212Z",
     "iopub.status.idle": "2021-12-03T09:55:50.556566Z",
     "shell.execute_reply.started": "2021-12-03T09:55:50.556384Z",
     "shell.execute_reply": "2021-12-03T09:55:50.556407Z"
    },
    "trusted": true
   },
   "execution_count": null,
   "outputs": []
  },
  {
   "cell_type": "code",
   "source": "",
   "metadata": {},
   "execution_count": null,
   "outputs": []
  }
 ]
}