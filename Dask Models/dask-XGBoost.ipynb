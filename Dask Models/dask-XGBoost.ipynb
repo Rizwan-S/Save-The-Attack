{
 "metadata": {
  "kernelspec": {
   "language": "python",
   "display_name": "Python 3",
   "name": "python3"
  },
  "language_info": {
   "name": "python",
   "version": "3.7.12",
   "mimetype": "text/x-python",
   "codemirror_mode": {
    "name": "ipython",
    "version": 3
   },
   "pygments_lexer": "ipython3",
   "nbconvert_exporter": "python",
   "file_extension": ".py"
  }
 },
 "nbformat_minor": 4,
 "nbformat": 4,
 "cells": [
  {
   "cell_type": "code",
   "source": [
    "# This Python 3 environment comes with many helpful analytics libraries installed\n",
    "# It is defined by the kaggle/python Docker image: https://github.com/kaggle/docker-python\n",
    "# For example, here's several helpful packages to load\n",
    "\n",
    "import numpy as np # linear algebra\n",
    "import pandas as pd # data processing, CSV file I/O (e.g. pd.read_csv)\n",
    "from sklearn import metrics\n",
    "from sklearn.metrics import accuracy_score\n",
    "\n",
    "\n",
    "\n",
    "# Input data files are available in the read-only \"../input/\" directory\n",
    "# For example, running this (by clicking run or pressing Shift+Enter) will list all files under the input directory\n",
    "\n",
    "import os\n",
    "for dirname, _, filenames in os.walk('/kaggle/input'):\n",
    "    for filename in filenames:\n",
    "        print(os.path.join(dirname, filename))\n",
    "\n",
    "# You can write up to 20GB to the current directory (/kaggle/working/) that gets preserved as output when you create a version using \"Save & Run All\" \n",
    "# You can also write temporary files to /kaggle/temp/, but they won't be saved outside of the current session"
   ],
   "metadata": {
    "_uuid": "8f2839f25d086af736a60e9eeb907d3b93b6e0e5",
    "_cell_guid": "b1076dfc-b9ad-4769-8c92-a6c4dae69d19",
    "execution": {
     "iopub.status.busy": "2021-12-03T08:52:06.540917Z",
     "iopub.execute_input": "2021-12-03T08:52:06.541591Z",
     "iopub.status.idle": "2021-12-03T08:52:07.126008Z",
     "shell.execute_reply.started": "2021-12-03T08:52:06.541411Z",
     "shell.execute_reply": "2021-12-03T08:52:07.125243Z"
    },
    "trusted": true
   },
   "execution_count": 1,
   "outputs": [
    {
     "name": "stdout",
     "text": "/kaggle/input/train-data-modified/train_df.csv\n/kaggle/input/test-data-modified/test_df.csv\n",
     "output_type": "stream"
    }
   ]
  },
  {
   "cell_type": "markdown",
   "source": [
    "### In this notebook, we try to implement the XGBoost model using Dask-ML. "
   ],
   "metadata": {
    "collapsed": false,
    "pycharm": {
     "name": "#%% md\n"
    }
   }
  },
  {
   "cell_type": "code",
   "source": [
    "# installation of Dask-ML\n",
    "pip install dask-ml[complete]"
   ],
   "metadata": {
    "execution": {
     "iopub.status.busy": "2021-12-03T08:52:07.127814Z",
     "iopub.execute_input": "2021-12-03T08:52:07.128284Z",
     "iopub.status.idle": "2021-12-03T08:52:16.650207Z",
     "shell.execute_reply.started": "2021-12-03T08:52:07.128220Z",
     "shell.execute_reply": "2021-12-03T08:52:16.648914Z"
    },
    "trusted": true
   },
   "execution_count": 2,
   "outputs": [
    {
     "name": "stdout",
     "text": "Requirement already satisfied: dask-ml[complete] in /opt/conda/lib/python3.7/site-packages (2021.11.30)\nRequirement already satisfied: multipledispatch>=0.4.9 in /opt/conda/lib/python3.7/site-packages (from dask-ml[complete]) (0.6.0)\nRequirement already satisfied: dask[array,dataframe]>=2.4.0 in /opt/conda/lib/python3.7/site-packages (from dask-ml[complete]) (2021.11.2)\nRequirement already satisfied: scipy in /opt/conda/lib/python3.7/site-packages (from dask-ml[complete]) (1.7.2)\nRequirement already satisfied: dask-glm>=0.2.0 in /opt/conda/lib/python3.7/site-packages (from dask-ml[complete]) (0.2.0)\nRequirement already satisfied: numpy>=1.20.0 in /opt/conda/lib/python3.7/site-packages (from dask-ml[complete]) (1.20.3)\nRequirement already satisfied: packaging in /opt/conda/lib/python3.7/site-packages (from dask-ml[complete]) (21.0)\nRequirement already satisfied: numba>=0.51.0 in /opt/conda/lib/python3.7/site-packages (from dask-ml[complete]) (0.54.1)\nRequirement already satisfied: pandas>=0.24.2 in /opt/conda/lib/python3.7/site-packages (from dask-ml[complete]) (1.3.4)\nRequirement already satisfied: scikit-learn>=1.0.0 in /opt/conda/lib/python3.7/site-packages (from dask-ml[complete]) (1.0.1)\nRequirement already satisfied: distributed>=2.4.0 in /opt/conda/lib/python3.7/site-packages (from dask-ml[complete]) (2021.11.2)\nRequirement already satisfied: dask-xgboost in /opt/conda/lib/python3.7/site-packages (from dask-ml[complete]) (0.2.0)\nRequirement already satisfied: xgboost in /opt/conda/lib/python3.7/site-packages (from dask-ml[complete]) (0.90)\nRequirement already satisfied: cloudpickle>=0.2.2 in /opt/conda/lib/python3.7/site-packages (from dask-glm>=0.2.0->dask-ml[complete]) (2.0.0)\nRequirement already satisfied: partd>=0.3.10 in /opt/conda/lib/python3.7/site-packages (from dask[array,dataframe]>=2.4.0->dask-ml[complete]) (1.2.0)\nRequirement already satisfied: fsspec>=0.6.0 in /opt/conda/lib/python3.7/site-packages (from dask[array,dataframe]>=2.4.0->dask-ml[complete]) (2021.11.1)\nRequirement already satisfied: pyyaml in /opt/conda/lib/python3.7/site-packages (from dask[array,dataframe]>=2.4.0->dask-ml[complete]) (6.0)\nRequirement already satisfied: toolz>=0.8.2 in /opt/conda/lib/python3.7/site-packages (from dask[array,dataframe]>=2.4.0->dask-ml[complete]) (0.11.2)\nRequirement already satisfied: sortedcontainers!=2.0.0,!=2.0.1 in /opt/conda/lib/python3.7/site-packages (from distributed>=2.4.0->dask-ml[complete]) (2.4.0)\nRequirement already satisfied: click>=6.6 in /opt/conda/lib/python3.7/site-packages (from distributed>=2.4.0->dask-ml[complete]) (8.0.3)\nRequirement already satisfied: tblib>=1.6.0 in /opt/conda/lib/python3.7/site-packages (from distributed>=2.4.0->dask-ml[complete]) (1.7.0)\nRequirement already satisfied: setuptools in /opt/conda/lib/python3.7/site-packages (from distributed>=2.4.0->dask-ml[complete]) (59.1.1)\nRequirement already satisfied: tornado>=5 in /opt/conda/lib/python3.7/site-packages (from distributed>=2.4.0->dask-ml[complete]) (6.1)\nRequirement already satisfied: msgpack>=0.6.0 in /opt/conda/lib/python3.7/site-packages (from distributed>=2.4.0->dask-ml[complete]) (1.0.3)\nRequirement already satisfied: zict>=0.1.3 in /opt/conda/lib/python3.7/site-packages (from distributed>=2.4.0->dask-ml[complete]) (2.0.0)\nRequirement already satisfied: jinja2 in /opt/conda/lib/python3.7/site-packages (from distributed>=2.4.0->dask-ml[complete]) (3.0.3)\nRequirement already satisfied: psutil>=5.0 in /opt/conda/lib/python3.7/site-packages (from distributed>=2.4.0->dask-ml[complete]) (5.8.0)\nRequirement already satisfied: six in /opt/conda/lib/python3.7/site-packages (from multipledispatch>=0.4.9->dask-ml[complete]) (1.16.0)\nRequirement already satisfied: llvmlite<0.38,>=0.37.0rc1 in /opt/conda/lib/python3.7/site-packages (from numba>=0.51.0->dask-ml[complete]) (0.37.0)\nRequirement already satisfied: pyparsing>=2.0.2 in /opt/conda/lib/python3.7/site-packages (from packaging->dask-ml[complete]) (3.0.6)\nRequirement already satisfied: python-dateutil>=2.7.3 in /opt/conda/lib/python3.7/site-packages (from pandas>=0.24.2->dask-ml[complete]) (2.8.0)\nRequirement already satisfied: pytz>=2017.3 in /opt/conda/lib/python3.7/site-packages (from pandas>=0.24.2->dask-ml[complete]) (2021.3)\nRequirement already satisfied: joblib>=0.11 in /opt/conda/lib/python3.7/site-packages (from scikit-learn>=1.0.0->dask-ml[complete]) (1.1.0)\nRequirement already satisfied: threadpoolctl>=2.0.0 in /opt/conda/lib/python3.7/site-packages (from scikit-learn>=1.0.0->dask-ml[complete]) (3.0.0)\nRequirement already satisfied: importlib-metadata in /opt/conda/lib/python3.7/site-packages (from click>=6.6->distributed>=2.4.0->dask-ml[complete]) (4.8.2)\nRequirement already satisfied: locket in /opt/conda/lib/python3.7/site-packages (from partd>=0.3.10->dask[array,dataframe]>=2.4.0->dask-ml[complete]) (0.2.1)\nRequirement already satisfied: heapdict in /opt/conda/lib/python3.7/site-packages (from zict>=0.1.3->distributed>=2.4.0->dask-ml[complete]) (1.0.1)\nRequirement already satisfied: MarkupSafe>=2.0 in /opt/conda/lib/python3.7/site-packages (from jinja2->distributed>=2.4.0->dask-ml[complete]) (2.0.1)\nRequirement already satisfied: typing-extensions>=3.6.4 in /opt/conda/lib/python3.7/site-packages (from importlib-metadata->click>=6.6->distributed>=2.4.0->dask-ml[complete]) (3.10.0.2)\nRequirement already satisfied: zipp>=0.5 in /opt/conda/lib/python3.7/site-packages (from importlib-metadata->click>=6.6->distributed>=2.4.0->dask-ml[complete]) (3.6.0)\n\u001B[33mWARNING: Running pip as the 'root' user can result in broken permissions and conflicting behaviour with the system package manager. It is recommended to use a virtual environment instead: https://pip.pypa.io/warnings/venv\u001B[0m\nNote: you may need to restart the kernel to use updated packages.\n",
     "output_type": "stream"
    }
   ]
  },
  {
   "cell_type": "code",
   "source": [
    "from dask.distributed import Client\n",
    "\n",
    "client = Client(n_workers=4, threads_per_worker=1) # choosing number of parallel processes\n",
    "client"
   ],
   "metadata": {
    "execution": {
     "iopub.status.busy": "2021-12-03T08:52:16.652265Z",
     "iopub.execute_input": "2021-12-03T08:52:16.652597Z",
     "iopub.status.idle": "2021-12-03T08:52:19.752075Z",
     "shell.execute_reply.started": "2021-12-03T08:52:16.652557Z",
     "shell.execute_reply": "2021-12-03T08:52:19.750599Z"
    },
    "trusted": true
   },
   "execution_count": 3,
   "outputs": [
    {
     "execution_count": 3,
     "output_type": "execute_result",
     "data": {
      "text/plain": "<Client: 'tcp://127.0.0.1:42331' processes=4 threads=4, memory=16.00 GiB>",
      "text/html": "<div>\n    <div style=\"width: 24px; height: 24px; background-color: #e1e1e1; border: 3px solid #9D9D9D; border-radius: 5px; position: absolute;\"> </div>\n    <div style=\"margin-left: 48px;\">\n        <h3 style=\"margin-bottom: 0px;\">Client</h3>\n        <p style=\"color: #9D9D9D; margin-bottom: 0px;\">Client-51325a00-5416-11ec-81ae-0242ac130202</p>\n        <table style=\"width: 100%; text-align: left;\">\n\n        <tr>\n        \n            <td style=\"text-align: left;\"><strong>Connection method:</strong> Cluster object</td>\n            <td style=\"text-align: left;\"><strong>Cluster type:</strong> distributed.LocalCluster</td>\n        \n        </tr>\n\n        \n            <tr>\n                <td style=\"text-align: left;\">\n                    <strong>Dashboard: </strong> <a href=\"http://127.0.0.1:8787/status\" target=\"_blank\">http://127.0.0.1:8787/status</a>\n                </td>\n                <td style=\"text-align: left;\"></td>\n            </tr>\n        \n\n        </table>\n\n        \n            <details>\n            <summary style=\"margin-bottom: 20px;\"><h3 style=\"display: inline;\">Cluster Info</h3></summary>\n            <div class=\"jp-RenderedHTMLCommon jp-RenderedHTML jp-mod-trusted jp-OutputArea-output\">\n    <div style=\"width: 24px; height: 24px; background-color: #e1e1e1; border: 3px solid #9D9D9D; border-radius: 5px; position: absolute;\">\n    </div>\n    <div style=\"margin-left: 48px;\">\n        <h3 style=\"margin-bottom: 0px; margin-top: 0px;\">LocalCluster</h3>\n        <p style=\"color: #9D9D9D; margin-bottom: 0px;\">ceb4c6f8</p>\n        <table style=\"width: 100%; text-align: left;\">\n            <tr>\n                <td style=\"text-align: left;\">\n                    <strong>Dashboard:</strong> <a href=\"http://127.0.0.1:8787/status\" target=\"_blank\">http://127.0.0.1:8787/status</a>\n                </td>\n                <td style=\"text-align: left;\">\n                    <strong>Workers:</strong> 4\n                </td>\n            </tr>\n            <tr>\n                <td style=\"text-align: left;\">\n                    <strong>Total threads:</strong> 4\n                </td>\n                <td style=\"text-align: left;\">\n                    <strong>Total memory:</strong> 16.00 GiB\n                </td>\n            </tr>\n            \n            <tr>\n    <td style=\"text-align: left;\"><strong>Status:</strong> running</td>\n    <td style=\"text-align: left;\"><strong>Using processes:</strong> True</td>\n</tr>\n\n            \n        </table>\n\n        <details>\n            <summary style=\"margin-bottom: 20px;\">\n                <h3 style=\"display: inline;\">Scheduler Info</h3>\n            </summary>\n\n            <div style=\"\">\n    <div>\n        <div style=\"width: 24px; height: 24px; background-color: #FFF7E5; border: 3px solid #FF6132; border-radius: 5px; position: absolute;\"> </div>\n        <div style=\"margin-left: 48px;\">\n            <h3 style=\"margin-bottom: 0px;\">Scheduler</h3>\n            <p style=\"color: #9D9D9D; margin-bottom: 0px;\">Scheduler-a485a767-817f-41eb-b6bc-de4520b4f246</p>\n            <table style=\"width: 100%; text-align: left;\">\n                <tr>\n                    <td style=\"text-align: left;\">\n                        <strong>Comm:</strong> tcp://127.0.0.1:42331\n                    </td>\n                    <td style=\"text-align: left;\">\n                        <strong>Workers:</strong> 4\n                    </td>\n                </tr>\n                <tr>\n                    <td style=\"text-align: left;\">\n                        <strong>Dashboard:</strong> <a href=\"http://127.0.0.1:8787/status\" target=\"_blank\">http://127.0.0.1:8787/status</a>\n                    </td>\n                    <td style=\"text-align: left;\">\n                        <strong>Total threads:</strong> 4\n                    </td>\n                </tr>\n                <tr>\n                    <td style=\"text-align: left;\">\n                        <strong>Started:</strong> Just now\n                    </td>\n                    <td style=\"text-align: left;\">\n                        <strong>Total memory:</strong> 16.00 GiB\n                    </td>\n                </tr>\n            </table>\n        </div>\n    </div>\n\n    <details style=\"margin-left: 48px;\">\n        <summary style=\"margin-bottom: 20px;\">\n            <h3 style=\"display: inline;\">Workers</h3>\n        </summary>\n\n        \n        <div style=\"margin-bottom: 20px;\">\n            <div style=\"width: 24px; height: 24px; background-color: #DBF5FF; border: 3px solid #4CC9FF; border-radius: 5px; position: absolute;\"> </div>\n            <div style=\"margin-left: 48px;\">\n            <details>\n                <summary>\n                    <h4 style=\"margin-bottom: 0px; display: inline;\">Worker: 0</h4>\n                </summary>\n                <table style=\"width: 100%; text-align: left;\">\n                    <tr>\n                        <td style=\"text-align: left;\">\n                            <strong>Comm: </strong> tcp://127.0.0.1:40133\n                        </td>\n                        <td style=\"text-align: left;\">\n                            <strong>Total threads: </strong> 1\n                        </td>\n                    </tr>\n                    <tr>\n                        <td style=\"text-align: left;\">\n                            <strong>Dashboard: </strong> <a href=\"http://127.0.0.1:38775/status\" target=\"_blank\">http://127.0.0.1:38775/status</a>\n                        </td>\n                        <td style=\"text-align: left;\">\n                            <strong>Memory: </strong> 4.00 GiB\n                        </td>\n                    </tr>\n                    <tr>\n                        <td style=\"text-align: left;\">\n                            <strong>Nanny: </strong> tcp://127.0.0.1:36707\n                        </td>\n                        <td style=\"text-align: left;\"></td>\n                    </tr>\n                    <tr>\n                        <td colspan=\"2\" style=\"text-align: left;\">\n                            <strong>Local directory: </strong> /kaggle/working/dask-worker-space/worker-pjutqki4\n                        </td>\n                    </tr>\n\n                    \n\n                    \n\n                </table>\n            </details>\n            </div>\n        </div>\n        \n        <div style=\"margin-bottom: 20px;\">\n            <div style=\"width: 24px; height: 24px; background-color: #DBF5FF; border: 3px solid #4CC9FF; border-radius: 5px; position: absolute;\"> </div>\n            <div style=\"margin-left: 48px;\">\n            <details>\n                <summary>\n                    <h4 style=\"margin-bottom: 0px; display: inline;\">Worker: 1</h4>\n                </summary>\n                <table style=\"width: 100%; text-align: left;\">\n                    <tr>\n                        <td style=\"text-align: left;\">\n                            <strong>Comm: </strong> tcp://127.0.0.1:37369\n                        </td>\n                        <td style=\"text-align: left;\">\n                            <strong>Total threads: </strong> 1\n                        </td>\n                    </tr>\n                    <tr>\n                        <td style=\"text-align: left;\">\n                            <strong>Dashboard: </strong> <a href=\"http://127.0.0.1:41991/status\" target=\"_blank\">http://127.0.0.1:41991/status</a>\n                        </td>\n                        <td style=\"text-align: left;\">\n                            <strong>Memory: </strong> 4.00 GiB\n                        </td>\n                    </tr>\n                    <tr>\n                        <td style=\"text-align: left;\">\n                            <strong>Nanny: </strong> tcp://127.0.0.1:37831\n                        </td>\n                        <td style=\"text-align: left;\"></td>\n                    </tr>\n                    <tr>\n                        <td colspan=\"2\" style=\"text-align: left;\">\n                            <strong>Local directory: </strong> /kaggle/working/dask-worker-space/worker-gsm6ewh2\n                        </td>\n                    </tr>\n\n                    \n\n                    \n\n                </table>\n            </details>\n            </div>\n        </div>\n        \n        <div style=\"margin-bottom: 20px;\">\n            <div style=\"width: 24px; height: 24px; background-color: #DBF5FF; border: 3px solid #4CC9FF; border-radius: 5px; position: absolute;\"> </div>\n            <div style=\"margin-left: 48px;\">\n            <details>\n                <summary>\n                    <h4 style=\"margin-bottom: 0px; display: inline;\">Worker: 2</h4>\n                </summary>\n                <table style=\"width: 100%; text-align: left;\">\n                    <tr>\n                        <td style=\"text-align: left;\">\n                            <strong>Comm: </strong> tcp://127.0.0.1:45783\n                        </td>\n                        <td style=\"text-align: left;\">\n                            <strong>Total threads: </strong> 1\n                        </td>\n                    </tr>\n                    <tr>\n                        <td style=\"text-align: left;\">\n                            <strong>Dashboard: </strong> <a href=\"http://127.0.0.1:33885/status\" target=\"_blank\">http://127.0.0.1:33885/status</a>\n                        </td>\n                        <td style=\"text-align: left;\">\n                            <strong>Memory: </strong> 4.00 GiB\n                        </td>\n                    </tr>\n                    <tr>\n                        <td style=\"text-align: left;\">\n                            <strong>Nanny: </strong> tcp://127.0.0.1:42475\n                        </td>\n                        <td style=\"text-align: left;\"></td>\n                    </tr>\n                    <tr>\n                        <td colspan=\"2\" style=\"text-align: left;\">\n                            <strong>Local directory: </strong> /kaggle/working/dask-worker-space/worker-x9yowa5d\n                        </td>\n                    </tr>\n\n                    \n\n                    \n\n                </table>\n            </details>\n            </div>\n        </div>\n        \n        <div style=\"margin-bottom: 20px;\">\n            <div style=\"width: 24px; height: 24px; background-color: #DBF5FF; border: 3px solid #4CC9FF; border-radius: 5px; position: absolute;\"> </div>\n            <div style=\"margin-left: 48px;\">\n            <details>\n                <summary>\n                    <h4 style=\"margin-bottom: 0px; display: inline;\">Worker: 3</h4>\n                </summary>\n                <table style=\"width: 100%; text-align: left;\">\n                    <tr>\n                        <td style=\"text-align: left;\">\n                            <strong>Comm: </strong> tcp://127.0.0.1:45745\n                        </td>\n                        <td style=\"text-align: left;\">\n                            <strong>Total threads: </strong> 1\n                        </td>\n                    </tr>\n                    <tr>\n                        <td style=\"text-align: left;\">\n                            <strong>Dashboard: </strong> <a href=\"http://127.0.0.1:36947/status\" target=\"_blank\">http://127.0.0.1:36947/status</a>\n                        </td>\n                        <td style=\"text-align: left;\">\n                            <strong>Memory: </strong> 4.00 GiB\n                        </td>\n                    </tr>\n                    <tr>\n                        <td style=\"text-align: left;\">\n                            <strong>Nanny: </strong> tcp://127.0.0.1:33877\n                        </td>\n                        <td style=\"text-align: left;\"></td>\n                    </tr>\n                    <tr>\n                        <td colspan=\"2\" style=\"text-align: left;\">\n                            <strong>Local directory: </strong> /kaggle/working/dask-worker-space/worker-8zxh_2ua\n                        </td>\n                    </tr>\n\n                    \n\n                    \n\n                </table>\n            </details>\n            </div>\n        </div>\n        \n\n    </details>\n</div>\n\n        </details>\n    </div>\n</div>\n            </details>\n        \n\n    </div>\n</div>"
     },
     "metadata": {}
    }
   ]
  },
  {
   "cell_type": "code",
   "source": [
    "import dask\n",
    "import xgboost\n",
    "import dask_xgboost"
   ],
   "metadata": {
    "execution": {
     "iopub.status.busy": "2021-12-03T08:52:19.754830Z",
     "iopub.execute_input": "2021-12-03T08:52:19.755193Z",
     "iopub.status.idle": "2021-12-03T08:52:20.136721Z",
     "shell.execute_reply.started": "2021-12-03T08:52:19.755142Z",
     "shell.execute_reply": "2021-12-03T08:52:20.135353Z"
    },
    "trusted": true
   },
   "execution_count": 4,
   "outputs": [
    {
     "output_type": "display_data",
     "data": {
      "text/plain": "<IPython.core.display.HTML object>",
      "text/html": "<style type='text/css'>\n.datatable table.frame { margin-bottom: 0; }\n.datatable table.frame thead { border-bottom: none; }\n.datatable table.frame tr.coltypes td {  color: #FFFFFF;  line-height: 6px;  padding: 0 0.5em;}\n.datatable .bool    { background: #DDDD99; }\n.datatable .object  { background: #565656; }\n.datatable .int     { background: #5D9E5D; }\n.datatable .float   { background: #4040CC; }\n.datatable .str     { background: #CC4040; }\n.datatable .time    { background: #40CC40; }\n.datatable .row_index {  background: var(--jp-border-color3);  border-right: 1px solid var(--jp-border-color0);  color: var(--jp-ui-font-color3);  font-size: 9px;}\n.datatable .frame tbody td { text-align: left; }\n.datatable .frame tr.coltypes .row_index {  background: var(--jp-border-color0);}\n.datatable th:nth-child(2) { padding-left: 12px; }\n.datatable .hellipsis {  color: var(--jp-cell-editor-border-color);}\n.datatable .vellipsis {  background: var(--jp-layout-color0);  color: var(--jp-cell-editor-border-color);}\n.datatable .na {  color: var(--jp-cell-editor-border-color);  font-size: 80%;}\n.datatable .sp {  opacity: 0.25;}\n.datatable .footer { font-size: 9px; }\n.datatable .frame_dimensions {  background: var(--jp-border-color3);  border-top: 1px solid var(--jp-border-color0);  color: var(--jp-ui-font-color3);  display: inline-block;  opacity: 0.6;  padding: 1px 10px 1px 5px;}\n.datatable .frame thead tr.colnames {  background-image: url('data:image/png;base64,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');  background-repeat: repeat-x;  background-size: 14px;  height: 28px;}\n</style>\n"
     },
     "metadata": {}
    },
    {
     "name": "stderr",
     "text": "/opt/conda/lib/python3.7/site-packages/dask_xgboost/__init__.py:8: UserWarning: Dask-XGBoost has been deprecated and is no longer maintained. The functionality of this project has been included directly in XGBoost. To use Dask and XGBoost together, please use ``xgboost.dask`` instead https://xgboost.readthedocs.io/en/latest/tutorials/dask.html.\n  \"Dask-XGBoost has been deprecated and is no longer maintained. The functionality \"\n",
     "output_type": "stream"
    }
   ]
  },
  {
   "cell_type": "code",
   "source": [
    "import dask.dataframe as dd\n",
    "import dask.array as da\n"
   ],
   "metadata": {
    "execution": {
     "iopub.status.busy": "2021-12-03T08:52:20.142329Z",
     "iopub.execute_input": "2021-12-03T08:52:20.142651Z",
     "iopub.status.idle": "2021-12-03T08:52:20.148810Z",
     "shell.execute_reply.started": "2021-12-03T08:52:20.142613Z",
     "shell.execute_reply": "2021-12-03T08:52:20.147327Z"
    },
    "trusted": true
   },
   "execution_count": 5,
   "outputs": []
  },
  {
   "cell_type": "markdown",
   "source": [
    "# Loading the Data"
   ],
   "metadata": {}
  },
  {
   "cell_type": "code",
   "source": [
    "df_subset = dd.read_csv('../input/train-data-modified/train_df.csv')"
   ],
   "metadata": {
    "execution": {
     "iopub.status.busy": "2021-12-03T08:52:20.165667Z",
     "iopub.execute_input": "2021-12-03T08:52:20.166394Z",
     "iopub.status.idle": "2021-12-03T08:52:20.229548Z",
     "shell.execute_reply.started": "2021-12-03T08:52:20.166339Z",
     "shell.execute_reply": "2021-12-03T08:52:20.228371Z"
    },
    "trusted": true
   },
   "execution_count": 7,
   "outputs": []
  },
  {
   "cell_type": "code",
   "source": [
    "df_subset.head()"
   ],
   "metadata": {
    "execution": {
     "iopub.status.busy": "2021-12-03T08:52:20.232472Z",
     "iopub.execute_input": "2021-12-03T08:52:20.232802Z",
     "iopub.status.idle": "2021-12-03T08:52:24.176732Z",
     "shell.execute_reply.started": "2021-12-03T08:52:20.232767Z",
     "shell.execute_reply": "2021-12-03T08:52:24.175583Z"
    },
    "trusted": true
   },
   "execution_count": 8,
   "outputs": [
    {
     "execution_count": 8,
     "output_type": "execute_result",
     "data": {
      "text/plain": "                  MachineIdentifier  Census_ProcessorCoreCount  \\\n0  0000028988387b115f69f31a3bf04f09                        4.0   \n1  00000b11598a75ea8ba1beea8459149f                        4.0   \n2  000014a5f00daa18e76b81417eeb99fc                        4.0   \n3  000016191b897145d069102325cab760                        2.0   \n4  0000161e8abf8d8b89c5ab8787fd712b                        2.0   \n\n   Census_PrimaryDiskTotalCapacity  Census_SystemVolumeTotalCapacity  \\\n0                        13.075148                         12.609710   \n1                        12.382024                         12.333220   \n2                        13.075148                         11.531757   \n3                        11.648103                         11.641072   \n4                        13.075148                         13.036159   \n\n   Census_TotalPhysicalRAM  Census_InternalPrimaryDiagonalDisplaySizeInInches  \\\n0                 8.318010                                              2.940   \n1                 8.318010                                              2.918   \n2                 8.723394                                              2.639   \n3                 9.011035                                              3.068   \n4                 8.318010                                              2.846   \n\n   Census_InternalPrimaryDisplayResolutionHorizontal  \\\n0                                              7.273   \n1                                              7.223   \n2                                              7.223   \n3                                              7.562   \n4                                              7.380   \n\n   Census_InternalPrimaryDisplayResolutionVertical  \\\n0                                             6.81   \n1                                             6.65   \n2                                             6.65   \n3                                             6.99   \n4                                             6.81   \n\n   Census_InternalBatteryNumberOfCharges  Census_OSBuildRevision  ...  \\\n0                               22.18071                     165  ...   \n1                               22.18071                     228  ...   \n2                                0.00000                     191  ...   \n3                               22.18071                     165  ...   \n4                                0.00000                     165  ...   \n\n   Census_GenuineStateName_INVALID_LICENSE  \\\n0                                        0   \n1                                        0   \n2                                        0   \n3                                        0   \n4                                        0   \n\n   Census_GenuineStateName_IS_GENUINE  Census_GenuineStateName_OFFLINE  \\\n0                                   1                                0   \n1                                   1                                0   \n2                                   1                                0   \n3                                   1                                0   \n4                                   1                                0   \n\n   Census_GenuineStateName_UNKNOWN  Census_ActivationChannel_OEM:DM  \\\n0                                0                                0   \n1                                0                                0   \n2                                0                                0   \n3                                0                                0   \n4                                0                                0   \n\n   Census_ActivationChannel_OEM:NONSLP  Census_ActivationChannel_Retail  \\\n0                                    0                                1   \n1                                    1                                0   \n2                                    0                                1   \n3                                    0                                1   \n4                                    0                                1   \n\n   Census_ActivationChannel_Retail:TB:Eval  \\\n0                                        0   \n1                                        0   \n2                                        0   \n3                                        0   \n4                                        0   \n\n   Census_ActivationChannel_Volume:GVLK  Census_ActivationChannel_Volume:MAK  \n0                                     0                                    0  \n1                                     0                                    0  \n2                                     0                                    0  \n3                                     0                                    0  \n4                                     0                                    0  \n\n[5 rows x 228 columns]",
      "text/html": "<div>\n<style scoped>\n    .dataframe tbody tr th:only-of-type {\n        vertical-align: middle;\n    }\n\n    .dataframe tbody tr th {\n        vertical-align: top;\n    }\n\n    .dataframe thead th {\n        text-align: right;\n    }\n</style>\n<table border=\"1\" class=\"dataframe\">\n  <thead>\n    <tr style=\"text-align: right;\">\n      <th></th>\n      <th>MachineIdentifier</th>\n      <th>Census_ProcessorCoreCount</th>\n      <th>Census_PrimaryDiskTotalCapacity</th>\n      <th>Census_SystemVolumeTotalCapacity</th>\n      <th>Census_TotalPhysicalRAM</th>\n      <th>Census_InternalPrimaryDiagonalDisplaySizeInInches</th>\n      <th>Census_InternalPrimaryDisplayResolutionHorizontal</th>\n      <th>Census_InternalPrimaryDisplayResolutionVertical</th>\n      <th>Census_InternalBatteryNumberOfCharges</th>\n      <th>Census_OSBuildRevision</th>\n      <th>...</th>\n      <th>Census_GenuineStateName_INVALID_LICENSE</th>\n      <th>Census_GenuineStateName_IS_GENUINE</th>\n      <th>Census_GenuineStateName_OFFLINE</th>\n      <th>Census_GenuineStateName_UNKNOWN</th>\n      <th>Census_ActivationChannel_OEM:DM</th>\n      <th>Census_ActivationChannel_OEM:NONSLP</th>\n      <th>Census_ActivationChannel_Retail</th>\n      <th>Census_ActivationChannel_Retail:TB:Eval</th>\n      <th>Census_ActivationChannel_Volume:GVLK</th>\n      <th>Census_ActivationChannel_Volume:MAK</th>\n    </tr>\n  </thead>\n  <tbody>\n    <tr>\n      <th>0</th>\n      <td>0000028988387b115f69f31a3bf04f09</td>\n      <td>4.0</td>\n      <td>13.075148</td>\n      <td>12.609710</td>\n      <td>8.318010</td>\n      <td>2.940</td>\n      <td>7.273</td>\n      <td>6.81</td>\n      <td>22.18071</td>\n      <td>165</td>\n      <td>...</td>\n      <td>0</td>\n      <td>1</td>\n      <td>0</td>\n      <td>0</td>\n      <td>0</td>\n      <td>0</td>\n      <td>1</td>\n      <td>0</td>\n      <td>0</td>\n      <td>0</td>\n    </tr>\n    <tr>\n      <th>1</th>\n      <td>00000b11598a75ea8ba1beea8459149f</td>\n      <td>4.0</td>\n      <td>12.382024</td>\n      <td>12.333220</td>\n      <td>8.318010</td>\n      <td>2.918</td>\n      <td>7.223</td>\n      <td>6.65</td>\n      <td>22.18071</td>\n      <td>228</td>\n      <td>...</td>\n      <td>0</td>\n      <td>1</td>\n      <td>0</td>\n      <td>0</td>\n      <td>0</td>\n      <td>1</td>\n      <td>0</td>\n      <td>0</td>\n      <td>0</td>\n      <td>0</td>\n    </tr>\n    <tr>\n      <th>2</th>\n      <td>000014a5f00daa18e76b81417eeb99fc</td>\n      <td>4.0</td>\n      <td>13.075148</td>\n      <td>11.531757</td>\n      <td>8.723394</td>\n      <td>2.639</td>\n      <td>7.223</td>\n      <td>6.65</td>\n      <td>0.00000</td>\n      <td>191</td>\n      <td>...</td>\n      <td>0</td>\n      <td>1</td>\n      <td>0</td>\n      <td>0</td>\n      <td>0</td>\n      <td>0</td>\n      <td>1</td>\n      <td>0</td>\n      <td>0</td>\n      <td>0</td>\n    </tr>\n    <tr>\n      <th>3</th>\n      <td>000016191b897145d069102325cab760</td>\n      <td>2.0</td>\n      <td>11.648103</td>\n      <td>11.641072</td>\n      <td>9.011035</td>\n      <td>3.068</td>\n      <td>7.562</td>\n      <td>6.99</td>\n      <td>22.18071</td>\n      <td>165</td>\n      <td>...</td>\n      <td>0</td>\n      <td>1</td>\n      <td>0</td>\n      <td>0</td>\n      <td>0</td>\n      <td>0</td>\n      <td>1</td>\n      <td>0</td>\n      <td>0</td>\n      <td>0</td>\n    </tr>\n    <tr>\n      <th>4</th>\n      <td>0000161e8abf8d8b89c5ab8787fd712b</td>\n      <td>2.0</td>\n      <td>13.075148</td>\n      <td>13.036159</td>\n      <td>8.318010</td>\n      <td>2.846</td>\n      <td>7.380</td>\n      <td>6.81</td>\n      <td>0.00000</td>\n      <td>165</td>\n      <td>...</td>\n      <td>0</td>\n      <td>1</td>\n      <td>0</td>\n      <td>0</td>\n      <td>0</td>\n      <td>0</td>\n      <td>1</td>\n      <td>0</td>\n      <td>0</td>\n      <td>0</td>\n    </tr>\n  </tbody>\n</table>\n<p>5 rows × 228 columns</p>\n</div>"
     },
     "metadata": {}
    }
   ]
  },
  {
   "cell_type": "code",
   "source": [
    "test_df = dd.read_csv('../input/test-data-modified/test_df.csv')"
   ],
   "metadata": {
    "execution": {
     "iopub.status.busy": "2021-12-03T08:52:24.178828Z",
     "iopub.execute_input": "2021-12-03T08:52:24.179192Z",
     "iopub.status.idle": "2021-12-03T08:52:24.238088Z",
     "shell.execute_reply.started": "2021-12-03T08:52:24.179145Z",
     "shell.execute_reply": "2021-12-03T08:52:24.236827Z"
    },
    "trusted": true
   },
   "execution_count": 9,
   "outputs": []
  },
  {
   "cell_type": "code",
   "source": [
    "test_df.head()"
   ],
   "metadata": {
    "execution": {
     "iopub.status.busy": "2021-12-03T08:52:24.241085Z",
     "iopub.execute_input": "2021-12-03T08:52:24.241441Z",
     "iopub.status.idle": "2021-12-03T08:52:28.051187Z",
     "shell.execute_reply.started": "2021-12-03T08:52:24.241391Z",
     "shell.execute_reply": "2021-12-03T08:52:28.049889Z"
    },
    "trusted": true
   },
   "execution_count": 10,
   "outputs": [
    {
     "execution_count": 10,
     "output_type": "execute_result",
     "data": {
      "text/plain": "                  MachineIdentifier  Census_ProcessorCoreCount  \\\n0  000007535c3f730efa9ea0b7ef1bd645                        4.0   \n1  000007905a28d863f6d0d597892cd692                        4.0   \n2  00001a18d69bb60bda9779408dcf02ac                        4.0   \n3  00001b924fcc6922321cfadbafd8a91a                        2.0   \n4  000028150912f45b1dc667164de489ef                        2.0   \n\n   Census_PrimaryDiskTotalCapacity  Census_SystemVolumeTotalCapacity  \\\n0                        13.075148                         11.536506   \n1                        11.648103                         11.643147   \n2                        13.768283                         12.222207   \n3                        11.712637                         11.702124   \n4                        12.628873                         12.628536   \n\n   Census_TotalPhysicalRAM  Census_InternalPrimaryDiagonalDisplaySizeInInches  \\\n0                 8.318010                                              2.630   \n1                 8.318010                                              3.068   \n2                 9.011035                                              2.740   \n3                 8.318010                                              2.630   \n4                 8.318010                                              2.838   \n\n   Census_InternalPrimaryDisplayResolutionHorizontal  \\\n0                                              7.223   \n1                                              7.562   \n2                                              7.223   \n3                                              7.223   \n4                                              7.273   \n\n   Census_InternalPrimaryDisplayResolutionVertical  \\\n0                                             6.65   \n1                                             6.99   \n2                                             6.65   \n3                                             6.65   \n4                                             6.81   \n\n   Census_InternalBatteryNumberOfCharges  Census_OSBuildRevision  ...  \\\n0                               0.693147                       1  ...   \n1                              22.180710                     165  ...   \n2                               0.000000                     431  ...   \n3                               2.079442                     228  ...   \n4                               0.000000                     164  ...   \n\n   Census_GenuineStateName_INVALID_LICENSE  \\\n0                                        0   \n1                                        0   \n2                                        0   \n3                                        0   \n4                                        0   \n\n   Census_GenuineStateName_IS_GENUINE  Census_GenuineStateName_OFFLINE  \\\n0                                   0                                1   \n1                                   1                                0   \n2                                   1                                0   \n3                                   1                                0   \n4                                   1                                0   \n\n   Census_GenuineStateName_UNKNOWN  Census_ActivationChannel_OEM:DM  \\\n0                                0                                0   \n1                                0                                0   \n2                                0                                1   \n3                                0                                1   \n4                                0                                0   \n\n   Census_ActivationChannel_OEM:NONSLP  Census_ActivationChannel_Retail  \\\n0                                    0                                1   \n1                                    1                                0   \n2                                    0                                0   \n3                                    0                                0   \n4                                    0                                1   \n\n   Census_ActivationChannel_Retail:TB:Eval  \\\n0                                        0   \n1                                        0   \n2                                        0   \n3                                        0   \n4                                        0   \n\n   Census_ActivationChannel_Volume:GVLK  Census_ActivationChannel_Volume:MAK  \n0                                     0                                    0  \n1                                     0                                    0  \n2                                     0                                    0  \n3                                     0                                    0  \n4                                     0                                    0  \n\n[5 rows x 227 columns]",
      "text/html": "<div>\n<style scoped>\n    .dataframe tbody tr th:only-of-type {\n        vertical-align: middle;\n    }\n\n    .dataframe tbody tr th {\n        vertical-align: top;\n    }\n\n    .dataframe thead th {\n        text-align: right;\n    }\n</style>\n<table border=\"1\" class=\"dataframe\">\n  <thead>\n    <tr style=\"text-align: right;\">\n      <th></th>\n      <th>MachineIdentifier</th>\n      <th>Census_ProcessorCoreCount</th>\n      <th>Census_PrimaryDiskTotalCapacity</th>\n      <th>Census_SystemVolumeTotalCapacity</th>\n      <th>Census_TotalPhysicalRAM</th>\n      <th>Census_InternalPrimaryDiagonalDisplaySizeInInches</th>\n      <th>Census_InternalPrimaryDisplayResolutionHorizontal</th>\n      <th>Census_InternalPrimaryDisplayResolutionVertical</th>\n      <th>Census_InternalBatteryNumberOfCharges</th>\n      <th>Census_OSBuildRevision</th>\n      <th>...</th>\n      <th>Census_GenuineStateName_INVALID_LICENSE</th>\n      <th>Census_GenuineStateName_IS_GENUINE</th>\n      <th>Census_GenuineStateName_OFFLINE</th>\n      <th>Census_GenuineStateName_UNKNOWN</th>\n      <th>Census_ActivationChannel_OEM:DM</th>\n      <th>Census_ActivationChannel_OEM:NONSLP</th>\n      <th>Census_ActivationChannel_Retail</th>\n      <th>Census_ActivationChannel_Retail:TB:Eval</th>\n      <th>Census_ActivationChannel_Volume:GVLK</th>\n      <th>Census_ActivationChannel_Volume:MAK</th>\n    </tr>\n  </thead>\n  <tbody>\n    <tr>\n      <th>0</th>\n      <td>000007535c3f730efa9ea0b7ef1bd645</td>\n      <td>4.0</td>\n      <td>13.075148</td>\n      <td>11.536506</td>\n      <td>8.318010</td>\n      <td>2.630</td>\n      <td>7.223</td>\n      <td>6.65</td>\n      <td>0.693147</td>\n      <td>1</td>\n      <td>...</td>\n      <td>0</td>\n      <td>0</td>\n      <td>1</td>\n      <td>0</td>\n      <td>0</td>\n      <td>0</td>\n      <td>1</td>\n      <td>0</td>\n      <td>0</td>\n      <td>0</td>\n    </tr>\n    <tr>\n      <th>1</th>\n      <td>000007905a28d863f6d0d597892cd692</td>\n      <td>4.0</td>\n      <td>11.648103</td>\n      <td>11.643147</td>\n      <td>8.318010</td>\n      <td>3.068</td>\n      <td>7.562</td>\n      <td>6.99</td>\n      <td>22.180710</td>\n      <td>165</td>\n      <td>...</td>\n      <td>0</td>\n      <td>1</td>\n      <td>0</td>\n      <td>0</td>\n      <td>0</td>\n      <td>1</td>\n      <td>0</td>\n      <td>0</td>\n      <td>0</td>\n      <td>0</td>\n    </tr>\n    <tr>\n      <th>2</th>\n      <td>00001a18d69bb60bda9779408dcf02ac</td>\n      <td>4.0</td>\n      <td>13.768283</td>\n      <td>12.222207</td>\n      <td>9.011035</td>\n      <td>2.740</td>\n      <td>7.223</td>\n      <td>6.65</td>\n      <td>0.000000</td>\n      <td>431</td>\n      <td>...</td>\n      <td>0</td>\n      <td>1</td>\n      <td>0</td>\n      <td>0</td>\n      <td>1</td>\n      <td>0</td>\n      <td>0</td>\n      <td>0</td>\n      <td>0</td>\n      <td>0</td>\n    </tr>\n    <tr>\n      <th>3</th>\n      <td>00001b924fcc6922321cfadbafd8a91a</td>\n      <td>2.0</td>\n      <td>11.712637</td>\n      <td>11.702124</td>\n      <td>8.318010</td>\n      <td>2.630</td>\n      <td>7.223</td>\n      <td>6.65</td>\n      <td>2.079442</td>\n      <td>228</td>\n      <td>...</td>\n      <td>0</td>\n      <td>1</td>\n      <td>0</td>\n      <td>0</td>\n      <td>1</td>\n      <td>0</td>\n      <td>0</td>\n      <td>0</td>\n      <td>0</td>\n      <td>0</td>\n    </tr>\n    <tr>\n      <th>4</th>\n      <td>000028150912f45b1dc667164de489ef</td>\n      <td>2.0</td>\n      <td>12.628873</td>\n      <td>12.628536</td>\n      <td>8.318010</td>\n      <td>2.838</td>\n      <td>7.273</td>\n      <td>6.81</td>\n      <td>0.000000</td>\n      <td>164</td>\n      <td>...</td>\n      <td>0</td>\n      <td>1</td>\n      <td>0</td>\n      <td>0</td>\n      <td>0</td>\n      <td>0</td>\n      <td>1</td>\n      <td>0</td>\n      <td>0</td>\n      <td>0</td>\n    </tr>\n  </tbody>\n</table>\n<p>5 rows × 227 columns</p>\n</div>"
     },
     "metadata": {}
    }
   ]
  },
  {
   "cell_type": "markdown",
   "source": [
    "##### Converting the dataframes to a Dask array. "
   ],
   "metadata": {
    "collapsed": false,
    "pycharm": {
     "name": "#%% md\n"
    }
   }
  },
  {
   "cell_type": "code",
   "source": [
    "main_X = df_subset.drop(['HasDetections', 'MachineIdentifier'], axis=1).to_dask_array(lengths=True)\n",
    "main_y = df_subset['HasDetections'].to_dask_array(lengths=True)"
   ],
   "metadata": {
    "execution": {
     "iopub.status.busy": "2021-12-03T08:52:28.052857Z",
     "iopub.execute_input": "2021-12-03T08:52:28.053426Z",
     "iopub.status.idle": "2021-12-03T08:53:40.657170Z",
     "shell.execute_reply.started": "2021-12-03T08:52:28.053379Z",
     "shell.execute_reply": "2021-12-03T08:53:40.656335Z"
    },
    "trusted": true
   },
   "execution_count": 11,
   "outputs": []
  },
  {
   "cell_type": "code",
   "source": [
    "test_X = test_df.drop(['MachineIdentifier'], axis=1).to_dask_array(lengths=True)"
   ],
   "metadata": {
    "execution": {
     "iopub.status.busy": "2021-12-03T08:53:40.658668Z",
     "iopub.execute_input": "2021-12-03T08:53:40.659373Z",
     "iopub.status.idle": "2021-12-03T08:54:00.519829Z",
     "shell.execute_reply.started": "2021-12-03T08:53:40.659323Z",
     "shell.execute_reply": "2021-12-03T08:54:00.514262Z"
    },
    "trusted": true
   },
   "execution_count": 12,
   "outputs": []
  },
  {
   "cell_type": "markdown",
   "source": [
    "# Scaling"
   ],
   "metadata": {}
  },
  {
   "cell_type": "code",
   "source": [
    "#SCALING NOT WORKING\n",
    "# from dask_ml.preprocessing import StandardScaler\n",
    "# scalar = StandardScaler()\n",
    "# scalar.fit_transform(main_X)"
   ],
   "metadata": {
    "execution": {
     "iopub.status.busy": "2021-12-03T08:54:00.523672Z",
     "iopub.execute_input": "2021-12-03T08:54:00.524983Z",
     "iopub.status.idle": "2021-12-03T08:54:00.529257Z",
     "shell.execute_reply.started": "2021-12-03T08:54:00.524932Z",
     "shell.execute_reply": "2021-12-03T08:54:00.528558Z"
    },
    "trusted": true
   },
   "execution_count": 13,
   "outputs": []
  },
  {
   "cell_type": "code",
   "source": [],
   "metadata": {
    "trusted": true
   },
   "execution_count": null,
   "outputs": []
  },
  {
   "cell_type": "code",
   "source": [
    "import dask_ml.model_selection as dcv"
   ],
   "metadata": {
    "execution": {
     "iopub.status.busy": "2021-12-03T08:54:00.534519Z",
     "iopub.execute_input": "2021-12-03T08:54:00.535249Z",
     "iopub.status.idle": "2021-12-03T08:54:00.593383Z",
     "shell.execute_reply.started": "2021-12-03T08:54:00.535207Z",
     "shell.execute_reply": "2021-12-03T08:54:00.592664Z"
    },
    "trusted": true
   },
   "execution_count": 14,
   "outputs": []
  },
  {
   "cell_type": "code",
   "source": [
    "from dask_ml.model_selection import train_test_split"
   ],
   "metadata": {
    "execution": {
     "iopub.status.busy": "2021-12-03T08:54:00.594774Z",
     "iopub.execute_input": "2021-12-03T08:54:00.595535Z",
     "iopub.status.idle": "2021-12-03T08:54:00.600807Z",
     "shell.execute_reply.started": "2021-12-03T08:54:00.595471Z",
     "shell.execute_reply": "2021-12-03T08:54:00.599478Z"
    },
    "trusted": true
   },
   "execution_count": 15,
   "outputs": []
  },
  {
   "cell_type": "code",
   "source": [
    "X_train, X_test, y_train, y_test = train_test_split(main_X, main_y, test_size = 0.3, random_state = 42)"
   ],
   "metadata": {
    "execution": {
     "iopub.status.busy": "2021-12-03T08:54:00.602713Z",
     "iopub.execute_input": "2021-12-03T08:54:00.603109Z",
     "iopub.status.idle": "2021-12-03T08:54:00.754241Z",
     "shell.execute_reply.started": "2021-12-03T08:54:00.603065Z",
     "shell.execute_reply": "2021-12-03T08:54:00.752070Z"
    },
    "trusted": true
   },
   "execution_count": 16,
   "outputs": []
  },
  {
   "cell_type": "code",
   "source": [
    "# X_train"
   ],
   "metadata": {
    "execution": {
     "iopub.status.busy": "2021-12-03T08:54:00.755907Z",
     "iopub.execute_input": "2021-12-03T08:54:00.756187Z",
     "iopub.status.idle": "2021-12-03T08:54:00.762771Z",
     "shell.execute_reply.started": "2021-12-03T08:54:00.756153Z",
     "shell.execute_reply": "2021-12-03T08:54:00.761363Z"
    },
    "trusted": true
   },
   "execution_count": 17,
   "outputs": []
  },
  {
   "cell_type": "code",
   "source": [
    "# X_test"
   ],
   "metadata": {
    "execution": {
     "iopub.status.busy": "2021-12-03T08:54:00.764913Z",
     "iopub.execute_input": "2021-12-03T08:54:00.765317Z",
     "iopub.status.idle": "2021-12-03T08:54:00.775924Z",
     "shell.execute_reply.started": "2021-12-03T08:54:00.765267Z",
     "shell.execute_reply": "2021-12-03T08:54:00.775237Z"
    },
    "trusted": true
   },
   "execution_count": 18,
   "outputs": []
  },
  {
   "cell_type": "markdown",
   "source": [
    "# SGD classifier"
   ],
   "metadata": {}
  },
  {
   "cell_type": "code",
   "source": [
    "from dask_ml.wrappers import Incremental\n",
    "from sklearn.linear_model import SGDClassifier"
   ],
   "metadata": {
    "execution": {
     "iopub.status.busy": "2021-12-03T08:54:00.777240Z",
     "iopub.execute_input": "2021-12-03T08:54:00.778464Z",
     "iopub.status.idle": "2021-12-03T08:54:00.788751Z",
     "shell.execute_reply.started": "2021-12-03T08:54:00.778417Z",
     "shell.execute_reply": "2021-12-03T08:54:00.787814Z"
    },
    "trusted": true
   },
   "execution_count": 19,
   "outputs": []
  },
  {
   "cell_type": "code",
   "source": [
    "from dask_ml.xgboost import XGBClassifier"
   ],
   "metadata": {
    "execution": {
     "iopub.status.busy": "2021-12-03T08:57:29.597080Z",
     "iopub.execute_input": "2021-12-03T08:57:29.597829Z",
     "iopub.status.idle": "2021-12-03T08:57:29.607165Z",
     "shell.execute_reply.started": "2021-12-03T08:57:29.597770Z",
     "shell.execute_reply": "2021-12-03T08:57:29.605862Z"
    },
    "trusted": true
   },
   "execution_count": 24,
   "outputs": []
  },
  {
   "cell_type": "markdown",
   "source": [
    "##### Choosing the best hyperparameters, obtained from fine-tuning. "
   ],
   "metadata": {
    "collapsed": false,
    "pycharm": {
     "name": "#%% md\n"
    }
   }
  },
  {
   "cell_type": "code",
   "source": [
    "params = {'objective': 'binary:logistic',\n",
    "          'max_depth': 4, 'eta': 0.01, 'subsample': 0.5,\n",
    "          'min_child_weight': 0.5}\n",
    "\n",
    "clf = XGBClassifier()\n",
    "clf.fit(main_X, main_y)"
   ],
   "metadata": {
    "execution": {
     "iopub.status.busy": "2021-12-03T08:57:29.610463Z",
     "iopub.execute_input": "2021-12-03T08:57:29.613092Z"
    },
    "trusted": true
   },
   "execution_count": null,
   "outputs": [
    {
     "name": "stderr",
     "text": "distributed.nanny - WARNING - Worker exceeded 95% memory budget. Restarting\ndistributed.nanny - WARNING - Restarting worker\ndistributed.nanny - WARNING - Worker exceeded 95% memory budget. Restarting\ndistributed.nanny - WARNING - Restarting worker\ndistributed.nanny - WARNING - Worker exceeded 95% memory budget. Restarting\ndistributed.nanny - WARNING - Restarting worker\ndistributed.nanny - WARNING - Worker exceeded 95% memory budget. Restarting\ndistributed.nanny - WARNING - Restarting worker\n",
     "output_type": "stream"
    }
   ]
  },
  {
   "cell_type": "code",
   "source": "y_pred = clf.predict(X_test)\nprint('Accuracy Score: ', (accuracy_score(y_test, y_pred)))\nprint('ROC-AUC score: ', metrics.roc_auc_score(y_test, y_pred))",
   "metadata": {
    "trusted": true
   },
   "execution_count": null,
   "outputs": []
  },
  {
   "cell_type": "code",
   "source": "#kaggle_test_X = test_df.drop(columns=\"MachineIdentifier\")\nkaggle_test_yhat = clf.predict_proba(test_X)\n#kaggle_test_yhat = clf.predict_proba(kaggle_test_X)\n#kaggle_test_yhat = clf.predict_proba(kaggle_test_X)[:, -1] # predicting the probabilities\ntest_df[\"HasDetections\"] = kaggle_test_yhat\nto_submit = test_df[[\"MachineIdentifier\", \"HasDetections\"]]\nto_submit.to_csv(\"class-sgd.csv\", single_file=True, index=False)",
   "metadata": {
    "trusted": true
   },
   "execution_count": null,
   "outputs": []
  },
  {
   "cell_type": "code",
   "source": "sorted(clf.cv_results_.keys())",
   "metadata": {
    "trusted": true
   },
   "execution_count": null,
   "outputs": []
  },
  {
   "cell_type": "code",
   "source": "",
   "metadata": {},
   "execution_count": null,
   "outputs": []
  }
 ]
}